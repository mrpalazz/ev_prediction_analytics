{
 "cells": [
  {
   "cell_type": "markdown",
   "metadata": {},
   "source": [
    "# Exploratory Data Analysis (EDA)\n",
    "## EV Survey "
   ]
  },
  {
   "cell_type": "code",
   "execution_count": 1,
   "metadata": {},
   "outputs": [],
   "source": [
    "import pandas as pd\n",
    "import seaborn as sns\n",
    "import matplotlib.pyplot as plt\n",
    "from pandas_profiling import ProfileReport\n",
    "import numpy as np\n",
    "#------------------------\n",
    "from sklearn.preprocessing import OrdinalEncoder\n",
    "from sklearn.model_selection import train_test_split\n",
    "from sklearn.metrics import precision_recall_curve\n",
    "from sklearn.metrics import f1_score\n",
    "from sklearn.metrics import auc\n",
    "from sklearn.linear_model import LogisticRegression\n",
    "from matplotlib import pyplot\n",
    "from sklearn.metrics import precision_recall_curve\n",
    "from sklearn.metrics import f1_score\n",
    "from sklearn.metrics import auc\n",
    "from sklearn.linear_model import LogisticRegression\n",
    "from sklearn.metrics import classification_report,confusion_matrix,roc_curve,roc_auc_score\n",
    "from sklearn.metrics import accuracy_score,log_loss\n",
    "from sklearn.ensemble import RandomForestClassifier\n",
    "from sklearn import preprocessing\n",
    "#-------------------------\n",
    "from os import listdir\n",
    "from os.path import isfile, join\n",
    "\n",
    "import os \n",
    "from pathlib import Path"
   ]
  },
  {
   "cell_type": "markdown",
   "metadata": {},
   "source": [
    "Objective\n",
    "* Evaluate feature relationships\n",
    "* Evaluate statistical relationship strengths using Pearson or other method"
   ]
  },
  {
   "cell_type": "code",
   "execution_count": 2,
   "metadata": {},
   "outputs": [],
   "source": [
    "def seabornhist(size=(10,10), data=None, hue_c=None, x=None):\n",
    "    fig, ax = plt.subplots(figsize=size)\n",
    "    ax = sns.histplot(x=x, data= data, hue = hue_c, ax=ax)\n",
    "    plt.show()\n",
    "    return\n",
    "\n",
    "def seaborncount(size=(10,10), data=None, hue_c=None, x=None):\n",
    "    fig, ax = plt.subplots(figsize=size)\n",
    "    ax = sns.countplot(x=x, data= data, hue = hue_c, ax=ax)\n",
    "    plt.show()\n",
    "    return"
   ]
  },
  {
   "cell_type": "code",
   "execution_count": 3,
   "metadata": {},
   "outputs": [],
   "source": [
    "#collect info about current working directory and the location of the raw data pickle files\n",
    "\n",
    "wd = Path(os.getcwd())\n",
    "parent_dir = wd.parent.absolute()"
   ]
  },
  {
   "cell_type": "code",
   "execution_count": 4,
   "metadata": {},
   "outputs": [],
   "source": [
    "#Data for the EV survey\n",
    "filename = \"ev_survey_wrangled_hasna.pkl\"\n",
    "filepath = f\"{wd}\\\\{filename}\"\n",
    "ev_survey_wrangled_hasna = pd.read_pickle(filepath)"
   ]
  },
  {
   "cell_type": "code",
   "execution_count": 5,
   "metadata": {},
   "outputs": [
    {
     "data": {
      "text/html": [
       "<div>\n",
       "<style scoped>\n",
       "    .dataframe tbody tr th:only-of-type {\n",
       "        vertical-align: middle;\n",
       "    }\n",
       "\n",
       "    .dataframe tbody tr th {\n",
       "        vertical-align: top;\n",
       "    }\n",
       "\n",
       "    .dataframe thead th {\n",
       "        text-align: right;\n",
       "    }\n",
       "</style>\n",
       "<table border=\"1\" class=\"dataframe\">\n",
       "  <thead>\n",
       "    <tr style=\"text-align: right;\">\n",
       "      <th></th>\n",
       "      <th>response_id</th>\n",
       "      <th>year_submitted_survey_2</th>\n",
       "      <th>months_owned</th>\n",
       "      <th>model_year</th>\n",
       "      <th>Make</th>\n",
       "      <th>Model</th>\n",
       "      <th>electric_range</th>\n",
       "      <th>ev_type</th>\n",
       "      <th>discontinuance</th>\n",
       "      <th>surveyed_age</th>\n",
       "      <th>...</th>\n",
       "      <th>reliability_satisfaction</th>\n",
       "      <th>range_satisfaction</th>\n",
       "      <th>charge_access_satisfaction</th>\n",
       "      <th>adas_satisfaction</th>\n",
       "      <th>household_income</th>\n",
       "      <th>home_charge_type</th>\n",
       "      <th>work_charge_type</th>\n",
       "      <th>highest_charge_used</th>\n",
       "      <th>backup_vehicle_mpg</th>\n",
       "      <th>finance_type</th>\n",
       "    </tr>\n",
       "  </thead>\n",
       "  <tbody>\n",
       "    <tr>\n",
       "      <th>0</th>\n",
       "      <td>1.0</td>\n",
       "      <td>2019.0</td>\n",
       "      <td>24.0</td>\n",
       "      <td>2016</td>\n",
       "      <td>bmw</td>\n",
       "      <td>i3</td>\n",
       "      <td>81.0</td>\n",
       "      <td>phev</td>\n",
       "      <td>continued</td>\n",
       "      <td>25.0</td>\n",
       "      <td>...</td>\n",
       "      <td>5.0</td>\n",
       "      <td>5.0</td>\n",
       "      <td>5.0</td>\n",
       "      <td>5.0</td>\n",
       "      <td>$150,000 to $199,999</td>\n",
       "      <td>no charging</td>\n",
       "      <td>no charging</td>\n",
       "      <td>level 2</td>\n",
       "      <td>25.0</td>\n",
       "      <td>1.0</td>\n",
       "    </tr>\n",
       "    <tr>\n",
       "      <th>6</th>\n",
       "      <td>7.0</td>\n",
       "      <td>2019.0</td>\n",
       "      <td>14.0</td>\n",
       "      <td>2016</td>\n",
       "      <td>fiat</td>\n",
       "      <td>500e</td>\n",
       "      <td>87.0</td>\n",
       "      <td>bev</td>\n",
       "      <td>continued</td>\n",
       "      <td>35.0</td>\n",
       "      <td>...</td>\n",
       "      <td>4.0</td>\n",
       "      <td>1.0</td>\n",
       "      <td>3.0</td>\n",
       "      <td>3.0</td>\n",
       "      <td>$50,000 to $99,999</td>\n",
       "      <td>level 1</td>\n",
       "      <td>no charging</td>\n",
       "      <td>level 2</td>\n",
       "      <td>82.0</td>\n",
       "      <td>1.0</td>\n",
       "    </tr>\n",
       "    <tr>\n",
       "      <th>9</th>\n",
       "      <td>11.0</td>\n",
       "      <td>2019.0</td>\n",
       "      <td>48.0</td>\n",
       "      <td>2015</td>\n",
       "      <td>nissan</td>\n",
       "      <td>leaf</td>\n",
       "      <td>84.0</td>\n",
       "      <td>bev</td>\n",
       "      <td>discontinued</td>\n",
       "      <td>55.0</td>\n",
       "      <td>...</td>\n",
       "      <td>3.0</td>\n",
       "      <td>1.0</td>\n",
       "      <td>2.0</td>\n",
       "      <td>1.0</td>\n",
       "      <td>i prefer not to answer</td>\n",
       "      <td>level 1</td>\n",
       "      <td>no charging</td>\n",
       "      <td>no charging</td>\n",
       "      <td>24.0</td>\n",
       "      <td>1.0</td>\n",
       "    </tr>\n",
       "    <tr>\n",
       "      <th>10</th>\n",
       "      <td>12.0</td>\n",
       "      <td>2019.0</td>\n",
       "      <td>30.0</td>\n",
       "      <td>2015</td>\n",
       "      <td>bmw</td>\n",
       "      <td>i3</td>\n",
       "      <td>81.0</td>\n",
       "      <td>phev</td>\n",
       "      <td>continued</td>\n",
       "      <td>55.0</td>\n",
       "      <td>...</td>\n",
       "      <td>5.0</td>\n",
       "      <td>2.0</td>\n",
       "      <td>3.0</td>\n",
       "      <td>3.0</td>\n",
       "      <td>$100,000 to $149,999</td>\n",
       "      <td>level 2</td>\n",
       "      <td>level 1</td>\n",
       "      <td>no charging</td>\n",
       "      <td>34.0</td>\n",
       "      <td>1.0</td>\n",
       "    </tr>\n",
       "    <tr>\n",
       "      <th>11</th>\n",
       "      <td>13.0</td>\n",
       "      <td>2019.0</td>\n",
       "      <td>31.0</td>\n",
       "      <td>2016</td>\n",
       "      <td>volkswagen</td>\n",
       "      <td>e-golf</td>\n",
       "      <td>84.0</td>\n",
       "      <td>bev</td>\n",
       "      <td>continued</td>\n",
       "      <td>35.0</td>\n",
       "      <td>...</td>\n",
       "      <td>5.0</td>\n",
       "      <td>2.0</td>\n",
       "      <td>4.0</td>\n",
       "      <td>2.0</td>\n",
       "      <td>$150,000 to $199,999</td>\n",
       "      <td>level 1</td>\n",
       "      <td>level 1</td>\n",
       "      <td>level 1 &amp; level 2</td>\n",
       "      <td>NaN</td>\n",
       "      <td>1.0</td>\n",
       "    </tr>\n",
       "  </tbody>\n",
       "</table>\n",
       "<p>5 rows × 29 columns</p>\n",
       "</div>"
      ],
      "text/plain": [
       "    response_id  year_submitted_survey_2  months_owned model_year        Make  \\\n",
       "0           1.0                   2019.0          24.0       2016         bmw   \n",
       "6           7.0                   2019.0          14.0       2016        fiat   \n",
       "9          11.0                   2019.0          48.0       2015      nissan   \n",
       "10         12.0                   2019.0          30.0       2015         bmw   \n",
       "11         13.0                   2019.0          31.0       2016  volkswagen   \n",
       "\n",
       "     Model  electric_range ev_type discontinuance  surveyed_age  ...  \\\n",
       "0       i3            81.0    phev      continued          25.0  ...   \n",
       "6     500e            87.0     bev      continued          35.0  ...   \n",
       "9     leaf            84.0     bev   discontinued          55.0  ...   \n",
       "10      i3            81.0    phev      continued          55.0  ...   \n",
       "11  e-golf            84.0     bev      continued          35.0  ...   \n",
       "\n",
       "   reliability_satisfaction  range_satisfaction  charge_access_satisfaction  \\\n",
       "0                       5.0                 5.0                         5.0   \n",
       "6                       4.0                 1.0                         3.0   \n",
       "9                       3.0                 1.0                         2.0   \n",
       "10                      5.0                 2.0                         3.0   \n",
       "11                      5.0                 2.0                         4.0   \n",
       "\n",
       "    adas_satisfaction        household_income  home_charge_type  \\\n",
       "0                 5.0    $150,000 to $199,999       no charging   \n",
       "6                 3.0      $50,000 to $99,999           level 1   \n",
       "9                 1.0  i prefer not to answer           level 1   \n",
       "10                3.0    $100,000 to $149,999           level 2   \n",
       "11                2.0    $150,000 to $199,999           level 1   \n",
       "\n",
       "    work_charge_type  highest_charge_used  backup_vehicle_mpg  finance_type  \n",
       "0        no charging              level 2                25.0           1.0  \n",
       "6        no charging              level 2                82.0           1.0  \n",
       "9        no charging          no charging                24.0           1.0  \n",
       "10           level 1          no charging                34.0           1.0  \n",
       "11           level 1    level 1 & level 2                 NaN           1.0  \n",
       "\n",
       "[5 rows x 29 columns]"
      ]
     },
     "execution_count": 5,
     "metadata": {},
     "output_type": "execute_result"
    }
   ],
   "source": [
    "ev_survey_wrangled_hasna.head()"
   ]
  },
  {
   "cell_type": "code",
   "execution_count": 6,
   "metadata": {},
   "outputs": [],
   "source": [
    "# Make a pairplot of the ev survey data\n",
    "#sns.pairplot(ev_survey_wrangled_hasna, kind='scatter')"
   ]
  },
  {
   "cell_type": "code",
   "execution_count": 7,
   "metadata": {},
   "outputs": [],
   "source": [
    "# It's clear that this approach to build a pairplot will not be useful as the dataset\n",
    "# is comprised primarily of categorical variables"
   ]
  },
  {
   "cell_type": "code",
   "execution_count": 8,
   "metadata": {
    "scrolled": false
   },
   "outputs": [
    {
     "data": {
      "image/png": "[encoded data removed]",
      "text/plain": [
       "<Figure size 720x720 with 1 Axes>"
      ]
     },
     "metadata": {
      "needs_background": "light"
     },
     "output_type": "display_data"
    }
   ],
   "source": [
    "seabornhist(size=(10,10), data=ev_survey_wrangled_hasna, hue_c='discontinuance', x='surveyed_age')\n",
    "plt.show()\n",
    "\n"
   ]
  },
  {
   "cell_type": "code",
   "execution_count": 9,
   "metadata": {},
   "outputs": [
    {
     "data": {
      "image/png": "[encoded data removed]",
      "text/plain": [
       "<Figure size 720x720 with 1 Axes>"
      ]
     },
     "metadata": {
      "needs_background": "light"
     },
     "output_type": "display_data"
    }
   ],
   "source": [
    "seabornhist(size=(10,10), data=ev_survey_wrangled_hasna, hue_c='discontinuance', x='reliability_satisfaction')\n",
    "plt.show()"
   ]
  },
  {
   "cell_type": "code",
   "execution_count": 10,
   "metadata": {},
   "outputs": [
    {
     "data": {
      "image/png": "[encoded data removed]",
      "text/plain": [
       "<Figure size 720x720 with 1 Axes>"
      ]
     },
     "metadata": {
      "needs_background": "light"
     },
     "output_type": "display_data"
    }
   ],
   "source": [
    "seabornhist(size=(10,10), data=ev_survey_wrangled_hasna, hue_c='discontinuance', x='range_satisfaction')\n",
    "plt.show()"
   ]
  },
  {
   "cell_type": "code",
   "execution_count": 11,
   "metadata": {
    "scrolled": false
   },
   "outputs": [
    {
     "data": {
      "image/png": "[encoded data removed]",
      "text/plain": [
       "<Figure size 720x720 with 1 Axes>"
      ]
     },
     "metadata": {
      "needs_background": "light"
     },
     "output_type": "display_data"
    }
   ],
   "source": [
    "seabornhist(size=(10,10), data=ev_survey_wrangled_hasna, hue_c='discontinuance', x='finance_type')\n",
    "plt.show()"
   ]
  },
  {
   "cell_type": "code",
   "execution_count": 12,
   "metadata": {
    "scrolled": false
   },
   "outputs": [
    {
     "data": {
      "image/png": "[encoded data removed]",
      "text/plain": [
       "<Figure size 720x720 with 1 Axes>"
      ]
     },
     "metadata": {
      "needs_background": "light"
     },
     "output_type": "display_data"
    }
   ],
   "source": [
    "seabornhist(size=(10,10), data=ev_survey_wrangled_hasna, hue_c='finance_type', x='months_owned')\n",
    "plt.show()"
   ]
  },
  {
   "cell_type": "code",
   "execution_count": 13,
   "metadata": {},
   "outputs": [
    {
     "data": {
      "image/png": "[encoded data removed]",
      "text/plain": [
       "<Figure size 720x720 with 1 Axes>"
      ]
     },
     "metadata": {
      "needs_background": "light"
     },
     "output_type": "display_data"
    }
   ],
   "source": [
    "seabornhist(size=(10,10), data=ev_survey_wrangled_hasna, hue_c ='discontinuance', x='range_satisfaction')\n",
    "plt.show()"
   ]
  },
  {
   "cell_type": "code",
   "execution_count": 14,
   "metadata": {},
   "outputs": [
    {
     "data": {
      "image/png": "[encoded data removed]",
      "text/plain": [
       "<Figure size 720x720 with 1 Axes>"
      ]
     },
     "metadata": {
      "needs_background": "light"
     },
     "output_type": "display_data"
    }
   ],
   "source": [
    "seabornhist(size=(10,10), data=ev_survey_wrangled_hasna, hue_c ='discontinuance', x='electric_range')\n",
    "plt.show()"
   ]
  },
  {
   "cell_type": "code",
   "execution_count": 15,
   "metadata": {},
   "outputs": [
    {
     "data": {
      "image/png": "[encoded data removed]",
      "text/plain": [
       "<Figure size 720x720 with 1 Axes>"
      ]
     },
     "metadata": {
      "needs_background": "light"
     },
     "output_type": "display_data"
    }
   ],
   "source": [
    "seabornhist(size=(10,10), data=ev_survey_wrangled_hasna, hue_c = 'ev_type', x='months_owned')"
   ]
  },
  {
   "cell_type": "code",
   "execution_count": 16,
   "metadata": {},
   "outputs": [
    {
     "data": {
      "image/png": "[encoded data removed]",
      "text/plain": [
       "<Figure size 432x288 with 1 Axes>"
      ]
     },
     "metadata": {
      "needs_background": "light"
     },
     "output_type": "display_data"
    }
   ],
   "source": [
    "\n",
    "ax = sns.stripplot(data=ev_survey_wrangled_hasna,\n",
    "                  x='discontinuance',\n",
    "                  y='backup_vehicle_mpg',\n",
    "                  hue='ev_type',\n",
    "                  jitter=0.25)"
   ]
  },
  {
   "cell_type": "markdown",
   "metadata": {},
   "source": [
    "The results of this plot align if one takes the assumption that the users who discontinue use of an EV will probably not have an EV as a backup vehicle, so seeing more modest mpg ratings is not surprising. "
   ]
  },
  {
   "cell_type": "code",
   "execution_count": 17,
   "metadata": {},
   "outputs": [
    {
     "data": {
      "text/html": [
       "<div>\n",
       "<style scoped>\n",
       "    .dataframe tbody tr th:only-of-type {\n",
       "        vertical-align: middle;\n",
       "    }\n",
       "\n",
       "    .dataframe tbody tr th {\n",
       "        vertical-align: top;\n",
       "    }\n",
       "\n",
       "    .dataframe thead th {\n",
       "        text-align: right;\n",
       "    }\n",
       "</style>\n",
       "<table border=\"1\" class=\"dataframe\">\n",
       "  <thead>\n",
       "    <tr style=\"text-align: right;\">\n",
       "      <th></th>\n",
       "      <th>response_id</th>\n",
       "      <th>year_submitted_survey_2</th>\n",
       "      <th>months_owned</th>\n",
       "      <th>electric_range</th>\n",
       "      <th>surveyed_age</th>\n",
       "      <th>dist_1</th>\n",
       "      <th>trips_greater_200</th>\n",
       "      <th>safety_satisfaction</th>\n",
       "      <th>comfort_satisfaction</th>\n",
       "      <th>refuel_recharge_satisfaction</th>\n",
       "      <th>performance_satisfaction</th>\n",
       "      <th>env_impact_satisfaction</th>\n",
       "      <th>purch_price_satisfaction</th>\n",
       "      <th>reliability_satisfaction</th>\n",
       "      <th>range_satisfaction</th>\n",
       "      <th>charge_access_satisfaction</th>\n",
       "      <th>adas_satisfaction</th>\n",
       "      <th>backup_vehicle_mpg</th>\n",
       "      <th>finance_type</th>\n",
       "    </tr>\n",
       "  </thead>\n",
       "  <tbody>\n",
       "    <tr>\n",
       "      <th>count</th>\n",
       "      <td>1947.000000</td>\n",
       "      <td>1947.0</td>\n",
       "      <td>1851.000000</td>\n",
       "      <td>1946.000000</td>\n",
       "      <td>1872.000000</td>\n",
       "      <td>1615.000000</td>\n",
       "      <td>1947.000000</td>\n",
       "      <td>1753.000000</td>\n",
       "      <td>1753.000000</td>\n",
       "      <td>1753.000000</td>\n",
       "      <td>1753.000000</td>\n",
       "      <td>1753.000000</td>\n",
       "      <td>1753.000000</td>\n",
       "      <td>1753.000000</td>\n",
       "      <td>1753.000000</td>\n",
       "      <td>1753.000000</td>\n",
       "      <td>1753.000000</td>\n",
       "      <td>1587.000000</td>\n",
       "      <td>1947.000000</td>\n",
       "    </tr>\n",
       "    <tr>\n",
       "      <th>mean</th>\n",
       "      <td>2595.751926</td>\n",
       "      <td>2019.0</td>\n",
       "      <td>39.679633</td>\n",
       "      <td>89.323227</td>\n",
       "      <td>55.137821</td>\n",
       "      <td>19.769337</td>\n",
       "      <td>0.223934</td>\n",
       "      <td>4.463776</td>\n",
       "      <td>4.290930</td>\n",
       "      <td>4.576155</td>\n",
       "      <td>4.313748</td>\n",
       "      <td>4.661152</td>\n",
       "      <td>4.046777</td>\n",
       "      <td>4.435254</td>\n",
       "      <td>2.896178</td>\n",
       "      <td>3.948089</td>\n",
       "      <td>3.737022</td>\n",
       "      <td>34.643352</td>\n",
       "      <td>0.727273</td>\n",
       "    </tr>\n",
       "    <tr>\n",
       "      <th>std</th>\n",
       "      <td>1413.889852</td>\n",
       "      <td>0.0</td>\n",
       "      <td>14.374433</td>\n",
       "      <td>74.423045</td>\n",
       "      <td>12.908394</td>\n",
       "      <td>68.279562</td>\n",
       "      <td>2.731978</td>\n",
       "      <td>0.845330</td>\n",
       "      <td>0.968578</td>\n",
       "      <td>0.877836</td>\n",
       "      <td>1.014574</td>\n",
       "      <td>0.703353</td>\n",
       "      <td>1.101619</td>\n",
       "      <td>1.000828</td>\n",
       "      <td>1.389603</td>\n",
       "      <td>1.216392</td>\n",
       "      <td>1.177163</td>\n",
       "      <td>24.698563</td>\n",
       "      <td>0.445476</td>\n",
       "    </tr>\n",
       "    <tr>\n",
       "      <th>min</th>\n",
       "      <td>1.000000</td>\n",
       "      <td>2019.0</td>\n",
       "      <td>-31.000000</td>\n",
       "      <td>11.000000</td>\n",
       "      <td>18.000000</td>\n",
       "      <td>0.070000</td>\n",
       "      <td>0.000000</td>\n",
       "      <td>1.000000</td>\n",
       "      <td>1.000000</td>\n",
       "      <td>1.000000</td>\n",
       "      <td>1.000000</td>\n",
       "      <td>1.000000</td>\n",
       "      <td>1.000000</td>\n",
       "      <td>1.000000</td>\n",
       "      <td>1.000000</td>\n",
       "      <td>1.000000</td>\n",
       "      <td>1.000000</td>\n",
       "      <td>10.000000</td>\n",
       "      <td>0.000000</td>\n",
       "    </tr>\n",
       "    <tr>\n",
       "      <th>25%</th>\n",
       "      <td>1376.000000</td>\n",
       "      <td>2019.0</td>\n",
       "      <td>33.000000</td>\n",
       "      <td>53.000000</td>\n",
       "      <td>45.000000</td>\n",
       "      <td>5.285000</td>\n",
       "      <td>0.000000</td>\n",
       "      <td>4.000000</td>\n",
       "      <td>4.000000</td>\n",
       "      <td>5.000000</td>\n",
       "      <td>4.000000</td>\n",
       "      <td>5.000000</td>\n",
       "      <td>3.000000</td>\n",
       "      <td>4.000000</td>\n",
       "      <td>2.000000</td>\n",
       "      <td>3.000000</td>\n",
       "      <td>3.000000</td>\n",
       "      <td>24.000000</td>\n",
       "      <td>0.000000</td>\n",
       "    </tr>\n",
       "    <tr>\n",
       "      <th>50%</th>\n",
       "      <td>2724.000000</td>\n",
       "      <td>2019.0</td>\n",
       "      <td>36.000000</td>\n",
       "      <td>84.000000</td>\n",
       "      <td>55.000000</td>\n",
       "      <td>12.110000</td>\n",
       "      <td>0.000000</td>\n",
       "      <td>5.000000</td>\n",
       "      <td>5.000000</td>\n",
       "      <td>5.000000</td>\n",
       "      <td>5.000000</td>\n",
       "      <td>5.000000</td>\n",
       "      <td>4.000000</td>\n",
       "      <td>5.000000</td>\n",
       "      <td>2.000000</td>\n",
       "      <td>4.000000</td>\n",
       "      <td>4.000000</td>\n",
       "      <td>24.000000</td>\n",
       "      <td>1.000000</td>\n",
       "    </tr>\n",
       "    <tr>\n",
       "      <th>75%</th>\n",
       "      <td>3744.500000</td>\n",
       "      <td>2019.0</td>\n",
       "      <td>46.000000</td>\n",
       "      <td>84.000000</td>\n",
       "      <td>65.000000</td>\n",
       "      <td>22.085000</td>\n",
       "      <td>0.000000</td>\n",
       "      <td>5.000000</td>\n",
       "      <td>5.000000</td>\n",
       "      <td>5.000000</td>\n",
       "      <td>5.000000</td>\n",
       "      <td>5.000000</td>\n",
       "      <td>5.000000</td>\n",
       "      <td>5.000000</td>\n",
       "      <td>4.000000</td>\n",
       "      <td>5.000000</td>\n",
       "      <td>5.000000</td>\n",
       "      <td>34.000000</td>\n",
       "      <td>1.000000</td>\n",
       "    </tr>\n",
       "    <tr>\n",
       "      <th>max</th>\n",
       "      <td>5022.000000</td>\n",
       "      <td>2019.0</td>\n",
       "      <td>109.000000</td>\n",
       "      <td>310.000000</td>\n",
       "      <td>80.000000</td>\n",
       "      <td>1992.600000</td>\n",
       "      <td>100.000000</td>\n",
       "      <td>5.000000</td>\n",
       "      <td>5.000000</td>\n",
       "      <td>5.000000</td>\n",
       "      <td>5.000000</td>\n",
       "      <td>5.000000</td>\n",
       "      <td>5.000000</td>\n",
       "      <td>5.000000</td>\n",
       "      <td>5.000000</td>\n",
       "      <td>5.000000</td>\n",
       "      <td>5.000000</td>\n",
       "      <td>126.000000</td>\n",
       "      <td>1.000000</td>\n",
       "    </tr>\n",
       "  </tbody>\n",
       "</table>\n",
       "</div>"
      ],
      "text/plain": [
       "       response_id  year_submitted_survey_2  months_owned  electric_range  \\\n",
       "count  1947.000000                   1947.0   1851.000000     1946.000000   \n",
       "mean   2595.751926                   2019.0     39.679633       89.323227   \n",
       "std    1413.889852                      0.0     14.374433       74.423045   \n",
       "min       1.000000                   2019.0    -31.000000       11.000000   \n",
       "25%    1376.000000                   2019.0     33.000000       53.000000   \n",
       "50%    2724.000000                   2019.0     36.000000       84.000000   \n",
       "75%    3744.500000                   2019.0     46.000000       84.000000   \n",
       "max    5022.000000                   2019.0    109.000000      310.000000   \n",
       "\n",
       "       surveyed_age       dist_1  trips_greater_200  safety_satisfaction  \\\n",
       "count   1872.000000  1615.000000        1947.000000          1753.000000   \n",
       "mean      55.137821    19.769337           0.223934             4.463776   \n",
       "std       12.908394    68.279562           2.731978             0.845330   \n",
       "min       18.000000     0.070000           0.000000             1.000000   \n",
       "25%       45.000000     5.285000           0.000000             4.000000   \n",
       "50%       55.000000    12.110000           0.000000             5.000000   \n",
       "75%       65.000000    22.085000           0.000000             5.000000   \n",
       "max       80.000000  1992.600000         100.000000             5.000000   \n",
       "\n",
       "       comfort_satisfaction  refuel_recharge_satisfaction  \\\n",
       "count           1753.000000                   1753.000000   \n",
       "mean               4.290930                      4.576155   \n",
       "std                0.968578                      0.877836   \n",
       "min                1.000000                      1.000000   \n",
       "25%                4.000000                      5.000000   \n",
       "50%                5.000000                      5.000000   \n",
       "75%                5.000000                      5.000000   \n",
       "max                5.000000                      5.000000   \n",
       "\n",
       "       performance_satisfaction  env_impact_satisfaction  \\\n",
       "count               1753.000000              1753.000000   \n",
       "mean                   4.313748                 4.661152   \n",
       "std                    1.014574                 0.703353   \n",
       "min                    1.000000                 1.000000   \n",
       "25%                    4.000000                 5.000000   \n",
       "50%                    5.000000                 5.000000   \n",
       "75%                    5.000000                 5.000000   \n",
       "max                    5.000000                 5.000000   \n",
       "\n",
       "       purch_price_satisfaction  reliability_satisfaction  range_satisfaction  \\\n",
       "count               1753.000000               1753.000000         1753.000000   \n",
       "mean                   4.046777                  4.435254            2.896178   \n",
       "std                    1.101619                  1.000828            1.389603   \n",
       "min                    1.000000                  1.000000            1.000000   \n",
       "25%                    3.000000                  4.000000            2.000000   \n",
       "50%                    4.000000                  5.000000            2.000000   \n",
       "75%                    5.000000                  5.000000            4.000000   \n",
       "max                    5.000000                  5.000000            5.000000   \n",
       "\n",
       "       charge_access_satisfaction  adas_satisfaction  backup_vehicle_mpg  \\\n",
       "count                 1753.000000        1753.000000         1587.000000   \n",
       "mean                     3.948089           3.737022           34.643352   \n",
       "std                      1.216392           1.177163           24.698563   \n",
       "min                      1.000000           1.000000           10.000000   \n",
       "25%                      3.000000           3.000000           24.000000   \n",
       "50%                      4.000000           4.000000           24.000000   \n",
       "75%                      5.000000           5.000000           34.000000   \n",
       "max                      5.000000           5.000000          126.000000   \n",
       "\n",
       "       finance_type  \n",
       "count   1947.000000  \n",
       "mean       0.727273  \n",
       "std        0.445476  \n",
       "min        0.000000  \n",
       "25%        0.000000  \n",
       "50%        1.000000  \n",
       "75%        1.000000  \n",
       "max        1.000000  "
      ]
     },
     "execution_count": 17,
     "metadata": {},
     "output_type": "execute_result"
    }
   ],
   "source": [
    "ev_survey_wrangled_hasna.describe()"
   ]
  },
  {
   "cell_type": "markdown",
   "metadata": {},
   "source": [
    "Interesting notes:\n",
    "* The months owned has negative values in it which doesn't make sense. ownership cannot be negative.\n",
    "* There is a vehicle with an electric range noted as 11, take a look at that one and see what vehicle it is. \n",
    "* There is a 1 way distance of 0.07 miles, very short. look into this entry more closely.\n",
    "* There is a 1 way distance of 1992 miles, look into this more closely.\n",
    "\n",
    "\n"
   ]
  },
  {
   "cell_type": "code",
   "execution_count": 18,
   "metadata": {},
   "outputs": [
    {
     "data": {
      "text/html": [
       "<div>\n",
       "<style scoped>\n",
       "    .dataframe tbody tr th:only-of-type {\n",
       "        vertical-align: middle;\n",
       "    }\n",
       "\n",
       "    .dataframe tbody tr th {\n",
       "        vertical-align: top;\n",
       "    }\n",
       "\n",
       "    .dataframe thead th {\n",
       "        text-align: right;\n",
       "    }\n",
       "</style>\n",
       "<table border=\"1\" class=\"dataframe\">\n",
       "  <thead>\n",
       "    <tr style=\"text-align: right;\">\n",
       "      <th></th>\n",
       "      <th>response_id</th>\n",
       "      <th>year_submitted_survey_2</th>\n",
       "      <th>months_owned</th>\n",
       "      <th>model_year</th>\n",
       "      <th>Make</th>\n",
       "      <th>Model</th>\n",
       "      <th>electric_range</th>\n",
       "      <th>ev_type</th>\n",
       "      <th>discontinuance</th>\n",
       "      <th>surveyed_age</th>\n",
       "      <th>...</th>\n",
       "      <th>reliability_satisfaction</th>\n",
       "      <th>range_satisfaction</th>\n",
       "      <th>charge_access_satisfaction</th>\n",
       "      <th>adas_satisfaction</th>\n",
       "      <th>household_income</th>\n",
       "      <th>home_charge_type</th>\n",
       "      <th>work_charge_type</th>\n",
       "      <th>highest_charge_used</th>\n",
       "      <th>backup_vehicle_mpg</th>\n",
       "      <th>finance_type</th>\n",
       "    </tr>\n",
       "  </thead>\n",
       "  <tbody>\n",
       "    <tr>\n",
       "      <th>30</th>\n",
       "      <td>30.0</td>\n",
       "      <td>2019.0</td>\n",
       "      <td>NaN</td>\n",
       "      <td>2011</td>\n",
       "      <td>nissan</td>\n",
       "      <td>leaf</td>\n",
       "      <td>84.0</td>\n",
       "      <td>bev</td>\n",
       "      <td>continued</td>\n",
       "      <td>65.0</td>\n",
       "      <td>...</td>\n",
       "      <td>5.0</td>\n",
       "      <td>4.0</td>\n",
       "      <td>5.0</td>\n",
       "      <td>2.0</td>\n",
       "      <td>$150,000 to $199,999</td>\n",
       "      <td>no charging</td>\n",
       "      <td>NaN</td>\n",
       "      <td>NaN</td>\n",
       "      <td>NaN</td>\n",
       "      <td>0.0</td>\n",
       "    </tr>\n",
       "    <tr>\n",
       "      <th>108</th>\n",
       "      <td>113.0</td>\n",
       "      <td>2019.0</td>\n",
       "      <td>NaN</td>\n",
       "      <td>2012</td>\n",
       "      <td>mitsubishi</td>\n",
       "      <td>i-miev</td>\n",
       "      <td>62.0</td>\n",
       "      <td>bev</td>\n",
       "      <td>discontinued</td>\n",
       "      <td>55.0</td>\n",
       "      <td>...</td>\n",
       "      <td>5.0</td>\n",
       "      <td>1.0</td>\n",
       "      <td>1.0</td>\n",
       "      <td>4.0</td>\n",
       "      <td>$100,000 to $149,999</td>\n",
       "      <td>no charging</td>\n",
       "      <td>NaN</td>\n",
       "      <td>NaN</td>\n",
       "      <td>NaN</td>\n",
       "      <td>0.0</td>\n",
       "    </tr>\n",
       "    <tr>\n",
       "      <th>175</th>\n",
       "      <td>180.0</td>\n",
       "      <td>2019.0</td>\n",
       "      <td>NaN</td>\n",
       "      <td>2016</td>\n",
       "      <td>toyota</td>\n",
       "      <td>mirai</td>\n",
       "      <td>300.0</td>\n",
       "      <td>NaN</td>\n",
       "      <td>continued</td>\n",
       "      <td>55.0</td>\n",
       "      <td>...</td>\n",
       "      <td>5.0</td>\n",
       "      <td>2.0</td>\n",
       "      <td>2.0</td>\n",
       "      <td>5.0</td>\n",
       "      <td>$250,000 to $299,999</td>\n",
       "      <td>no charging</td>\n",
       "      <td>NaN</td>\n",
       "      <td>NaN</td>\n",
       "      <td>NaN</td>\n",
       "      <td>0.0</td>\n",
       "    </tr>\n",
       "    <tr>\n",
       "      <th>238</th>\n",
       "      <td>245.0</td>\n",
       "      <td>2019.0</td>\n",
       "      <td>NaN</td>\n",
       "      <td>2015</td>\n",
       "      <td>hyundai</td>\n",
       "      <td>tucson</td>\n",
       "      <td>300.0</td>\n",
       "      <td>NaN</td>\n",
       "      <td>discontinued</td>\n",
       "      <td>35.0</td>\n",
       "      <td>...</td>\n",
       "      <td>4.0</td>\n",
       "      <td>4.0</td>\n",
       "      <td>1.0</td>\n",
       "      <td>2.0</td>\n",
       "      <td>$250,000 to $299,999</td>\n",
       "      <td>no charging</td>\n",
       "      <td>NaN</td>\n",
       "      <td>NaN</td>\n",
       "      <td>NaN</td>\n",
       "      <td>0.0</td>\n",
       "    </tr>\n",
       "    <tr>\n",
       "      <th>246</th>\n",
       "      <td>254.0</td>\n",
       "      <td>2019.0</td>\n",
       "      <td>NaN</td>\n",
       "      <td>2013</td>\n",
       "      <td>ford</td>\n",
       "      <td>c-max energi</td>\n",
       "      <td>20.0</td>\n",
       "      <td>phev</td>\n",
       "      <td>continued</td>\n",
       "      <td>NaN</td>\n",
       "      <td>...</td>\n",
       "      <td>NaN</td>\n",
       "      <td>NaN</td>\n",
       "      <td>NaN</td>\n",
       "      <td>NaN</td>\n",
       "      <td>NaN</td>\n",
       "      <td>no charging</td>\n",
       "      <td>NaN</td>\n",
       "      <td>NaN</td>\n",
       "      <td>NaN</td>\n",
       "      <td>0.0</td>\n",
       "    </tr>\n",
       "  </tbody>\n",
       "</table>\n",
       "<p>5 rows × 29 columns</p>\n",
       "</div>"
      ],
      "text/plain": [
       "     response_id  year_submitted_survey_2  months_owned model_year  \\\n",
       "30          30.0                   2019.0           NaN       2011   \n",
       "108        113.0                   2019.0           NaN       2012   \n",
       "175        180.0                   2019.0           NaN       2016   \n",
       "238        245.0                   2019.0           NaN       2015   \n",
       "246        254.0                   2019.0           NaN       2013   \n",
       "\n",
       "           Make         Model  electric_range ev_type discontinuance  \\\n",
       "30       nissan          leaf            84.0     bev      continued   \n",
       "108  mitsubishi        i-miev            62.0     bev   discontinued   \n",
       "175      toyota         mirai           300.0     NaN      continued   \n",
       "238     hyundai        tucson           300.0     NaN   discontinued   \n",
       "246        ford  c-max energi            20.0    phev      continued   \n",
       "\n",
       "     surveyed_age  ... reliability_satisfaction  range_satisfaction  \\\n",
       "30           65.0  ...                      5.0                 4.0   \n",
       "108          55.0  ...                      5.0                 1.0   \n",
       "175          55.0  ...                      5.0                 2.0   \n",
       "238          35.0  ...                      4.0                 4.0   \n",
       "246           NaN  ...                      NaN                 NaN   \n",
       "\n",
       "     charge_access_satisfaction  adas_satisfaction      household_income  \\\n",
       "30                          5.0                2.0  $150,000 to $199,999   \n",
       "108                         1.0                4.0  $100,000 to $149,999   \n",
       "175                         2.0                5.0  $250,000 to $299,999   \n",
       "238                         1.0                2.0  $250,000 to $299,999   \n",
       "246                         NaN                NaN                   NaN   \n",
       "\n",
       "     home_charge_type  work_charge_type  highest_charge_used  \\\n",
       "30        no charging               NaN                  NaN   \n",
       "108       no charging               NaN                  NaN   \n",
       "175       no charging               NaN                  NaN   \n",
       "238       no charging               NaN                  NaN   \n",
       "246       no charging               NaN                  NaN   \n",
       "\n",
       "     backup_vehicle_mpg  finance_type  \n",
       "30                  NaN           0.0  \n",
       "108                 NaN           0.0  \n",
       "175                 NaN           0.0  \n",
       "238                 NaN           0.0  \n",
       "246                 NaN           0.0  \n",
       "\n",
       "[5 rows x 29 columns]"
      ]
     },
     "execution_count": 18,
     "metadata": {},
     "output_type": "execute_result"
    }
   ],
   "source": [
    "a  =(ev_survey_wrangled_hasna.loc[ev_survey_wrangled_hasna.months_owned.isnull()])\n",
    "a.head()"
   ]
  },
  {
   "cell_type": "code",
   "execution_count": 19,
   "metadata": {},
   "outputs": [],
   "source": [
    "#a  =(ev_survey_wrangled_hasna.loc[ev_survey_wrangled_hasna.months_owned.isnull()].index)\n",
    "\n",
    "#example if you want to drop rows with a certain value in a column\n",
    "#idx = ev_survey_wrangled_hasna[ev_survey_wrangled_hasna.months_owned\n",
    "#                            <=0].index\n",
    "#ev_survey_wrangled_hasna.drop(index=idx, inplace = True)\n"
   ]
  },
  {
   "cell_type": "markdown",
   "metadata": {},
   "source": [
    "## Update the data associated with the interesting findings above"
   ]
  },
  {
   "cell_type": "markdown",
   "metadata": {},
   "source": [
    "### Create a dataframe \"df\" that will be the final output from EDA with the cleaned data"
   ]
  },
  {
   "cell_type": "code",
   "execution_count": 20,
   "metadata": {},
   "outputs": [],
   "source": [
    "df = ev_survey_wrangled_hasna"
   ]
  },
  {
   "cell_type": "markdown",
   "metadata": {},
   "source": [
    "### Months of Ownership"
   ]
  },
  {
   "cell_type": "markdown",
   "metadata": {},
   "source": [
    "Turn the data that was negative to a positive value for months_owned as ownership cannot be positive."
   ]
  },
  {
   "cell_type": "code",
   "execution_count": 21,
   "metadata": {},
   "outputs": [
    {
     "data": {
      "text/plain": [
       "count    1851.000000\n",
       "mean       39.718531\n",
       "std        14.266543\n",
       "min         0.000000\n",
       "25%        33.000000\n",
       "50%        36.000000\n",
       "75%        46.000000\n",
       "max       109.000000\n",
       "Name: months_owned, dtype: float64"
      ]
     },
     "execution_count": 21,
     "metadata": {},
     "output_type": "execute_result"
    }
   ],
   "source": [
    "#df = df.months_owned.apply(l)\n",
    "df.months_owned = df.months_owned.apply(lambda x: x*-1 if x<0 else x)\n",
    "df.months_owned.describe()"
   ]
  },
  {
   "cell_type": "markdown",
   "metadata": {},
   "source": [
    "## Investigate the vehicles with small EV_range values."
   ]
  },
  {
   "cell_type": "code",
   "execution_count": 22,
   "metadata": {},
   "outputs": [
    {
     "data": {
      "text/plain": [
       "phev    401\n",
       "Name: ev_type, dtype: int64"
      ]
     },
     "execution_count": 22,
     "metadata": {},
     "output_type": "execute_result"
    }
   ],
   "source": [
    "a  = df.loc[ev_survey_wrangled_hasna.electric_range < 50]\n",
    "a.ev_type.value_counts()\n"
   ]
  },
  {
   "cell_type": "code",
   "execution_count": 23,
   "metadata": {
    "scrolled": false
   },
   "outputs": [
    {
     "data": {
      "image/png": "[encoded data removed]",
      "text/plain": [
       "<Figure size 720x720 with 1 Axes>"
      ]
     },
     "metadata": {
      "needs_background": "light"
     },
     "output_type": "display_data"
    },
    {
     "name": "stdout",
     "output_type": "stream",
     "text": [
      "bev     1109\n",
      "phev     799\n",
      "Name: ev_type, dtype: int64\n"
     ]
    }
   ],
   "source": [
    "seabornhist(size=(10,10), data=df, hue_c ='ev_type', x='electric_range')\n",
    "plt.show()\n",
    "print(df.ev_type.value_counts())"
   ]
  },
  {
   "cell_type": "code",
   "execution_count": 24,
   "metadata": {},
   "outputs": [
    {
     "data": {
      "image/png": "[encoded data removed]",
      "text/plain": [
       "<Figure size 720x720 with 1 Axes>"
      ]
     },
     "metadata": {
      "needs_background": "light"
     },
     "output_type": "display_data"
    }
   ],
   "source": [
    "seaborncount(size=(10,10), data=df, hue_c ='discontinuance', x='ev_type')\n",
    "plt.show()"
   ]
  },
  {
   "cell_type": "markdown",
   "metadata": {},
   "source": [
    "The low ev_range vehicles are all PHEV (Hybrid vehicles) so the low values are explainable. \n",
    "The ratio of continuance to discontinuance is also similar for BEV and PHEV."
   ]
  },
  {
   "cell_type": "markdown",
   "metadata": {},
   "source": [
    "## Remove the vehicles with the ev_range missing"
   ]
  },
  {
   "cell_type": "markdown",
   "metadata": {},
   "source": [
    "In this case, the only one missing is the \"Zero\", which is a motorcycle and will be removed"
   ]
  },
  {
   "cell_type": "code",
   "execution_count": 25,
   "metadata": {},
   "outputs": [
    {
     "data": {
      "text/html": [
       "<div>\n",
       "<style scoped>\n",
       "    .dataframe tbody tr th:only-of-type {\n",
       "        vertical-align: middle;\n",
       "    }\n",
       "\n",
       "    .dataframe tbody tr th {\n",
       "        vertical-align: top;\n",
       "    }\n",
       "\n",
       "    .dataframe thead th {\n",
       "        text-align: right;\n",
       "    }\n",
       "</style>\n",
       "<table border=\"1\" class=\"dataframe\">\n",
       "  <thead>\n",
       "    <tr style=\"text-align: right;\">\n",
       "      <th></th>\n",
       "      <th>response_id</th>\n",
       "      <th>year_submitted_survey_2</th>\n",
       "      <th>months_owned</th>\n",
       "      <th>model_year</th>\n",
       "      <th>Make</th>\n",
       "      <th>Model</th>\n",
       "      <th>electric_range</th>\n",
       "      <th>ev_type</th>\n",
       "      <th>discontinuance</th>\n",
       "      <th>surveyed_age</th>\n",
       "      <th>...</th>\n",
       "      <th>reliability_satisfaction</th>\n",
       "      <th>range_satisfaction</th>\n",
       "      <th>charge_access_satisfaction</th>\n",
       "      <th>adas_satisfaction</th>\n",
       "      <th>household_income</th>\n",
       "      <th>home_charge_type</th>\n",
       "      <th>work_charge_type</th>\n",
       "      <th>highest_charge_used</th>\n",
       "      <th>backup_vehicle_mpg</th>\n",
       "      <th>finance_type</th>\n",
       "    </tr>\n",
       "  </thead>\n",
       "  <tbody>\n",
       "    <tr>\n",
       "      <th>1917</th>\n",
       "      <td>1988.0</td>\n",
       "      <td>2019.0</td>\n",
       "      <td>38.0</td>\n",
       "      <td>2014</td>\n",
       "      <td>zero</td>\n",
       "      <td>ds 11.4 kwh battery</td>\n",
       "      <td>NaN</td>\n",
       "      <td>bev</td>\n",
       "      <td>continued</td>\n",
       "      <td>55.0</td>\n",
       "      <td>...</td>\n",
       "      <td>5.0</td>\n",
       "      <td>4.0</td>\n",
       "      <td>2.0</td>\n",
       "      <td>3.0</td>\n",
       "      <td>$150,000 to $199,999</td>\n",
       "      <td>level 1</td>\n",
       "      <td>level 1</td>\n",
       "      <td>level 1</td>\n",
       "      <td>95.0</td>\n",
       "      <td>0.0</td>\n",
       "    </tr>\n",
       "  </tbody>\n",
       "</table>\n",
       "<p>1 rows × 29 columns</p>\n",
       "</div>"
      ],
      "text/plain": [
       "      response_id  year_submitted_survey_2  months_owned model_year  Make  \\\n",
       "1917       1988.0                   2019.0          38.0       2014  zero   \n",
       "\n",
       "                    Model  electric_range ev_type discontinuance  \\\n",
       "1917  ds 11.4 kwh battery             NaN     bev      continued   \n",
       "\n",
       "      surveyed_age  ... reliability_satisfaction  range_satisfaction  \\\n",
       "1917          55.0  ...                      5.0                 4.0   \n",
       "\n",
       "      charge_access_satisfaction  adas_satisfaction      household_income  \\\n",
       "1917                         2.0                3.0  $150,000 to $199,999   \n",
       "\n",
       "      home_charge_type  work_charge_type  highest_charge_used  \\\n",
       "1917           level 1           level 1              level 1   \n",
       "\n",
       "      backup_vehicle_mpg  finance_type  \n",
       "1917                95.0           0.0  \n",
       "\n",
       "[1 rows x 29 columns]"
      ]
     },
     "execution_count": 25,
     "metadata": {},
     "output_type": "execute_result"
    }
   ],
   "source": [
    "nan_ev_type = df.loc[df.electric_range.isnull()]\n",
    "nan_ev_type.head()\n",
    "#To-Do: Drop the record"
   ]
  },
  {
   "cell_type": "markdown",
   "metadata": {},
   "source": [
    "## What's going on with the very short one way trips? Anything we can learn?"
   ]
  },
  {
   "cell_type": "code",
   "execution_count": 26,
   "metadata": {},
   "outputs": [
    {
     "data": {
      "image/png": "[encoded data removed]",
      "text/plain": [
       "<Figure size 720x720 with 1 Axes>"
      ]
     },
     "metadata": {
      "needs_background": "light"
     },
     "output_type": "display_data"
    }
   ],
   "source": [
    "short_trips = df.loc[df.dist_1 < 100]\n",
    "seabornhist(size= (10,10), data= short_trips, hue_c='discontinuance', x='dist_1' )"
   ]
  },
  {
   "cell_type": "markdown",
   "metadata": {},
   "source": [
    "Interestingly, the people who decide to continue EV ownership and commute over short distances for work are greater than those who discontinue."
   ]
  },
  {
   "cell_type": "code",
   "execution_count": 27,
   "metadata": {},
   "outputs": [
    {
     "name": "stdout",
     "output_type": "stream",
     "text": [
      "<class 'pandas.core.frame.DataFrame'>\n",
      "Int64Index: 1947 entries, 0 to 4833\n",
      "Data columns (total 29 columns):\n",
      " #   Column                        Non-Null Count  Dtype  \n",
      "---  ------                        --------------  -----  \n",
      " 0   response_id                   1947 non-null   float64\n",
      " 1   year_submitted_survey_2       1947 non-null   float64\n",
      " 2   months_owned                  1851 non-null   float64\n",
      " 3   model_year                    1947 non-null   object \n",
      " 4   Make                          1947 non-null   object \n",
      " 5   Model                         1947 non-null   object \n",
      " 6   electric_range                1946 non-null   float64\n",
      " 7   ev_type                       1946 non-null   object \n",
      " 8   discontinuance                1947 non-null   object \n",
      " 9   surveyed_age                  1872 non-null   float64\n",
      " 10  surveyed_gender               1899 non-null   object \n",
      " 11  dist_1                        1615 non-null   float64\n",
      " 12  trips_greater_200             1947 non-null   float64\n",
      " 13  safety_satisfaction           1753 non-null   float64\n",
      " 14  comfort_satisfaction          1753 non-null   float64\n",
      " 15  refuel_recharge_satisfaction  1753 non-null   float64\n",
      " 16  performance_satisfaction      1753 non-null   float64\n",
      " 17  env_impact_satisfaction       1753 non-null   float64\n",
      " 18  purch_price_satisfaction      1753 non-null   float64\n",
      " 19  reliability_satisfaction      1753 non-null   float64\n",
      " 20  range_satisfaction            1753 non-null   float64\n",
      " 21  charge_access_satisfaction    1753 non-null   float64\n",
      " 22  adas_satisfaction             1753 non-null   float64\n",
      " 23  household_income              1724 non-null   object \n",
      " 24  home_charge_type              1947 non-null   object \n",
      " 25  work_charge_type              1121 non-null   object \n",
      " 26  highest_charge_used           1370 non-null   object \n",
      " 27  backup_vehicle_mpg            1587 non-null   float64\n",
      " 28  finance_type                  1947 non-null   float64\n",
      "dtypes: float64(19), object(10)\n",
      "memory usage: 536.3+ KB\n"
     ]
    }
   ],
   "source": [
    "df.loc[((df.ev_type.isnull()) & (df.electric_range == 300.0)),'ev_type'] = 'hyd'\n",
    "df.info()"
   ]
  },
  {
   "cell_type": "markdown",
   "metadata": {},
   "source": [
    "### What about outliers?"
   ]
  },
  {
   "cell_type": "markdown",
   "metadata": {},
   "source": [
    "It turns out there are 2 people in the survey who noted a commute distance > 1500 miles. One is a Cherolet Volt Hybrid and the second is a Tesla Model S."
   ]
  },
  {
   "cell_type": "code",
   "execution_count": 28,
   "metadata": {},
   "outputs": [
    {
     "data": {
      "image/png": "[encoded data removed]",
      "text/plain": [
       "<Figure size 432x288 with 1 Axes>"
      ]
     },
     "metadata": {
      "needs_background": "light"
     },
     "output_type": "display_data"
    }
   ],
   "source": [
    "ax = sns.stripplot(data=df,\n",
    "                  x='discontinuance',\n",
    "                  y='dist_1',\n",
    "                  hue='ev_type',\n",
    "                  jitter=0.25)"
   ]
  },
  {
   "cell_type": "code",
   "execution_count": 29,
   "metadata": {},
   "outputs": [],
   "source": [
    "df.to_pickle(\"EDA_cleaned_data.pkl\")"
   ]
  },
  {
   "cell_type": "code",
   "execution_count": 30,
   "metadata": {},
   "outputs": [],
   "source": [
    "raw_output = pd.read_pickle(\"EDA_cleaned_data.pkl\")"
   ]
  },
  {
   "cell_type": "code",
   "execution_count": 31,
   "metadata": {},
   "outputs": [
    {
     "data": {
      "text/html": [
       "<div>\n",
       "<style scoped>\n",
       "    .dataframe tbody tr th:only-of-type {\n",
       "        vertical-align: middle;\n",
       "    }\n",
       "\n",
       "    .dataframe tbody tr th {\n",
       "        vertical-align: top;\n",
       "    }\n",
       "\n",
       "    .dataframe thead th {\n",
       "        text-align: right;\n",
       "    }\n",
       "</style>\n",
       "<table border=\"1\" class=\"dataframe\">\n",
       "  <thead>\n",
       "    <tr style=\"text-align: right;\">\n",
       "      <th></th>\n",
       "      <th>response_id</th>\n",
       "      <th>year_submitted_survey_2</th>\n",
       "      <th>months_owned</th>\n",
       "      <th>model_year</th>\n",
       "      <th>Make</th>\n",
       "      <th>Model</th>\n",
       "      <th>electric_range</th>\n",
       "      <th>ev_type</th>\n",
       "      <th>discontinuance</th>\n",
       "      <th>surveyed_age</th>\n",
       "      <th>...</th>\n",
       "      <th>reliability_satisfaction</th>\n",
       "      <th>range_satisfaction</th>\n",
       "      <th>charge_access_satisfaction</th>\n",
       "      <th>adas_satisfaction</th>\n",
       "      <th>household_income</th>\n",
       "      <th>home_charge_type</th>\n",
       "      <th>work_charge_type</th>\n",
       "      <th>highest_charge_used</th>\n",
       "      <th>backup_vehicle_mpg</th>\n",
       "      <th>finance_type</th>\n",
       "    </tr>\n",
       "  </thead>\n",
       "  <tbody>\n",
       "    <tr>\n",
       "      <th>0</th>\n",
       "      <td>1.0</td>\n",
       "      <td>2019.0</td>\n",
       "      <td>24.0</td>\n",
       "      <td>2016</td>\n",
       "      <td>bmw</td>\n",
       "      <td>i3</td>\n",
       "      <td>81.0</td>\n",
       "      <td>phev</td>\n",
       "      <td>continued</td>\n",
       "      <td>25.0</td>\n",
       "      <td>...</td>\n",
       "      <td>5.0</td>\n",
       "      <td>5.0</td>\n",
       "      <td>5.0</td>\n",
       "      <td>5.0</td>\n",
       "      <td>$150,000 to $199,999</td>\n",
       "      <td>no charging</td>\n",
       "      <td>no charging</td>\n",
       "      <td>level 2</td>\n",
       "      <td>25.0</td>\n",
       "      <td>1.0</td>\n",
       "    </tr>\n",
       "    <tr>\n",
       "      <th>6</th>\n",
       "      <td>7.0</td>\n",
       "      <td>2019.0</td>\n",
       "      <td>14.0</td>\n",
       "      <td>2016</td>\n",
       "      <td>fiat</td>\n",
       "      <td>500e</td>\n",
       "      <td>87.0</td>\n",
       "      <td>bev</td>\n",
       "      <td>continued</td>\n",
       "      <td>35.0</td>\n",
       "      <td>...</td>\n",
       "      <td>4.0</td>\n",
       "      <td>1.0</td>\n",
       "      <td>3.0</td>\n",
       "      <td>3.0</td>\n",
       "      <td>$50,000 to $99,999</td>\n",
       "      <td>level 1</td>\n",
       "      <td>no charging</td>\n",
       "      <td>level 2</td>\n",
       "      <td>82.0</td>\n",
       "      <td>1.0</td>\n",
       "    </tr>\n",
       "    <tr>\n",
       "      <th>9</th>\n",
       "      <td>11.0</td>\n",
       "      <td>2019.0</td>\n",
       "      <td>48.0</td>\n",
       "      <td>2015</td>\n",
       "      <td>nissan</td>\n",
       "      <td>leaf</td>\n",
       "      <td>84.0</td>\n",
       "      <td>bev</td>\n",
       "      <td>discontinued</td>\n",
       "      <td>55.0</td>\n",
       "      <td>...</td>\n",
       "      <td>3.0</td>\n",
       "      <td>1.0</td>\n",
       "      <td>2.0</td>\n",
       "      <td>1.0</td>\n",
       "      <td>i prefer not to answer</td>\n",
       "      <td>level 1</td>\n",
       "      <td>no charging</td>\n",
       "      <td>no charging</td>\n",
       "      <td>24.0</td>\n",
       "      <td>1.0</td>\n",
       "    </tr>\n",
       "    <tr>\n",
       "      <th>10</th>\n",
       "      <td>12.0</td>\n",
       "      <td>2019.0</td>\n",
       "      <td>30.0</td>\n",
       "      <td>2015</td>\n",
       "      <td>bmw</td>\n",
       "      <td>i3</td>\n",
       "      <td>81.0</td>\n",
       "      <td>phev</td>\n",
       "      <td>continued</td>\n",
       "      <td>55.0</td>\n",
       "      <td>...</td>\n",
       "      <td>5.0</td>\n",
       "      <td>2.0</td>\n",
       "      <td>3.0</td>\n",
       "      <td>3.0</td>\n",
       "      <td>$100,000 to $149,999</td>\n",
       "      <td>level 2</td>\n",
       "      <td>level 1</td>\n",
       "      <td>no charging</td>\n",
       "      <td>34.0</td>\n",
       "      <td>1.0</td>\n",
       "    </tr>\n",
       "    <tr>\n",
       "      <th>11</th>\n",
       "      <td>13.0</td>\n",
       "      <td>2019.0</td>\n",
       "      <td>31.0</td>\n",
       "      <td>2016</td>\n",
       "      <td>volkswagen</td>\n",
       "      <td>e-golf</td>\n",
       "      <td>84.0</td>\n",
       "      <td>bev</td>\n",
       "      <td>continued</td>\n",
       "      <td>35.0</td>\n",
       "      <td>...</td>\n",
       "      <td>5.0</td>\n",
       "      <td>2.0</td>\n",
       "      <td>4.0</td>\n",
       "      <td>2.0</td>\n",
       "      <td>$150,000 to $199,999</td>\n",
       "      <td>level 1</td>\n",
       "      <td>level 1</td>\n",
       "      <td>level 1 &amp; level 2</td>\n",
       "      <td>NaN</td>\n",
       "      <td>1.0</td>\n",
       "    </tr>\n",
       "  </tbody>\n",
       "</table>\n",
       "<p>5 rows × 29 columns</p>\n",
       "</div>"
      ],
      "text/plain": [
       "    response_id  year_submitted_survey_2  months_owned model_year        Make  \\\n",
       "0           1.0                   2019.0          24.0       2016         bmw   \n",
       "6           7.0                   2019.0          14.0       2016        fiat   \n",
       "9          11.0                   2019.0          48.0       2015      nissan   \n",
       "10         12.0                   2019.0          30.0       2015         bmw   \n",
       "11         13.0                   2019.0          31.0       2016  volkswagen   \n",
       "\n",
       "     Model  electric_range ev_type discontinuance  surveyed_age  ...  \\\n",
       "0       i3            81.0    phev      continued          25.0  ...   \n",
       "6     500e            87.0     bev      continued          35.0  ...   \n",
       "9     leaf            84.0     bev   discontinued          55.0  ...   \n",
       "10      i3            81.0    phev      continued          55.0  ...   \n",
       "11  e-golf            84.0     bev      continued          35.0  ...   \n",
       "\n",
       "   reliability_satisfaction  range_satisfaction  charge_access_satisfaction  \\\n",
       "0                       5.0                 5.0                         5.0   \n",
       "6                       4.0                 1.0                         3.0   \n",
       "9                       3.0                 1.0                         2.0   \n",
       "10                      5.0                 2.0                         3.0   \n",
       "11                      5.0                 2.0                         4.0   \n",
       "\n",
       "    adas_satisfaction        household_income  home_charge_type  \\\n",
       "0                 5.0    $150,000 to $199,999       no charging   \n",
       "6                 3.0      $50,000 to $99,999           level 1   \n",
       "9                 1.0  i prefer not to answer           level 1   \n",
       "10                3.0    $100,000 to $149,999           level 2   \n",
       "11                2.0    $150,000 to $199,999           level 1   \n",
       "\n",
       "    work_charge_type  highest_charge_used  backup_vehicle_mpg  finance_type  \n",
       "0        no charging              level 2                25.0           1.0  \n",
       "6        no charging              level 2                82.0           1.0  \n",
       "9        no charging          no charging                24.0           1.0  \n",
       "10           level 1          no charging                34.0           1.0  \n",
       "11           level 1    level 1 & level 2                 NaN           1.0  \n",
       "\n",
       "[5 rows x 29 columns]"
      ]
     },
     "execution_count": 31,
     "metadata": {},
     "output_type": "execute_result"
    }
   ],
   "source": [
    "raw_output.head()"
   ]
  }
 ],
 "metadata": {
  "kernelspec": {
   "display_name": "Python 3",
   "language": "python",
   "name": "python3"
  },
  "language_info": {
   "codemirror_mode": {
    "name": "ipython",
    "version": 3
   },
   "file_extension": ".py",
   "mimetype": "text/x-python",
   "name": "python",
   "nbconvert_exporter": "python",
   "pygments_lexer": "ipython3",
   "version": "3.8.5"
  }
 },
 "nbformat": 4,
 "nbformat_minor": 4
}
