{
 "cells": [
  {
   "cell_type": "markdown",
   "metadata": {},
   "source": [
    "# Model Preprocessing (XGBoost)\n",
    "## EV Survey "
   ]
  },
  {
   "cell_type": "code",
   "execution_count": 19,
   "metadata": {},
   "outputs": [],
   "source": [
    "import pandas as pd\n",
    "import seaborn as sns\n",
    "import matplotlib.pyplot as plt\n",
    "from pandas_profiling import ProfileReport\n",
    "import numpy as np\n",
    "#------------------------\n",
    "from sklearn.preprocessing import OrdinalEncoder\n",
    "from sklearn.model_selection import train_test_split\n",
    "from sklearn.metrics import precision_recall_curve\n",
    "from sklearn.metrics import f1_score\n",
    "from sklearn.metrics import auc\n",
    "from sklearn.linear_model import LogisticRegression\n",
    "from matplotlib import pyplot\n",
    "from sklearn.metrics import precision_recall_curve\n",
    "from sklearn.metrics import f1_score\n",
    "from sklearn.metrics import auc\n",
    "from sklearn.linear_model import LogisticRegression\n",
    "from sklearn.metrics import classification_report,confusion_matrix,roc_curve,roc_auc_score\n",
    "from sklearn.metrics import accuracy_score,log_loss\n",
    "from xgboost import XGBClassifier\n",
    "from sklearn import preprocessing\n",
    "from sklearn.model_selection import RandomizedSearchCV\n",
    "from sklearn.pipeline import Pipeline\n",
    "from imblearn.over_sampling import SMOTENC\n",
    "from sklearn.ensemble import RandomForestClassifier\n",
    "#-------------------------\n",
    "from os import listdir\n",
    "from os.path import isfile, join\n",
    "import pprint\n",
    "import os \n",
    "from pathlib import Path"
   ]
  },
  {
   "cell_type": "markdown",
   "metadata": {},
   "source": [
    "Objective\n",
    "* Evaluate feature relationships\n",
    "* Evaluate statistical relationship strengths using Pearson or other method"
   ]
  },
  {
   "cell_type": "code",
   "execution_count": 20,
   "metadata": {},
   "outputs": [],
   "source": [
    "def seabornhist(size=(10,10), data=None, hue_c=None, x=None):\n",
    "    fig, ax = plt.subplots(figsize=size)\n",
    "    ax = sns.histplot(x=x, data= data, hue = hue_c, ax=ax)\n",
    "    plt.show()\n",
    "    return\n",
    "\n",
    "def seaborncount(size=(10,10), data=None, hue_c=None, x=None):\n",
    "    fig, ax = plt.subplots(figsize=size)\n",
    "    ax = sns.countplot(x=x, data= data, hue = hue_c, ax=ax)\n",
    "    plt.show()\n",
    "    return"
   ]
  },
  {
   "cell_type": "code",
   "execution_count": 21,
   "metadata": {},
   "outputs": [],
   "source": [
    "#collect info about current working directory and the location of the raw data pickle files\n",
    "\n",
    "wd = Path(os.getcwd())\n",
    "parent_dir = wd.parent.absolute()"
   ]
  },
  {
   "cell_type": "code",
   "execution_count": 22,
   "metadata": {},
   "outputs": [],
   "source": [
    "#Data for the EV survey\n",
    "filename = \"processed_data.pkl\"\n",
    "filepath = f\"{wd}\\\\{filename}\"\n",
    "df = pd.read_pickle(filepath)"
   ]
  },
  {
   "cell_type": "code",
   "execution_count": 23,
   "metadata": {},
   "outputs": [
    {
     "data": {
      "text/html": [
       "<div>\n",
       "<style scoped>\n",
       "    .dataframe tbody tr th:only-of-type {\n",
       "        vertical-align: middle;\n",
       "    }\n",
       "\n",
       "    .dataframe tbody tr th {\n",
       "        vertical-align: top;\n",
       "    }\n",
       "\n",
       "    .dataframe thead th {\n",
       "        text-align: right;\n",
       "    }\n",
       "</style>\n",
       "<table border=\"1\" class=\"dataframe\">\n",
       "  <thead>\n",
       "    <tr style=\"text-align: right;\">\n",
       "      <th></th>\n",
       "      <th>months_owned</th>\n",
       "      <th>electric_range</th>\n",
       "      <th>discontinuance</th>\n",
       "      <th>surveyed_age</th>\n",
       "      <th>dist_1</th>\n",
       "      <th>trips_greater_200</th>\n",
       "      <th>safety_satisfaction</th>\n",
       "      <th>comfort_satisfaction</th>\n",
       "      <th>refuel_recharge_satisfaction</th>\n",
       "      <th>performance_satisfaction</th>\n",
       "      <th>...</th>\n",
       "      <th>highest_charge_used_level 1 &amp; level 2</th>\n",
       "      <th>highest_charge_used_level 1, level 2 &amp; dc fast</th>\n",
       "      <th>highest_charge_used_level 2</th>\n",
       "      <th>highest_charge_used_level 2 &amp; dc fast</th>\n",
       "      <th>highest_charge_used_no charging</th>\n",
       "      <th>surveyed_gender_decline to state</th>\n",
       "      <th>surveyed_gender_female</th>\n",
       "      <th>surveyed_gender_genderqueer/non-binary</th>\n",
       "      <th>surveyed_gender_male</th>\n",
       "      <th>surveyed_gender_transfemale/transwoman</th>\n",
       "    </tr>\n",
       "  </thead>\n",
       "  <tbody>\n",
       "    <tr>\n",
       "      <th>0</th>\n",
       "      <td>24.0</td>\n",
       "      <td>81.0</td>\n",
       "      <td>continued</td>\n",
       "      <td>25.0</td>\n",
       "      <td>13.92</td>\n",
       "      <td>0.0</td>\n",
       "      <td>5.0</td>\n",
       "      <td>5.0</td>\n",
       "      <td>5.0</td>\n",
       "      <td>5.0</td>\n",
       "      <td>...</td>\n",
       "      <td>0</td>\n",
       "      <td>0</td>\n",
       "      <td>1</td>\n",
       "      <td>0</td>\n",
       "      <td>0</td>\n",
       "      <td>0</td>\n",
       "      <td>0</td>\n",
       "      <td>0</td>\n",
       "      <td>1</td>\n",
       "      <td>0</td>\n",
       "    </tr>\n",
       "    <tr>\n",
       "      <th>6</th>\n",
       "      <td>14.0</td>\n",
       "      <td>87.0</td>\n",
       "      <td>continued</td>\n",
       "      <td>35.0</td>\n",
       "      <td>8.54</td>\n",
       "      <td>0.0</td>\n",
       "      <td>2.0</td>\n",
       "      <td>2.0</td>\n",
       "      <td>3.0</td>\n",
       "      <td>2.0</td>\n",
       "      <td>...</td>\n",
       "      <td>0</td>\n",
       "      <td>0</td>\n",
       "      <td>1</td>\n",
       "      <td>0</td>\n",
       "      <td>0</td>\n",
       "      <td>0</td>\n",
       "      <td>0</td>\n",
       "      <td>0</td>\n",
       "      <td>1</td>\n",
       "      <td>0</td>\n",
       "    </tr>\n",
       "    <tr>\n",
       "      <th>9</th>\n",
       "      <td>48.0</td>\n",
       "      <td>84.0</td>\n",
       "      <td>discontinued</td>\n",
       "      <td>55.0</td>\n",
       "      <td>12.91</td>\n",
       "      <td>0.0</td>\n",
       "      <td>3.0</td>\n",
       "      <td>2.0</td>\n",
       "      <td>3.0</td>\n",
       "      <td>2.0</td>\n",
       "      <td>...</td>\n",
       "      <td>0</td>\n",
       "      <td>0</td>\n",
       "      <td>0</td>\n",
       "      <td>0</td>\n",
       "      <td>1</td>\n",
       "      <td>0</td>\n",
       "      <td>0</td>\n",
       "      <td>0</td>\n",
       "      <td>1</td>\n",
       "      <td>0</td>\n",
       "    </tr>\n",
       "    <tr>\n",
       "      <th>10</th>\n",
       "      <td>30.0</td>\n",
       "      <td>81.0</td>\n",
       "      <td>continued</td>\n",
       "      <td>55.0</td>\n",
       "      <td>9.43</td>\n",
       "      <td>0.0</td>\n",
       "      <td>4.0</td>\n",
       "      <td>4.0</td>\n",
       "      <td>5.0</td>\n",
       "      <td>4.0</td>\n",
       "      <td>...</td>\n",
       "      <td>0</td>\n",
       "      <td>0</td>\n",
       "      <td>0</td>\n",
       "      <td>0</td>\n",
       "      <td>1</td>\n",
       "      <td>0</td>\n",
       "      <td>0</td>\n",
       "      <td>0</td>\n",
       "      <td>1</td>\n",
       "      <td>0</td>\n",
       "    </tr>\n",
       "    <tr>\n",
       "      <th>11</th>\n",
       "      <td>31.0</td>\n",
       "      <td>84.0</td>\n",
       "      <td>continued</td>\n",
       "      <td>35.0</td>\n",
       "      <td>16.32</td>\n",
       "      <td>0.0</td>\n",
       "      <td>5.0</td>\n",
       "      <td>5.0</td>\n",
       "      <td>5.0</td>\n",
       "      <td>4.0</td>\n",
       "      <td>...</td>\n",
       "      <td>1</td>\n",
       "      <td>0</td>\n",
       "      <td>0</td>\n",
       "      <td>0</td>\n",
       "      <td>0</td>\n",
       "      <td>0</td>\n",
       "      <td>0</td>\n",
       "      <td>0</td>\n",
       "      <td>1</td>\n",
       "      <td>0</td>\n",
       "    </tr>\n",
       "  </tbody>\n",
       "</table>\n",
       "<p>5 rows × 122 columns</p>\n",
       "</div>"
      ],
      "text/plain": [
       "    months_owned  electric_range discontinuance  surveyed_age  dist_1  \\\n",
       "0           24.0            81.0      continued          25.0   13.92   \n",
       "6           14.0            87.0      continued          35.0    8.54   \n",
       "9           48.0            84.0   discontinued          55.0   12.91   \n",
       "10          30.0            81.0      continued          55.0    9.43   \n",
       "11          31.0            84.0      continued          35.0   16.32   \n",
       "\n",
       "    trips_greater_200  safety_satisfaction  comfort_satisfaction  \\\n",
       "0                 0.0                  5.0                   5.0   \n",
       "6                 0.0                  2.0                   2.0   \n",
       "9                 0.0                  3.0                   2.0   \n",
       "10                0.0                  4.0                   4.0   \n",
       "11                0.0                  5.0                   5.0   \n",
       "\n",
       "    refuel_recharge_satisfaction  performance_satisfaction  ...  \\\n",
       "0                            5.0                       5.0  ...   \n",
       "6                            3.0                       2.0  ...   \n",
       "9                            3.0                       2.0  ...   \n",
       "10                           5.0                       4.0  ...   \n",
       "11                           5.0                       4.0  ...   \n",
       "\n",
       "    highest_charge_used_level 1 & level 2  \\\n",
       "0                                       0   \n",
       "6                                       0   \n",
       "9                                       0   \n",
       "10                                      0   \n",
       "11                                      1   \n",
       "\n",
       "    highest_charge_used_level 1, level 2 & dc fast  \\\n",
       "0                                                0   \n",
       "6                                                0   \n",
       "9                                                0   \n",
       "10                                               0   \n",
       "11                                               0   \n",
       "\n",
       "    highest_charge_used_level 2  highest_charge_used_level 2 & dc fast  \\\n",
       "0                             1                                      0   \n",
       "6                             1                                      0   \n",
       "9                             0                                      0   \n",
       "10                            0                                      0   \n",
       "11                            0                                      0   \n",
       "\n",
       "    highest_charge_used_no charging  surveyed_gender_decline to state  \\\n",
       "0                                 0                                 0   \n",
       "6                                 0                                 0   \n",
       "9                                 1                                 0   \n",
       "10                                1                                 0   \n",
       "11                                0                                 0   \n",
       "\n",
       "    surveyed_gender_female  surveyed_gender_genderqueer/non-binary  \\\n",
       "0                        0                                       0   \n",
       "6                        0                                       0   \n",
       "9                        0                                       0   \n",
       "10                       0                                       0   \n",
       "11                       0                                       0   \n",
       "\n",
       "    surveyed_gender_male  surveyed_gender_transfemale/transwoman  \n",
       "0                      1                                       0  \n",
       "6                      1                                       0  \n",
       "9                      1                                       0  \n",
       "10                     1                                       0  \n",
       "11                     1                                       0  \n",
       "\n",
       "[5 rows x 122 columns]"
      ]
     },
     "execution_count": 23,
     "metadata": {},
     "output_type": "execute_result"
    }
   ],
   "source": [
    "\n",
    "df.drop(columns=['response_id'] , inplace=True)\n",
    "df.head()"
   ]
  },
  {
   "cell_type": "code",
   "execution_count": 24,
   "metadata": {},
   "outputs": [],
   "source": [
    "df_preprocessed = df"
   ]
  },
  {
   "cell_type": "code",
   "execution_count": 25,
   "metadata": {},
   "outputs": [],
   "source": [
    "df_preprocessed.discontinuance\n",
    "y = df_preprocessed.discontinuance\n",
    "y.head()\n",
    "df_preprocessed.drop(columns = 'discontinuance', inplace=True)\n",
    "X = df_preprocessed"
   ]
  },
  {
   "cell_type": "code",
   "execution_count": 26,
   "metadata": {},
   "outputs": [],
   "source": [
    "# dont forget to define your X and y\n",
    "\n",
    "X_train, X_test, y_train, y_test = train_test_split(X, y, test_size=.2, random_state=1)"
   ]
  },
  {
   "cell_type": "code",
   "execution_count": 27,
   "metadata": {},
   "outputs": [],
   "source": [
    "# build scaler based on training data and apply it to test data to then also scale the test data\n",
    "scaler = preprocessing.StandardScaler().fit(X_train)\n",
    "X_train_scaled=scaler.transform(X_train)\n",
    "X_test_scaled=scaler.transform(X_test)"
   ]
  },
  {
   "cell_type": "code",
   "execution_count": 28,
   "metadata": {},
   "outputs": [
    {
     "name": "stdout",
     "output_type": "stream",
     "text": [
      "Random Forest: Accuracy=0.797\n",
      "Random Forest: f1-score=0.729\n",
      "[[304   3]\n",
      " [ 76   7]]\n"
     ]
    }
   ],
   "source": [
    "clf = RandomForestClassifier(n_estimators=500, criterion='gini',  random_state = 1,n_jobs=-1, max_features = 'auto', class_weight = 'balanced_subsample')\n",
    "model_res = clf.fit(X_train_scaled, y_train)\n",
    "y_pred = model_res.predict(X_test_scaled)\n",
    "y_pred_prob = model_res.predict_proba(X_test_scaled)\n",
    "lr_probs = y_pred_prob[:,1]\n",
    "ac = accuracy_score(y_test, y_pred)\n",
    "\n",
    "f1 = f1_score(y_test, y_pred, average='weighted')\n",
    "cm = confusion_matrix(y_test, y_pred)\n",
    "\n",
    "print('Random Forest: Accuracy=%.3f' % (ac))\n",
    "\n",
    "print('Random Forest: f1-score=%.3f' % (f1))\n",
    "print(cm)"
   ]
  },
  {
   "cell_type": "code",
   "execution_count": 29,
   "metadata": {},
   "outputs": [
    {
     "name": "stdout",
     "output_type": "stream",
     "text": [
      "              precision    recall  f1-score   support\n",
      "\n",
      "   continued       0.80      0.99      0.89       307\n",
      "discontinued       0.70      0.08      0.15        83\n",
      "\n",
      "    accuracy                           0.80       390\n",
      "   macro avg       0.75      0.54      0.52       390\n",
      "weighted avg       0.78      0.80      0.73       390\n",
      "\n"
     ]
    }
   ],
   "source": [
    "report = classification_report(y_test, y_pred)\n",
    "print(report)"
   ]
  },
  {
   "cell_type": "code",
   "execution_count": 30,
   "metadata": {},
   "outputs": [
    {
     "name": "stdout",
     "output_type": "stream",
     "text": [
      "30\n"
     ]
    },
    {
     "data": {
      "image/png": "[encoded data removed]",
      "text/plain": [
       "<Figure size 720x720 with 1 Axes>"
      ]
     },
     "metadata": {
      "needs_background": "light"
     },
     "output_type": "display_data"
    }
   ],
   "source": [
    "feature_importance = clf.feature_importances_\n",
    "# make importances relative to max importance\n",
    "feature_importance = 100.0 * (feature_importance / feature_importance.max())[:30]\n",
    "sorted_idx = np.argsort(feature_importance)[:30]\n",
    "\n",
    "pos = np.arange(sorted_idx.shape[0]) + .5\n",
    "print(pos.size)\n",
    "sorted_idx.size\n",
    "plt.figure(figsize=(10,10))\n",
    "plt.barh(pos, feature_importance[sorted_idx], align='center')\n",
    "plt.yticks(pos, X.columns[sorted_idx])\n",
    "plt.xlabel('Relative Importance')\n",
    "plt.title('Variable Importance')\n",
    "plt.show()"
   ]
  },
  {
   "cell_type": "markdown",
   "metadata": {},
   "source": [
    "## Rebalance the data to see if it helps"
   ]
  },
  {
   "cell_type": "markdown",
   "metadata": {},
   "source": [
    "### Resample the minority class (Discontinued) using SMOTE-NC algorithm\n"
   ]
  },
  {
   "cell_type": "code",
   "execution_count": 31,
   "metadata": {},
   "outputs": [
    {
     "data": {
      "text/plain": [
       "['months_owned',\n",
       " 'electric_range',\n",
       " 'surveyed_age',\n",
       " 'dist_1',\n",
       " 'trips_greater_200',\n",
       " 'safety_satisfaction',\n",
       " 'comfort_satisfaction',\n",
       " 'refuel_recharge_satisfaction',\n",
       " 'performance_satisfaction',\n",
       " 'env_impact_satisfaction',\n",
       " 'purch_price_satisfaction',\n",
       " 'reliability_satisfaction',\n",
       " 'range_satisfaction',\n",
       " 'charge_access_satisfaction',\n",
       " 'adas_satisfaction',\n",
       " 'household_income',\n",
       " 'home_charge_type',\n",
       " 'work_charge_type',\n",
       " 'backup_vehicle_mpg',\n",
       " 'finance_type',\n",
       " 'model_year_1915',\n",
       " 'model_year_2001',\n",
       " 'model_year_2011',\n",
       " 'model_year_2012',\n",
       " 'model_year_2013',\n",
       " 'model_year_2014',\n",
       " 'model_year_2015',\n",
       " 'model_year_2016',\n",
       " 'model_year_2017',\n",
       " 'model_year_2018',\n",
       " 'Make_',\n",
       " 'Make_audi',\n",
       " 'Make_bmw',\n",
       " 'Make_cadillac',\n",
       " 'Make_chevrolet',\n",
       " 'Make_chevy',\n",
       " 'Make_fiat',\n",
       " 'Make_ford',\n",
       " 'Make_honda',\n",
       " 'Make_hyundai',\n",
       " 'Make_kia',\n",
       " 'Make_mercedes-benz',\n",
       " 'Make_mitsubishi',\n",
       " 'Make_nissan',\n",
       " 'Make_smart',\n",
       " 'Make_tesla',\n",
       " 'Make_toyota',\n",
       " 'Make_volkswagen',\n",
       " 'Make_volkswagon',\n",
       " 'Make_zero',\n",
       " 'Model_ chevrolet volt',\n",
       " 'Model_ model x',\n",
       " 'Model_ prius plug-in',\n",
       " 'Model_ volt',\n",
       " 'Model_500e',\n",
       " 'Model_85 s',\n",
       " 'Model_a3 sportback e-tron',\n",
       " 'Model_accord plug-in hybrid',\n",
       " 'Model_b-class electric drive',\n",
       " 'Model_b250e',\n",
       " 'Model_bolt ev',\n",
       " 'Model_c-max energi',\n",
       " 'Model_c-max energi plug-in hybrid',\n",
       " 'Model_clarity fuel cell',\n",
       " 'Model_ds 11.4 kwh battery',\n",
       " 'Model_e-golf',\n",
       " 'Model_e-gulf',\n",
       " 'Model_ecmax',\n",
       " 'Model_egolf',\n",
       " 'Model_elr',\n",
       " 'Model_ev ranger',\n",
       " 'Model_fit ev',\n",
       " 'Model_focus electric',\n",
       " 'Model_fortwo',\n",
       " 'Model_fortwo electric drive convertible',\n",
       " 'Model_fusion energi',\n",
       " 'Model_i-miev',\n",
       " 'Model_i3',\n",
       " 'Model_i3 bev (94 amp-hour battery)',\n",
       " 'Model_i3 rex',\n",
       " 'Model_i3 rex  (94 amp-hour battery)',\n",
       " 'Model_i8',\n",
       " 'Model_ioniq electric',\n",
       " 'Model_leaf',\n",
       " 'Model_mirai',\n",
       " 'Model_model 3 long range',\n",
       " 'Model_model s',\n",
       " 'Model_model s (60 kw-hr battery pack)',\n",
       " 'Model_model s (75 kw-hr battery pack)',\n",
       " 'Model_model x',\n",
       " 'Model_model x 75d',\n",
       " 'Model_prius',\n",
       " 'Model_prius plug-in',\n",
       " 'Model_prius prime',\n",
       " 'Model_rav4 ev',\n",
       " 'Model_s-class',\n",
       " 'Model_sonata plug-in hybrid',\n",
       " 'Model_soul ev',\n",
       " 'Model_spark ev',\n",
       " 'Model_tucson',\n",
       " 'Model_tucson fuel cell',\n",
       " 'Model_tuscan',\n",
       " 'Model_tuscon',\n",
       " 'Model_tuscon fcv',\n",
       " 'Model_volt',\n",
       " 'ev_type_bev',\n",
       " 'ev_type_hyd',\n",
       " 'ev_type_phev',\n",
       " 'highest_charge_used_dc fast',\n",
       " 'highest_charge_used_level 1',\n",
       " 'highest_charge_used_level 1 & dc fast',\n",
       " 'highest_charge_used_level 1 & level 2',\n",
       " 'highest_charge_used_level 1, level 2 & dc fast',\n",
       " 'highest_charge_used_level 2',\n",
       " 'highest_charge_used_level 2 & dc fast',\n",
       " 'highest_charge_used_no charging',\n",
       " 'surveyed_gender_decline to state',\n",
       " 'surveyed_gender_female',\n",
       " 'surveyed_gender_genderqueer/non-binary',\n",
       " 'surveyed_gender_male',\n",
       " 'surveyed_gender_transfemale/transwoman']"
      ]
     },
     "execution_count": 31,
     "metadata": {},
     "output_type": "execute_result"
    }
   ],
   "source": [
    "X.columns.tolist()"
   ]
  },
  {
   "cell_type": "code",
   "execution_count": 32,
   "metadata": {},
   "outputs": [
    {
     "data": {
      "text/plain": [
       "array([False, False,  True,  True,  True,  True,  True,  True,  True,\n",
       "        True,  True,  True,  True,  True,  True,  True,  True,  True,\n",
       "        True,  True,  True,  True,  True,  True,  True,  True,  True,\n",
       "        True,  True,  True,  True,  True,  True,  True,  True,  True,\n",
       "        True,  True,  True,  True,  True,  True,  True,  True,  True,\n",
       "        True,  True,  True,  True,  True,  True,  True,  True,  True,\n",
       "        True,  True,  True,  True,  True,  True,  True,  True,  True,\n",
       "        True,  True,  True,  True,  True,  True,  True,  True,  True,\n",
       "        True,  True,  True,  True,  True,  True,  True,  True,  True,\n",
       "        True,  True,  True,  True,  True,  True,  True,  True,  True,\n",
       "        True,  True,  True,  True,  True,  True,  True,  True,  True,\n",
       "        True,  True,  True,  True,  True,  True,  True,  True,  True,\n",
       "        True,  True,  True,  True,  True,  True,  True,  True,  True,\n",
       "        True,  True,  True,  True])"
      ]
     },
     "execution_count": 32,
     "metadata": {},
     "output_type": "execute_result"
    }
   ],
   "source": [
    "#SMOTE-NC looks for a mask to indicate which columns are categorical(True) and which are continuous (False)\n",
    "## Link to Library: https://imbalanced-learn.org/dev/references/generated/imblearn.over_sampling.SMOTENC.html\n",
    "\n",
    "cat_mask =  np.array([True] * len(X.columns))\n",
    "#Set the continuous variables to False state so the sampler knows how to handle them\n",
    "cat_mask[0:2] = False\n",
    "cat_mask"
   ]
  },
  {
   "cell_type": "code",
   "execution_count": 33,
   "metadata": {},
   "outputs": [],
   "source": [
    "sm = SMOTENC(random_state=42, categorical_features=cat_mask)\n",
    "X_res, y_res = sm.fit_resample(X, y)"
   ]
  },
  {
   "cell_type": "code",
   "execution_count": 34,
   "metadata": {},
   "outputs": [
    {
     "data": {
      "text/plain": [
       "continued       1530\n",
       "discontinued    1530\n",
       "Name: discontinuance, dtype: int64"
      ]
     },
     "execution_count": 34,
     "metadata": {},
     "output_type": "execute_result"
    }
   ],
   "source": [
    "y_res.value_counts()"
   ]
  },
  {
   "cell_type": "markdown",
   "metadata": {},
   "source": [
    "Build the Random Forest model"
   ]
  },
  {
   "cell_type": "code",
   "execution_count": 35,
   "metadata": {},
   "outputs": [],
   "source": [
    "# dont forget to define your X and y\n",
    "\n",
    "X_train, X_test, y_train, y_test = train_test_split(X_res, y_res, test_size=.2, random_state=1)"
   ]
  },
  {
   "cell_type": "code",
   "execution_count": 36,
   "metadata": {},
   "outputs": [],
   "source": [
    "# build scaler based on training data and apply it to test data to then also scale the test data\n",
    "scaler = preprocessing.StandardScaler().fit(X_train)\n",
    "X_train_scaled=scaler.transform(X_train)\n",
    "X_test_scaled=scaler.transform(X_test)"
   ]
  },
  {
   "cell_type": "code",
   "execution_count": 37,
   "metadata": {},
   "outputs": [
    {
     "name": "stdout",
     "output_type": "stream",
     "text": [
      "Parameters currently in use:\n",
      "\n",
      "{'bootstrap': True, 'ccp_alpha': 0.0, 'class_weight': 'balanced_subsample', 'criterion': 'gini', 'max_depth': None, 'max_features': 'auto', 'max_leaf_nodes': None, 'max_samples': None, 'min_impurity_decrease': 0.0, 'min_impurity_split': None, 'min_samples_leaf': 1, 'min_samples_split': 2, 'min_weight_fraction_leaf': 0.0, 'n_estimators': 500, 'n_jobs': -1, 'oob_score': False, 'random_state': 1, 'verbose': 0, 'warm_start': False}\n"
     ]
    }
   ],
   "source": [
    "#take a look at our hyperparameters\n",
    "print('Parameters currently in use:\\n')\n",
    "print(clf.get_params())"
   ]
  },
  {
   "cell_type": "code",
   "execution_count": 38,
   "metadata": {},
   "outputs": [],
   "source": [
    "# Number of trees in random forest\n",
    "n_estimators = [int(x) for x in np.linspace(start = 200, stop = 2000, num = 12)]\n",
    "# Number of features to consider at every split\n",
    "max_features = ['auto', 'sqrt']\n",
    "# Maximum number of levels in tree\n",
    "max_depth = [int(x) for x in np.linspace(10, 110, num = 11)]\n",
    "max_depth.append(None)\n",
    "# Minimum number of samples required to split a node\n",
    "min_samples_split = [2, 5, 10]\n",
    "# Minimum number of samples required at each leaf node\n",
    "min_samples_leaf = [1, 2, 4]\n",
    "# Method of selecting samples for training each tree\n",
    "bootstrap = [True, False]\n",
    "\n",
    "# Create the random grid\n",
    "random_grid = {'n_estimators': n_estimators,\n",
    "               'max_features': max_features,\n",
    "               'max_depth': max_depth,\n",
    "               'min_samples_split': min_samples_split,\n",
    "               'min_samples_leaf': min_samples_leaf,\n",
    "               'bootstrap': bootstrap}"
   ]
  },
  {
   "cell_type": "code",
   "execution_count": 39,
   "metadata": {},
   "outputs": [
    {
     "data": {
      "text/plain": [
       "[200, 363, 527, 690, 854, 1018, 1181, 1345, 1509, 1672, 1836, 2000]"
      ]
     },
     "execution_count": 39,
     "metadata": {},
     "output_type": "execute_result"
    }
   ],
   "source": [
    "n_estimators"
   ]
  },
  {
   "cell_type": "code",
   "execution_count": 40,
   "metadata": {},
   "outputs": [
    {
     "name": "stdout",
     "output_type": "stream",
     "text": [
      "Fitting 4 folds for each of 200 candidates, totalling 800 fits\n"
     ]
    },
    {
     "data": {
      "text/plain": [
       "RandomizedSearchCV(cv=4, estimator=RandomForestClassifier(), n_iter=200,\n",
       "                   n_jobs=-1,\n",
       "                   param_distributions={'bootstrap': [True, False],\n",
       "                                        'max_depth': [10, 20, 30, 40, 50, 60,\n",
       "                                                      70, 80, 90, 100, 110,\n",
       "                                                      None],\n",
       "                                        'max_features': ['auto', 'sqrt'],\n",
       "                                        'min_samples_leaf': [1, 2, 4],\n",
       "                                        'min_samples_split': [2, 5, 10],\n",
       "                                        'n_estimators': [200, 363, 527, 690,\n",
       "                                                         854, 1018, 1181, 1345,\n",
       "                                                         1509, 1672, 1836,\n",
       "                                                         2000]},\n",
       "                   random_state=42, verbose=2)"
      ]
     },
     "execution_count": 40,
     "metadata": {},
     "output_type": "execute_result"
    }
   ],
   "source": [
    "# Use the random grid to search for best hyperparameters\n",
    "# First create the base model to tune\n",
    "rf = RandomForestClassifier()\n",
    "# Random search of parameters, using 5 fold cross validation, \n",
    "# search across 100 different combinations, and use all available cores\n",
    "rf_random = RandomizedSearchCV(estimator = rf, param_distributions = random_grid, n_iter = 200, cv = 4, verbose=2, random_state=42, n_jobs = -1)\n",
    "# Fit the random search model\n",
    "rf_random.fit(X_train_scaled, y_train)"
   ]
  },
  {
   "cell_type": "code",
   "execution_count": 41,
   "metadata": {},
   "outputs": [],
   "source": [
    "best_random = rf_random.best_estimator_"
   ]
  },
  {
   "cell_type": "code",
   "execution_count": 42,
   "metadata": {},
   "outputs": [
    {
     "name": "stdout",
     "output_type": "stream",
     "text": [
      "              precision    recall  f1-score   support\n",
      "\n",
      "   continued       0.88      0.91      0.89       327\n",
      "discontinued       0.89      0.86      0.87       285\n",
      "\n",
      "    accuracy                           0.88       612\n",
      "   macro avg       0.88      0.88      0.88       612\n",
      "weighted avg       0.88      0.88      0.88       612\n",
      "\n"
     ]
    }
   ],
   "source": [
    "predictions = best_random.predict(X_test_scaled)\n",
    "score       = best_random.score(X_test_scaled, y_test)\n",
    "f1 = f1_score(y_test, predictions, average='weighted')\n",
    "report = classification_report(y_test, predictions)\n",
    "print(report)"
   ]
  },
  {
   "cell_type": "code",
   "execution_count": 43,
   "metadata": {},
   "outputs": [
    {
     "name": "stdout",
     "output_type": "stream",
     "text": [
      "Best Random Forest: Accuracy=0.884\n",
      "Best Random Forest: F1 Score=0.884\n"
     ]
    }
   ],
   "source": [
    "print('Best Random Forest: Accuracy=%.3f' % (score))\n",
    "print('Best Random Forest: F1 Score=%.3f' % (f1))"
   ]
  },
  {
   "cell_type": "code",
   "execution_count": 44,
   "metadata": {},
   "outputs": [
    {
     "name": "stdout",
     "output_type": "stream",
     "text": [
      "30\n"
     ]
    },
    {
     "data": {
      "image/png": "[encoded data removed]",
      "text/plain": [
       "<Figure size 720x720 with 1 Axes>"
      ]
     },
     "metadata": {
      "needs_background": "light"
     },
     "output_type": "display_data"
    }
   ],
   "source": [
    "feature_importance = best_random.feature_importances_\n",
    "# make importances relative to max importance\n",
    "feature_importance = 100.0 * (feature_importance / feature_importance.max())[:30]\n",
    "sorted_idx = np.argsort(feature_importance)[:30]\n",
    "\n",
    "pos = np.arange(sorted_idx.shape[0]) + .5\n",
    "print(pos.size)\n",
    "sorted_idx.size\n",
    "plt.figure(figsize=(10,10))\n",
    "plt.barh(pos, feature_importance[sorted_idx], align='center')\n",
    "plt.yticks(pos, X.columns[sorted_idx])\n",
    "plt.xlabel('Relative Importance')\n",
    "plt.title('Variable Importance')\n",
    "plt.show()"
   ]
  },
  {
   "cell_type": "markdown",
   "metadata": {},
   "source": [
    "Would it be meaningful to predict whether the first time adopters will continue / discontinue?"
   ]
  },
  {
   "cell_type": "markdown",
   "metadata": {},
   "source": [
    "To-Do, try this with a label encoder rather than the one hot encoding for a tree based algorithm"
   ]
  }
 ],
 "metadata": {
  "kernelspec": {
   "display_name": "Python 3",
   "language": "python",
   "name": "python3"
  },
  "language_info": {
   "codemirror_mode": {
    "name": "ipython",
    "version": 3
   },
   "file_extension": ".py",
   "mimetype": "text/x-python",
   "name": "python",
   "nbconvert_exporter": "python",
   "pygments_lexer": "ipython3",
   "version": "3.8.5"
  }
 },
 "nbformat": 4,
 "nbformat_minor": 4
}
