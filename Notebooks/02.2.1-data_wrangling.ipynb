{
 "cells": [
  {
   "cell_type": "markdown",
   "metadata": {},
   "source": [
    "# Table of Contents\n",
    "\n",
    "1. [Load Packages and Data](#paragraph1)\n",
    "2. [Raw Data Analysis](#paragraph2)\n",
    "    1. [EV Survey Data](#subparagraph1)"
   ]
  },
  {
   "cell_type": "markdown",
   "metadata": {},
   "source": [
    "## Objective\n",
    "* Determine if there are fundamental issues with the data.\n",
    "* Do the features appear to be useful to answer the question.\n",
    "\n"
   ]
  },
  {
   "cell_type": "markdown",
   "metadata": {},
   "source": [
    "## Load the Required Packages<a name=\"paragraph1\"></a>"
   ]
  },
  {
   "cell_type": "code",
   "execution_count": null,
   "metadata": {},
   "outputs": [],
   "source": [
    "import pandas as pd\n",
    "import seaborn as sns\n",
    "import matplotlib.pyplot as plt\n",
    "from pandas_profiling import ProfileReport\n",
    "import numpy as np\n",
    "\n",
    "from os import listdir\n",
    "from os.path import isfile, join\n",
    "\n",
    "import os \n",
    "from pathlib import Path"
   ]
  },
  {
   "cell_type": "markdown",
   "metadata": {},
   "source": [
    "## Defined Functions\n",
    "will be used in the later sections"
   ]
  },
  {
   "cell_type": "code",
   "execution_count": null,
   "metadata": {},
   "outputs": [],
   "source": [
    "def seabornhist(size=(10,10), data=None, hue_c=None, y=None):\n",
    "    fig, ax = plt.subplots(figsize=size)\n",
    "    ax = sns.histplot(y=y, data= ev_ownership_sans_original_owners, hue = hue_c, ax=ax)\n",
    "    plt.show()\n",
    "    return"
   ]
  },
  {
   "cell_type": "markdown",
   "metadata": {},
   "source": [
    "## Load the raw data from the pkl files"
   ]
  },
  {
   "cell_type": "code",
   "execution_count": null,
   "metadata": {},
   "outputs": [],
   "source": [
    "#collect info about current working directory and the location of the raw data pickle files\n",
    "\n",
    "wd = Path(os.getcwd())\n",
    "parent_dir = wd.parent.absolute()\n"
   ]
  },
  {
   "cell_type": "code",
   "execution_count": null,
   "metadata": {},
   "outputs": [],
   "source": [
    "#Data for the EV Vehicle list and attributes\n",
    "filename = \"ev_vehicle_data_raw.pkl\"\n",
    "filepath = f\"{wd}\\\\{filename}\"\n",
    "ev_vehicle_data_raw = pd.read_pickle(filepath)"
   ]
  },
  {
   "cell_type": "code",
   "execution_count": null,
   "metadata": {},
   "outputs": [],
   "source": [
    "#Data for the EV survey\n",
    "filename = \"ev_survey_output_raw.pkl\"\n",
    "filepath = f\"{wd}\\\\{filename}\"\n",
    "ev_survey_output_raw = pd.read_pickle(filepath)"
   ]
  },
  {
   "cell_type": "markdown",
   "metadata": {},
   "source": [
    "## Raw Data Analysis<a name=\"paragraph2\"></a>\n",
    "Now that we have loaded the raw data into one place, let's take a look at initial findings."
   ]
  },
  {
   "cell_type": "markdown",
   "metadata": {},
   "source": [
    "### EV Survey Data<a name=\"subparagraph1\"></a>"
   ]
  },
  {
   "cell_type": "code",
   "execution_count": null,
   "metadata": {},
   "outputs": [],
   "source": [
    "ev_survey_output_raw.info(verbose = True)"
   ]
  },
  {
   "cell_type": "markdown",
   "metadata": {},
   "source": [
    "#### What percentage of null values is present in each column?"
   ]
  },
  {
   "cell_type": "code",
   "execution_count": null,
   "metadata": {},
   "outputs": [],
   "source": [
    "print(100*ev_survey_output_raw.isnull().mean().sort_values(ascending=True))\n",
    "\n",
    "\n",
    "#plot the missing values for visual reference\n",
    "a = 100*ev_survey_output_raw.isnull().mean().sort_values(ascending=True)\n",
    "plt.plot(a)\n",
    "plt.show()"
   ]
  },
  {
   "cell_type": "markdown",
   "metadata": {},
   "source": [
    "Observations:\n",
    "\n",
    "* The satisfaction survey results share an almost identical number of missing entries\n",
    "* The peak missing value comes from the work_charge_type\n",
    "* The discontinuance data fortunately contains <1% missing entries."
   ]
  },
  {
   "cell_type": "code",
   "execution_count": null,
   "metadata": {},
   "outputs": [],
   "source": [
    "fig_dims = (9, 6)\n",
    "fig, ax = plt.subplots(figsize=fig_dims)\n",
    "sns.heatmap(ev_survey_output_raw.isnull(), \n",
    "            yticklabels=False, \n",
    "            cbar=False, \n",
    "            cmap='viridis')"
   ]
  },
  {
   "cell_type": "markdown",
   "metadata": {},
   "source": [
    "## What is the ownership distribution of consumers for this study?\n",
    "\n",
    "__Definition__: \n",
    "* Continued means the user had an EV previously and bought another.\n",
    "* Original means the user is a first time EV owner.\n",
    "* Discontinued means that the user decided to get rid of their EV and go to a gasoline vehicle."
   ]
  },
  {
   "cell_type": "code",
   "execution_count": null,
   "metadata": {},
   "outputs": [],
   "source": [
    "sns.set_theme\n",
    "ax = sns.countplot(x = ev_survey_output_raw.discontinuance, data = ev_survey_output_raw)\n",
    "plt.show()"
   ]
  },
  {
   "cell_type": "markdown",
   "metadata": {},
   "source": [
    "### Age distribution of the EV owners in the study"
   ]
  },
  {
   "cell_type": "code",
   "execution_count": null,
   "metadata": {},
   "outputs": [],
   "source": [
    "ax = sns.countplot(x = ev_survey_output_raw.surveyed_age, data = ev_survey_output_raw)\n",
    "plt.show()"
   ]
  },
  {
   "cell_type": "code",
   "execution_count": null,
   "metadata": {},
   "outputs": [],
   "source": [
    "sns.pointplot(ev_survey_output_raw.electric_range, ev_survey_output_raw.months_owned)"
   ]
  },
  {
   "cell_type": "markdown",
   "metadata": {},
   "source": [
    "### Profile the raw data for the EV survey"
   ]
  },
  {
   "cell_type": "code",
   "execution_count": null,
   "metadata": {},
   "outputs": [],
   "source": [
    "#profile = ProfileReport(ev_survey_output_raw, title=\"Pandas Profiling Report\")"
   ]
  },
  {
   "cell_type": "code",
   "execution_count": null,
   "metadata": {
    "scrolled": false
   },
   "outputs": [],
   "source": [
    "#profile.to_widgets()"
   ]
  },
  {
   "cell_type": "markdown",
   "metadata": {},
   "source": [
    "### Profile the raw data for the EV vehicles"
   ]
  },
  {
   "cell_type": "code",
   "execution_count": null,
   "metadata": {},
   "outputs": [],
   "source": [
    "#profile = ProfileReport(ev_vehicle_data_raw, title=\"Pandas Profiling Report\")"
   ]
  },
  {
   "cell_type": "code",
   "execution_count": null,
   "metadata": {
    "scrolled": false
   },
   "outputs": [],
   "source": [
    "#profile.to_widgets()"
   ]
  },
  {
   "cell_type": "code",
   "execution_count": null,
   "metadata": {},
   "outputs": [],
   "source": [
    "ev_survey_output_raw.index[ev_survey_output_raw['months_owned'] == True].tolist()"
   ]
  },
  {
   "cell_type": "markdown",
   "metadata": {},
   "source": [
    "## Data Munging Step (get the data in shape for EDA and modeling)"
   ]
  },
  {
   "cell_type": "markdown",
   "metadata": {},
   "source": [
    "### Reduce the survey data to respondents who continued or discontinued use.\n",
    "For the purposes of generating a predictive model, the users who are original owners need to be dropped as there is not a way to predict their next behavior."
   ]
  },
  {
   "cell_type": "code",
   "execution_count": null,
   "metadata": {},
   "outputs": [],
   "source": [
    "#Retain the data for the users who are known to have either discontinued EV ownership or are continued owners.\n",
    "\n",
    "ev_ownership_sans_original_owners = ev_survey_output_raw.loc[(ev_survey_output_raw.discontinuance == 'Continued') |\n",
    "                                                             (ev_survey_output_raw.discontinuance == 'Discontinued')]\n"
   ]
  },
  {
   "cell_type": "code",
   "execution_count": null,
   "metadata": {},
   "outputs": [],
   "source": [
    "text = f\"The raw dataset included {len(ev_survey_output_raw)} entries, after filtering the original owners there are now {len(ev_ownership_sans_original_owners)} entries.\"\n",
    "print(text)"
   ]
  },
  {
   "cell_type": "code",
   "execution_count": null,
   "metadata": {},
   "outputs": [],
   "source": [
    "ev_ownership_sans_original_owners.head()"
   ]
  },
  {
   "cell_type": "code",
   "execution_count": null,
   "metadata": {},
   "outputs": [],
   "source": [
    "ev_ownership_sans_original_owners.household_income.value_counts()"
   ]
  },
  {
   "cell_type": "code",
   "execution_count": null,
   "metadata": {},
   "outputs": [],
   "source": [
    "#_= pd.plotting.scatter_matrix(ev_ownership_sans_original_owners, c='y', figsize=[8,8], s=150, marker='D')\n",
    "# Make a pairplot of the ev survey data\n",
    "##sns.pairplot(ev_ownership_sans_original_owners, kind='scatter')"
   ]
  },
  {
   "cell_type": "markdown",
   "metadata": {},
   "source": [
    "### Set the columns with text data to lowercase\n",
    "This will help with inconsistency if the data entry wasn't done precisely"
   ]
  },
  {
   "cell_type": "code",
   "execution_count": null,
   "metadata": {},
   "outputs": [],
   "source": [
    "for col in ev_ownership_sans_original_owners.columns:\n",
    "    ev_ownership_sans_original_owners[col]= ev_ownership_sans_original_owners[col]\\\n",
    "                                                    .map(lambda x: x.lower() if isinstance(x,str) else x)\n",
    "    "
   ]
  },
  {
   "cell_type": "code",
   "execution_count": null,
   "metadata": {},
   "outputs": [],
   "source": [
    "#profile = ProfileReport(ev_ownership_sans_original_owners, title=\"Pandas Profiling Report\")"
   ]
  },
  {
   "cell_type": "code",
   "execution_count": null,
   "metadata": {
    "scrolled": true
   },
   "outputs": [],
   "source": [
    "#profile.to_widgets()"
   ]
  },
  {
   "cell_type": "markdown",
   "metadata": {},
   "source": [
    "### Split the attributes for the Year Make and Model of each vehicle in the survey into separate columns\n",
    "This also gets the columns in the format needed to join to the table with the EV vehicle list"
   ]
  },
  {
   "cell_type": "code",
   "execution_count": null,
   "metadata": {},
   "outputs": [],
   "source": [
    "models_makes = ev_ownership_sans_original_owners[\"year_make_model\"].str.split(\" \", n = 1, expand = True)\n",
    "\n",
    "year         = models_makes[0].str.split(\" \", n = 1, expand = True)[0]\n",
    "make         = models_makes[1].str.split(\" \", n = 1, expand = True)[0]\n",
    "model        = models_makes[1].str.split(\" \", n = 1, expand = True)[0:][1]\n",
    "\n",
    "temp_my_make = pd.DataFrame(columns =['year','make', 'model'] )\n",
    "temp_my_make['year']  = year\n",
    "temp_my_make['year'].replace(' ', '')\n",
    "temp_my_make['make']  = make\n",
    "temp_my_make['year'].replace(' ', '')\n",
    "temp_my_make['model'] = model\n",
    "temp_my_make.head()"
   ]
  },
  {
   "cell_type": "code",
   "execution_count": null,
   "metadata": {},
   "outputs": [],
   "source": [
    "#What are the unique vehicle models in the survey?\n",
    "temp_my_make.model.unique()"
   ]
  },
  {
   "cell_type": "code",
   "execution_count": null,
   "metadata": {},
   "outputs": [],
   "source": [
    "ev_ownership_sans_original_owners['model_year'] = temp_my_make.year\n",
    "ev_ownership_sans_original_owners['Make']       = temp_my_make.make\n",
    "ev_ownership_sans_original_owners['Model']      = temp_my_make.model"
   ]
  },
  {
   "cell_type": "code",
   "execution_count": null,
   "metadata": {},
   "outputs": [],
   "source": [
    "ev_ownership_sans_original_owners.head()"
   ]
  },
  {
   "cell_type": "code",
   "execution_count": null,
   "metadata": {},
   "outputs": [],
   "source": [
    "column_list = ev_ownership_sans_original_owners.columns.to_list()"
   ]
  },
  {
   "cell_type": "code",
   "execution_count": null,
   "metadata": {},
   "outputs": [],
   "source": [
    "#Extract the current column list. From this list, restructure the columns to the desired target format in the next cell.\n",
    "column_list"
   ]
  },
  {
   "cell_type": "code",
   "execution_count": null,
   "metadata": {},
   "outputs": [],
   "source": [
    "# Reorganize them to the preferred order\n",
    "column_list = ['response_id',\n",
    " 'year_submitted_survey_2',\n",
    " 'months_owned',\n",
    " 'model_year',\n",
    " 'Make',\n",
    " 'Model',           \n",
    " 'year_make_model',\n",
    " 'electric_range',\n",
    " 'ev_type',\n",
    " 'discontinuance',\n",
    " 'surveyed_age',\n",
    " 'surveyed_gender',\n",
    " 'dist_1',\n",
    " 'trips_greater_200',\n",
    " 'safety_satisfaction',\n",
    " 'comfort_satisfaction',\n",
    " 'refuel_recharge_satisfaction',\n",
    " 'performance_satisfaction',\n",
    " 'env_impact_satisfaction',\n",
    " 'purch_price_satisfaction',\n",
    " 'reliability_satisfaction',\n",
    " 'range_satisfaction',\n",
    " 'charge_access_satisfaction',\n",
    " 'adas_satisfaction',\n",
    " 'household_income',\n",
    " 'home_charge_type',\n",
    " 'work_charge_type',\n",
    " 'highest_charge_used',\n",
    " 'backup_vehicle_mpg',\n",
    " 'finance_type',\n",
    " 'last_page']"
   ]
  },
  {
   "cell_type": "markdown",
   "metadata": {},
   "source": [
    "### Reindex the dataframe,  drop the year_make_model column now that it has been split into separate cols. "
   ]
  },
  {
   "cell_type": "code",
   "execution_count": null,
   "metadata": {},
   "outputs": [],
   "source": [
    "ev_ownership_sans_original_owners = ev_ownership_sans_original_owners.reindex(columns = column_list)\n",
    "ev_ownership_sans_original_owners.drop(columns = ['year_make_model'], inplace=True)"
   ]
  },
  {
   "cell_type": "code",
   "execution_count": null,
   "metadata": {},
   "outputs": [],
   "source": [
    "ev_ownership_sans_original_owners.head()"
   ]
  },
  {
   "cell_type": "markdown",
   "metadata": {},
   "source": [
    "## Merging the datasets, this is a work in progress which may not work out becuase the set of vehicles is different in both."
   ]
  },
  {
   "cell_type": "code",
   "execution_count": null,
   "metadata": {},
   "outputs": [],
   "source": [
    "#What are the unique vehicle models in the vehicle data list?\n",
    "ev_vehicle_data_raw.Model.unique()"
   ]
  },
  {
   "cell_type": "code",
   "execution_count": null,
   "metadata": {},
   "outputs": [],
   "source": [
    "ev_vehicle_data_raw.head()"
   ]
  },
  {
   "cell_type": "markdown",
   "metadata": {},
   "source": [
    "#### Join the two dataframes together, add information from the EV vehicles list to the entries in the survey data"
   ]
  },
  {
   "cell_type": "code",
   "execution_count": null,
   "metadata": {},
   "outputs": [],
   "source": [
    "merged_ev_data = ev_ownership_sans_original_owners.merge(ev_vehicle_data_raw, on=['Make','Model'], how='left')"
   ]
  },
  {
   "cell_type": "code",
   "execution_count": null,
   "metadata": {},
   "outputs": [],
   "source": [
    "merged_ev_data.info()"
   ]
  },
  {
   "cell_type": "code",
   "execution_count": null,
   "metadata": {},
   "outputs": [],
   "source": [
    "merged_ev_data.head()"
   ]
  },
  {
   "cell_type": "markdown",
   "metadata": {},
   "source": []
  },
  {
   "cell_type": "code",
   "execution_count": null,
   "metadata": {},
   "outputs": [],
   "source": [
    "missing = pd.concat([ev_ownership_sans_original_owners.isnull().sum(), \\\n",
    "                     100 * ev_ownership_sans_original_owners.isnull().mean()], axis=1)\n",
    "missing.columns=['count', '%']\n",
    "missing.sort_values(by= '%', ascending=False)"
   ]
  },
  {
   "cell_type": "code",
   "execution_count": null,
   "metadata": {},
   "outputs": [],
   "source": [
    "fig, ax = plt.subplots(figsize=(10,10))\n",
    "ax = sns.histplot(y='months_owned', data= ev_ownership_sans_original_owners, hue = 'finance_type', ax=ax)\n",
    "plt.legend(title='Months Owned', loc='upper right', labels=['Lease', 'Own/Other'])\n",
    "plt.show()\n",
    "\n",
    "#Using the defined function\n",
    "seabornhist(data=ev_ownership_sans_original_owners, hue_c= 'finance_type', y='months_owned')\n",
    "seabornhist(data=ev_ownership_sans_original_owners, hue_c= 'work_charge_type', y='surveyed_age')"
   ]
  },
  {
   "cell_type": "code",
   "execution_count": null,
   "metadata": {},
   "outputs": [],
   "source": [
    "ev_ownership_sans_original_owners.surveyed_age.value_counts()\n"
   ]
  },
  {
   "cell_type": "code",
   "execution_count": null,
   "metadata": {},
   "outputs": [],
   "source": [
    "ev_ownership_sans_original_owners.trips_greater_200.value_counts()"
   ]
  },
  {
   "cell_type": "code",
   "execution_count": null,
   "metadata": {},
   "outputs": [],
   "source": [
    "fig, ax = plt.subplots(figsize=(10,10))\n",
    "ax = sns.countplot(y='adas_satisfaction', data= ev_ownership_sans_original_owners, hue = 'finance_type', ax=ax)\n",
    "plt.legend(title='Months Owned', loc='upper right', labels=['Lease', 'Own/Other'])\n",
    "plt.show()"
   ]
  },
  {
   "cell_type": "markdown",
   "metadata": {},
   "source": [
    "### What is the distribution of makes in the dataset?"
   ]
  },
  {
   "cell_type": "code",
   "execution_count": null,
   "metadata": {},
   "outputs": [],
   "source": [
    "sns.countplot(y=ev_ownership_sans_original_owners['Make'] , data = ev_ownership_sans_original_owners)"
   ]
  },
  {
   "cell_type": "markdown",
   "metadata": {},
   "source": [
    "Looks good, no duplicate auto manufacturers"
   ]
  },
  {
   "cell_type": "code",
   "execution_count": null,
   "metadata": {},
   "outputs": [],
   "source": [
    "ev_ownership_sans_original_owners[ev_ownership_sans_original_owners['surveyed_age']<=0]\n",
    "ev_ownership_sans_original_owners[ev_ownership_sans_original_owners['months_owned']<0]\n",
    "ev_ownership_sans_original_owners[ev_ownership_sans_original_owners['electric_range']<0]"
   ]
  },
  {
   "cell_type": "markdown",
   "metadata": {},
   "source": [
    "#### How fuel efficient are the backup vehicles?"
   ]
  },
  {
   "cell_type": "code",
   "execution_count": null,
   "metadata": {},
   "outputs": [],
   "source": [
    "fig_dims = (10, 15)\n",
    "fig, ax = plt.subplots(figsize=fig_dims)\n",
    "sns.countplot(y=ev_ownership_sans_original_owners.backup_vehicle_mpg, data=ev_ownership_sans_original_owners, ax=ax)"
   ]
  },
  {
   "cell_type": "code",
   "execution_count": null,
   "metadata": {
    "scrolled": true
   },
   "outputs": [],
   "source": [
    "ev_ownership_sans_original_owners.hist(figsize=(15, 10))\n",
    "plt.subplots_adjust(hspace=0.5);"
   ]
  },
  {
   "cell_type": "code",
   "execution_count": null,
   "metadata": {},
   "outputs": [],
   "source": [
    "#just to know how much data we lose if we drop all rows with na\n",
    "ev_survey_no_nan = ev_ownership_sans_original_owners.dropna()"
   ]
  },
  {
   "cell_type": "code",
   "execution_count": null,
   "metadata": {
    "scrolled": false
   },
   "outputs": [],
   "source": [
    "ev_survey_no_nan.info()"
   ]
  },
  {
   "cell_type": "markdown",
   "metadata": {},
   "source": [
    "## Drop other columns that wont be useful"
   ]
  },
  {
   "cell_type": "code",
   "execution_count": null,
   "metadata": {},
   "outputs": [],
   "source": [
    "ev_ownership_sans_original_owners = ev_ownership_sans_original_owners.drop(columns= ['last_page'])"
   ]
  },
  {
   "cell_type": "markdown",
   "metadata": {},
   "source": [
    "## Save the wrangled survey data as a .pkl for further use"
   ]
  },
  {
   "cell_type": "code",
   "execution_count": null,
   "metadata": {},
   "outputs": [],
   "source": [
    "ev_ownership_sans_original_owners.to_pickle(\"ev_survey_wrangled_hasna.pkl\")"
   ]
  },
  {
   "cell_type": "code",
   "execution_count": null,
   "metadata": {},
   "outputs": [],
   "source": [
    "raw_output = pd.read_pickle(\"ev_survey_wrangled_hasna.pkl\")"
   ]
  },
  {
   "cell_type": "code",
   "execution_count": null,
   "metadata": {},
   "outputs": [],
   "source": [
    "raw_output.head()"
   ]
  },
  {
   "cell_type": "code",
   "execution_count": null,
   "metadata": {},
   "outputs": [],
   "source": []
  }
 ],
 "metadata": {
  "kernelspec": {
   "display_name": "Python 3",
   "language": "python",
   "name": "python3"
  },
  "language_info": {
   "codemirror_mode": {
    "name": "ipython",
    "version": 3
   },
   "file_extension": ".py",
   "mimetype": "text/x-python",
   "name": "python",
   "nbconvert_exporter": "python",
   "pygments_lexer": "ipython3",
   "version": "3.8.5"
  }
 },
 "nbformat": 4,
 "nbformat_minor": 4
}
