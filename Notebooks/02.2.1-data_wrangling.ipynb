{
 "cells": [
  {
   "cell_type": "markdown",
   "metadata": {},
   "source": [
    "# Table of Contents\n",
    "\n",
    "1. [Load Packages and Data](#paragraph1)\n",
    "2. [Raw Data Analysis](#paragraph2)\n",
    "    1. [EV Survey Data](#subparagraph1)"
   ]
  },
  {
   "cell_type": "markdown",
   "metadata": {},
   "source": [
    "## Objective\n",
    "* Determine if there are fundamental issues with the data.\n",
    "* Do the features appear to be useful to answer the question.\n",
    "\n"
   ]
  },
  {
   "cell_type": "markdown",
   "metadata": {},
   "source": [
    "## Load the Required Packages<a name=\"paragraph1\"></a>"
   ]
  },
  {
   "cell_type": "code",
   "execution_count": 66,
   "metadata": {},
   "outputs": [],
   "source": [
    "import pandas as pd\n",
    "import seaborn as sns\n",
    "import matplotlib.pyplot as plt\n",
    "from pandas_profiling import ProfileReport\n",
    "import numpy as np\n",
    "\n",
    "from os import listdir\n",
    "from os.path import isfile, join\n",
    "sns.set()\n",
    "import os \n",
    "from pathlib import Path"
   ]
  },
  {
   "cell_type": "markdown",
   "metadata": {},
   "source": [
    "## Defined Functions\n",
    "will be used in the later sections"
   ]
  },
  {
   "cell_type": "code",
   "execution_count": 67,
   "metadata": {},
   "outputs": [],
   "source": [
    "def seabornhist(size=(10,10), data=None, hue_c=None, y=None):\n",
    "    fig, ax = plt.subplots(figsize=size)\n",
    "    ax = sns.histplot(y=y, data= data, hue = hue_c, ax=ax)\n",
    "    plt.show()\n",
    "    return"
   ]
  },
  {
   "cell_type": "markdown",
   "metadata": {},
   "source": [
    "## Load the raw data from the pkl files"
   ]
  },
  {
   "cell_type": "code",
   "execution_count": 68,
   "metadata": {},
   "outputs": [],
   "source": [
    "#collect info about current working directory and the location of the raw data pickle files\n",
    "\n",
    "wd = Path(os.getcwd())\n",
    "parent_dir = wd.parent.absolute()\n"
   ]
  },
  {
   "cell_type": "code",
   "execution_count": 69,
   "metadata": {},
   "outputs": [],
   "source": [
    "#Data for the EV Vehicle list and attributes\n",
    "filename = \"ev_vehicle_data_raw.pkl\"\n",
    "filepath = f\"{wd}\\\\{filename}\"\n",
    "ev_vehicle_data_raw = pd.read_pickle(filepath)"
   ]
  },
  {
   "cell_type": "code",
   "execution_count": 70,
   "metadata": {},
   "outputs": [],
   "source": [
    "#Data for the EV survey\n",
    "filename = \"ev_survey_output_raw.pkl\"\n",
    "filepath = f\"{wd}\\\\{filename}\"\n",
    "ev_survey_output_raw = pd.read_pickle(filepath)"
   ]
  },
  {
   "cell_type": "markdown",
   "metadata": {},
   "source": [
    "## Raw Data Analysis<a name=\"paragraph2\"></a>\n",
    "Now that we have loaded the raw data into one place, let's take a look at initial findings."
   ]
  },
  {
   "cell_type": "markdown",
   "metadata": {},
   "source": [
    "### EV Survey Data<a name=\"subparagraph1\"></a>"
   ]
  },
  {
   "cell_type": "code",
   "execution_count": 71,
   "metadata": {},
   "outputs": [
    {
     "name": "stdout",
     "output_type": "stream",
     "text": [
      "<class 'pandas.core.frame.DataFrame'>\n",
      "RangeIndex: 4835 entries, 0 to 4834\n",
      "Data columns (total 28 columns):\n",
      " #   Column                        Non-Null Count  Dtype  \n",
      "---  ------                        --------------  -----  \n",
      " 0   response_id                   4833 non-null   float64\n",
      " 1   year_submitted_survey_2       4833 non-null   float64\n",
      " 2   months_owned                  4330 non-null   float64\n",
      " 3   year_make_model               4833 non-null   object \n",
      " 4   electric_range                4830 non-null   float64\n",
      " 5   ev_type                       4673 non-null   object \n",
      " 6   discontinuance                4833 non-null   object \n",
      " 7   surveyed_age                  4373 non-null   float64\n",
      " 8   surveyed_gender               4438 non-null   object \n",
      " 9   dist_1                        3811 non-null   float64\n",
      " 10  trips_greater_200             4833 non-null   float64\n",
      " 11  safety_satisfaction           4146 non-null   float64\n",
      " 12  comfort_satisfaction          4146 non-null   float64\n",
      " 13  refuel_recharge_satisfaction  4146 non-null   float64\n",
      " 14  performance_satisfaction      4146 non-null   float64\n",
      " 15  env_impact_satisfaction       4146 non-null   float64\n",
      " 16  purch_price_satisfaction      4146 non-null   float64\n",
      " 17  reliability_satisfaction      4146 non-null   float64\n",
      " 18  range_satisfaction            4146 non-null   float64\n",
      " 19  charge_access_satisfaction    4146 non-null   float64\n",
      " 20  adas_satisfaction             4146 non-null   float64\n",
      " 21  household_income              4088 non-null   object \n",
      " 22  home_charge_type              4833 non-null   object \n",
      " 23  work_charge_type              3174 non-null   object \n",
      " 24  highest_charge_used           3553 non-null   object \n",
      " 25  backup_vehicle_mpg            3789 non-null   float64\n",
      " 26  finance_type                  4833 non-null   float64\n",
      " 27  last_page                     4833 non-null   float64\n",
      "dtypes: float64(20), object(8)\n",
      "memory usage: 1.0+ MB\n"
     ]
    }
   ],
   "source": [
    "ev_survey_output_raw.info(verbose = True)"
   ]
  },
  {
   "cell_type": "markdown",
   "metadata": {},
   "source": [
    "#### What percentage of null values is present in each column?"
   ]
  },
  {
   "cell_type": "code",
   "execution_count": 72,
   "metadata": {},
   "outputs": [
    {
     "name": "stdout",
     "output_type": "stream",
     "text": [
      "response_id                      0.041365\n",
      "home_charge_type                 0.041365\n",
      "finance_type                     0.041365\n",
      "trips_greater_200                0.041365\n",
      "discontinuance                   0.041365\n",
      "last_page                        0.041365\n",
      "year_submitted_survey_2          0.041365\n",
      "year_make_model                  0.041365\n",
      "electric_range                   0.103413\n",
      "ev_type                          3.350569\n",
      "surveyed_gender                  8.210962\n",
      "surveyed_age                     9.555326\n",
      "months_owned                    10.444674\n",
      "adas_satisfaction               14.250259\n",
      "charge_access_satisfaction      14.250259\n",
      "range_satisfaction              14.250259\n",
      "reliability_satisfaction        14.250259\n",
      "purch_price_satisfaction        14.250259\n",
      "performance_satisfaction        14.250259\n",
      "comfort_satisfaction            14.250259\n",
      "safety_satisfaction             14.250259\n",
      "env_impact_satisfaction         14.250259\n",
      "refuel_recharge_satisfaction    14.250259\n",
      "household_income                15.449845\n",
      "dist_1                          21.178904\n",
      "backup_vehicle_mpg              21.633919\n",
      "highest_charge_used             26.514995\n",
      "work_charge_type                34.353671\n",
      "dtype: float64\n"
     ]
    },
    {
     "data": {
      "image/png": "[encoded data removed]",
      "text/plain": [
       "<Figure size 432x288 with 1 Axes>"
      ]
     },
     "metadata": {},
     "output_type": "display_data"
    }
   ],
   "source": [
    "print(100*ev_survey_output_raw.isnull().mean().sort_values(ascending=True))\n",
    "\n",
    "\n",
    "#plot the missing values for visual reference\n",
    "a = 100*ev_survey_output_raw.isnull().mean().sort_values(ascending=True)\n",
    "plt.plot(a)\n",
    "plt.show()"
   ]
  },
  {
   "cell_type": "markdown",
   "metadata": {},
   "source": [
    "Observations:\n",
    "\n",
    "* The satisfaction survey results share an almost identical number of missing entries\n",
    "* The peak missing value comes from the work_charge_type\n",
    "* The discontinuance data fortunately contains <1% missing entries."
   ]
  },
  {
   "cell_type": "code",
   "execution_count": 73,
   "metadata": {},
   "outputs": [
    {
     "data": {
      "text/plain": [
       "<AxesSubplot:>"
      ]
     },
     "execution_count": 73,
     "metadata": {},
     "output_type": "execute_result"
    },
    {
     "data": {
      "image/png": "[encoded data removed]",
      "text/plain": [
       "<Figure size 648x432 with 1 Axes>"
      ]
     },
     "metadata": {},
     "output_type": "display_data"
    }
   ],
   "source": [
    "fig_dims = (9, 6)\n",
    "fig, ax = plt.subplots(figsize=fig_dims)\n",
    "sns.heatmap(ev_survey_output_raw.isnull(), \n",
    "            yticklabels=False, \n",
    "            cbar=False, \n",
    "            cmap='viridis')"
   ]
  },
  {
   "cell_type": "markdown",
   "metadata": {},
   "source": [
    "## What is the ownership distribution of consumers for this study?\n",
    "\n",
    "__Definition__: \n",
    "* Continued means the user had an EV previously and bought another.\n",
    "* Original means the user is a first time EV owner.\n",
    "* Discontinued means that the user decided to get rid of their EV and go to a gasoline vehicle."
   ]
  },
  {
   "cell_type": "code",
   "execution_count": 74,
   "metadata": {},
   "outputs": [
    {
     "data": {
      "image/png": "[encoded data removed]",
      "text/plain": [
       "<Figure size 432x288 with 1 Axes>"
      ]
     },
     "metadata": {},
     "output_type": "display_data"
    }
   ],
   "source": [
    "sns.set_theme\n",
    "ax = sns.countplot(x = ev_survey_output_raw.discontinuance, data = ev_survey_output_raw, color='b')\n",
    "plt.xlabel('EV Ownership Status')\n",
    "plt.title('Distribution of EV Owners in Survey')\n",
    "plt.show()"
   ]
  },
  {
   "cell_type": "markdown",
   "metadata": {},
   "source": [
    "### Age distribution of the EV owners in the study"
   ]
  },
  {
   "cell_type": "code",
   "execution_count": 10,
   "metadata": {},
   "outputs": [
    {
     "data": {
      "image/png": "[encoded data removed]",
      "text/plain": [
       "<Figure size 432x288 with 1 Axes>"
      ]
     },
     "metadata": {
      "needs_background": "light"
     },
     "output_type": "display_data"
    }
   ],
   "source": [
    "ax = sns.countplot(x = ev_survey_output_raw.surveyed_age, data = ev_survey_output_raw)\n",
    "plt.show()"
   ]
  },
  {
   "cell_type": "code",
   "execution_count": 11,
   "metadata": {},
   "outputs": [
    {
     "name": "stderr",
     "output_type": "stream",
     "text": [
      "C:\\Users\\mrpal\\anaconda3\\envs\\ml_data_engineering\\lib\\site-packages\\seaborn\\_decorators.py:36: FutureWarning: Pass the following variables as keyword args: x, y. From version 0.12, the only valid positional argument will be `data`, and passing other arguments without an explicit keyword will result in an error or misinterpretation.\n",
      "  warnings.warn(\n"
     ]
    },
    {
     "data": {
      "text/plain": [
       "<AxesSubplot:xlabel='electric_range', ylabel='months_owned'>"
      ]
     },
     "execution_count": 11,
     "metadata": {},
     "output_type": "execute_result"
    },
    {
     "data": {
      "image/png": "[encoded data removed]",
      "text/plain": [
       "<Figure size 432x288 with 1 Axes>"
      ]
     },
     "metadata": {
      "needs_background": "light"
     },
     "output_type": "display_data"
    }
   ],
   "source": [
    "sns.pointplot(ev_survey_output_raw.electric_range, ev_survey_output_raw.months_owned)"
   ]
  },
  {
   "cell_type": "markdown",
   "metadata": {},
   "source": [
    "### Profile the raw data for the EV survey"
   ]
  },
  {
   "cell_type": "code",
   "execution_count": 12,
   "metadata": {},
   "outputs": [],
   "source": [
    "#profile = ProfileReport(ev_survey_output_raw, title=\"Pandas Profiling Report\")"
   ]
  },
  {
   "cell_type": "code",
   "execution_count": 13,
   "metadata": {
    "scrolled": false
   },
   "outputs": [],
   "source": [
    "#profile.to_widgets()"
   ]
  },
  {
   "cell_type": "markdown",
   "metadata": {},
   "source": [
    "### Profile the raw data for the EV vehicles"
   ]
  },
  {
   "cell_type": "code",
   "execution_count": 14,
   "metadata": {},
   "outputs": [],
   "source": [
    "#profile = ProfileReport(ev_vehicle_data_raw, title=\"Pandas Profiling Report\")"
   ]
  },
  {
   "cell_type": "code",
   "execution_count": 15,
   "metadata": {
    "scrolled": false
   },
   "outputs": [],
   "source": [
    "#profile.to_widgets()"
   ]
  },
  {
   "cell_type": "code",
   "execution_count": 16,
   "metadata": {},
   "outputs": [
    {
     "data": {
      "text/plain": [
       "[2689, 3135]"
      ]
     },
     "execution_count": 16,
     "metadata": {},
     "output_type": "execute_result"
    }
   ],
   "source": [
    "ev_survey_output_raw.index[ev_survey_output_raw['months_owned'] == True].tolist()"
   ]
  },
  {
   "cell_type": "markdown",
   "metadata": {},
   "source": [
    "## Data Munging Step (get the data in shape for EDA and modeling)"
   ]
  },
  {
   "cell_type": "markdown",
   "metadata": {},
   "source": [
    "### Reduce the survey data to respondents who continued or discontinued use.\n",
    "For the purposes of generating a predictive model, the users who are original owners need to be dropped as there is not a way to predict their next behavior."
   ]
  },
  {
   "cell_type": "code",
   "execution_count": 17,
   "metadata": {},
   "outputs": [],
   "source": [
    "#Retain the data for the users who are known to have either discontinued EV ownership or are continued owners.\n",
    "\n",
    "ev_ownership_sans_original_owners = ev_survey_output_raw.loc[(ev_survey_output_raw.discontinuance == 'Continued') |\n",
    "                                                             (ev_survey_output_raw.discontinuance == 'Discontinued')]\n"
   ]
  },
  {
   "cell_type": "code",
   "execution_count": 18,
   "metadata": {},
   "outputs": [
    {
     "name": "stdout",
     "output_type": "stream",
     "text": [
      "The raw dataset included 4835 entries, after filtering the original owners there are now 1947 entries.\n"
     ]
    }
   ],
   "source": [
    "text = f\"The raw dataset included {len(ev_survey_output_raw)} entries, after filtering the original owners there are now {len(ev_ownership_sans_original_owners)} entries.\"\n",
    "print(text)"
   ]
  },
  {
   "cell_type": "code",
   "execution_count": 19,
   "metadata": {},
   "outputs": [
    {
     "data": {
      "text/html": [
       "<div>\n",
       "<style scoped>\n",
       "    .dataframe tbody tr th:only-of-type {\n",
       "        vertical-align: middle;\n",
       "    }\n",
       "\n",
       "    .dataframe tbody tr th {\n",
       "        vertical-align: top;\n",
       "    }\n",
       "\n",
       "    .dataframe thead th {\n",
       "        text-align: right;\n",
       "    }\n",
       "</style>\n",
       "<table border=\"1\" class=\"dataframe\">\n",
       "  <thead>\n",
       "    <tr style=\"text-align: right;\">\n",
       "      <th></th>\n",
       "      <th>response_id</th>\n",
       "      <th>year_submitted_survey_2</th>\n",
       "      <th>months_owned</th>\n",
       "      <th>year_make_model</th>\n",
       "      <th>electric_range</th>\n",
       "      <th>ev_type</th>\n",
       "      <th>discontinuance</th>\n",
       "      <th>surveyed_age</th>\n",
       "      <th>surveyed_gender</th>\n",
       "      <th>dist_1</th>\n",
       "      <th>...</th>\n",
       "      <th>range_satisfaction</th>\n",
       "      <th>charge_access_satisfaction</th>\n",
       "      <th>adas_satisfaction</th>\n",
       "      <th>household_income</th>\n",
       "      <th>home_charge_type</th>\n",
       "      <th>work_charge_type</th>\n",
       "      <th>highest_charge_used</th>\n",
       "      <th>backup_vehicle_mpg</th>\n",
       "      <th>finance_type</th>\n",
       "      <th>last_page</th>\n",
       "    </tr>\n",
       "  </thead>\n",
       "  <tbody>\n",
       "    <tr>\n",
       "      <th>0</th>\n",
       "      <td>1.0</td>\n",
       "      <td>2019.0</td>\n",
       "      <td>24.0</td>\n",
       "      <td>2016 BMW i3</td>\n",
       "      <td>81.0</td>\n",
       "      <td>PHEV</td>\n",
       "      <td>Continued</td>\n",
       "      <td>25.0</td>\n",
       "      <td>Male</td>\n",
       "      <td>13.92</td>\n",
       "      <td>...</td>\n",
       "      <td>5.0</td>\n",
       "      <td>5.0</td>\n",
       "      <td>5.0</td>\n",
       "      <td>$150,000 to $199,999</td>\n",
       "      <td>No Charging</td>\n",
       "      <td>No charging</td>\n",
       "      <td>Level 2</td>\n",
       "      <td>25.0</td>\n",
       "      <td>1.0</td>\n",
       "      <td>40.0</td>\n",
       "    </tr>\n",
       "    <tr>\n",
       "      <th>6</th>\n",
       "      <td>7.0</td>\n",
       "      <td>2019.0</td>\n",
       "      <td>14.0</td>\n",
       "      <td>2016 Fiat 500e</td>\n",
       "      <td>87.0</td>\n",
       "      <td>BEV</td>\n",
       "      <td>Continued</td>\n",
       "      <td>35.0</td>\n",
       "      <td>Male</td>\n",
       "      <td>8.54</td>\n",
       "      <td>...</td>\n",
       "      <td>1.0</td>\n",
       "      <td>3.0</td>\n",
       "      <td>3.0</td>\n",
       "      <td>$50,000 to $99,999</td>\n",
       "      <td>Level 1</td>\n",
       "      <td>No charging</td>\n",
       "      <td>Level 2</td>\n",
       "      <td>82.0</td>\n",
       "      <td>1.0</td>\n",
       "      <td>40.0</td>\n",
       "    </tr>\n",
       "    <tr>\n",
       "      <th>9</th>\n",
       "      <td>11.0</td>\n",
       "      <td>2019.0</td>\n",
       "      <td>48.0</td>\n",
       "      <td>2015 Nissan Leaf</td>\n",
       "      <td>84.0</td>\n",
       "      <td>BEV</td>\n",
       "      <td>Discontinued</td>\n",
       "      <td>55.0</td>\n",
       "      <td>Male</td>\n",
       "      <td>NaN</td>\n",
       "      <td>...</td>\n",
       "      <td>1.0</td>\n",
       "      <td>2.0</td>\n",
       "      <td>1.0</td>\n",
       "      <td>I prefer not to answer</td>\n",
       "      <td>Level 1</td>\n",
       "      <td>No charging</td>\n",
       "      <td>No charging</td>\n",
       "      <td>24.0</td>\n",
       "      <td>1.0</td>\n",
       "      <td>40.0</td>\n",
       "    </tr>\n",
       "    <tr>\n",
       "      <th>10</th>\n",
       "      <td>12.0</td>\n",
       "      <td>2019.0</td>\n",
       "      <td>30.0</td>\n",
       "      <td>2015 BMW i3</td>\n",
       "      <td>81.0</td>\n",
       "      <td>PHEV</td>\n",
       "      <td>Continued</td>\n",
       "      <td>55.0</td>\n",
       "      <td>Male</td>\n",
       "      <td>9.43</td>\n",
       "      <td>...</td>\n",
       "      <td>2.0</td>\n",
       "      <td>3.0</td>\n",
       "      <td>3.0</td>\n",
       "      <td>$100,000 to $149,999</td>\n",
       "      <td>Level 2</td>\n",
       "      <td>Level 1</td>\n",
       "      <td>No charging</td>\n",
       "      <td>34.0</td>\n",
       "      <td>1.0</td>\n",
       "      <td>40.0</td>\n",
       "    </tr>\n",
       "    <tr>\n",
       "      <th>11</th>\n",
       "      <td>13.0</td>\n",
       "      <td>2019.0</td>\n",
       "      <td>31.0</td>\n",
       "      <td>2016 Volkswagen e-Golf</td>\n",
       "      <td>84.0</td>\n",
       "      <td>BEV</td>\n",
       "      <td>Continued</td>\n",
       "      <td>35.0</td>\n",
       "      <td>Male</td>\n",
       "      <td>16.32</td>\n",
       "      <td>...</td>\n",
       "      <td>2.0</td>\n",
       "      <td>4.0</td>\n",
       "      <td>2.0</td>\n",
       "      <td>$150,000 to $199,999</td>\n",
       "      <td>Level 1</td>\n",
       "      <td>Level 1</td>\n",
       "      <td>Level 1 &amp; Level 2</td>\n",
       "      <td>NaN</td>\n",
       "      <td>1.0</td>\n",
       "      <td>40.0</td>\n",
       "    </tr>\n",
       "  </tbody>\n",
       "</table>\n",
       "<p>5 rows × 28 columns</p>\n",
       "</div>"
      ],
      "text/plain": [
       "    response_id  year_submitted_survey_2  months_owned  \\\n",
       "0           1.0                   2019.0          24.0   \n",
       "6           7.0                   2019.0          14.0   \n",
       "9          11.0                   2019.0          48.0   \n",
       "10         12.0                   2019.0          30.0   \n",
       "11         13.0                   2019.0          31.0   \n",
       "\n",
       "           year_make_model  electric_range ev_type discontinuance  \\\n",
       "0              2016 BMW i3            81.0    PHEV      Continued   \n",
       "6           2016 Fiat 500e            87.0     BEV      Continued   \n",
       "9         2015 Nissan Leaf            84.0     BEV   Discontinued   \n",
       "10             2015 BMW i3            81.0    PHEV      Continued   \n",
       "11  2016 Volkswagen e-Golf            84.0     BEV      Continued   \n",
       "\n",
       "    surveyed_age surveyed_gender  dist_1  ...  range_satisfaction  \\\n",
       "0           25.0            Male   13.92  ...                 5.0   \n",
       "6           35.0            Male    8.54  ...                 1.0   \n",
       "9           55.0            Male     NaN  ...                 1.0   \n",
       "10          55.0            Male    9.43  ...                 2.0   \n",
       "11          35.0            Male   16.32  ...                 2.0   \n",
       "\n",
       "    charge_access_satisfaction  adas_satisfaction        household_income  \\\n",
       "0                          5.0                5.0    $150,000 to $199,999   \n",
       "6                          3.0                3.0      $50,000 to $99,999   \n",
       "9                          2.0                1.0  I prefer not to answer   \n",
       "10                         3.0                3.0    $100,000 to $149,999   \n",
       "11                         4.0                2.0    $150,000 to $199,999   \n",
       "\n",
       "    home_charge_type  work_charge_type  highest_charge_used  \\\n",
       "0        No Charging       No charging              Level 2   \n",
       "6            Level 1       No charging              Level 2   \n",
       "9            Level 1       No charging          No charging   \n",
       "10           Level 2           Level 1          No charging   \n",
       "11           Level 1           Level 1    Level 1 & Level 2   \n",
       "\n",
       "    backup_vehicle_mpg  finance_type  last_page  \n",
       "0                 25.0           1.0       40.0  \n",
       "6                 82.0           1.0       40.0  \n",
       "9                 24.0           1.0       40.0  \n",
       "10                34.0           1.0       40.0  \n",
       "11                 NaN           1.0       40.0  \n",
       "\n",
       "[5 rows x 28 columns]"
      ]
     },
     "execution_count": 19,
     "metadata": {},
     "output_type": "execute_result"
    }
   ],
   "source": [
    "ev_ownership_sans_original_owners.head()"
   ]
  },
  {
   "cell_type": "code",
   "execution_count": 20,
   "metadata": {},
   "outputs": [
    {
     "data": {
      "text/plain": [
       "$150,000 to $199,999      315\n",
       "$100,000 to $149,999      312\n",
       "I prefer not to answer    256\n",
       "$200,000 to $249,999      196\n",
       "$50,000 to $99,999        178\n",
       "$250,000 to $299,999      127\n",
       "$500,000 or more          120\n",
       "$300,000 to $349,999       76\n",
       "$350,000 to $399,999       54\n",
       "Less than $50,000          40\n",
       "$400,000 to $449,999       29\n",
       "$450,000 to $499,999       21\n",
       "Name: household_income, dtype: int64"
      ]
     },
     "execution_count": 20,
     "metadata": {},
     "output_type": "execute_result"
    }
   ],
   "source": [
    "ev_ownership_sans_original_owners.household_income.value_counts()"
   ]
  },
  {
   "cell_type": "code",
   "execution_count": 21,
   "metadata": {},
   "outputs": [],
   "source": [
    "#_= pd.plotting.scatter_matrix(ev_ownership_sans_original_owners, c='y', figsize=[8,8], s=150, marker='D')\n",
    "# Make a pairplot of the ev survey data\n",
    "##sns.pairplot(ev_ownership_sans_original_owners, kind='scatter')"
   ]
  },
  {
   "cell_type": "markdown",
   "metadata": {},
   "source": [
    "### Set the columns with text data to lowercase\n",
    "This will help with inconsistency if the data entry wasn't done precisely"
   ]
  },
  {
   "cell_type": "code",
   "execution_count": 22,
   "metadata": {},
   "outputs": [
    {
     "name": "stderr",
     "output_type": "stream",
     "text": [
      "<ipython-input-22-fd5ce7fe4550>:2: SettingWithCopyWarning: \n",
      "A value is trying to be set on a copy of a slice from a DataFrame.\n",
      "Try using .loc[row_indexer,col_indexer] = value instead\n",
      "\n",
      "See the caveats in the documentation: https://pandas.pydata.org/pandas-docs/stable/user_guide/indexing.html#returning-a-view-versus-a-copy\n",
      "  ev_ownership_sans_original_owners[col]= ev_ownership_sans_original_owners[col]\\\n"
     ]
    }
   ],
   "source": [
    "for col in ev_ownership_sans_original_owners.columns:\n",
    "    ev_ownership_sans_original_owners[col]= ev_ownership_sans_original_owners[col]\\\n",
    "                                                    .map(lambda x: x.lower() if isinstance(x,str) else x)\n",
    "    "
   ]
  },
  {
   "cell_type": "code",
   "execution_count": 23,
   "metadata": {},
   "outputs": [],
   "source": [
    "#profile = ProfileReport(ev_ownership_sans_original_owners, title=\"Pandas Profiling Report\")"
   ]
  },
  {
   "cell_type": "code",
   "execution_count": 24,
   "metadata": {
    "scrolled": true
   },
   "outputs": [],
   "source": [
    "#profile.to_widgets()"
   ]
  },
  {
   "cell_type": "markdown",
   "metadata": {},
   "source": [
    "### Split the attributes for the Year Make and Model of each vehicle in the survey into separate columns\n",
    "This also gets the columns in the format needed to join to the table with the EV vehicle list"
   ]
  },
  {
   "cell_type": "code",
   "execution_count": 25,
   "metadata": {},
   "outputs": [
    {
     "data": {
      "text/html": [
       "<div>\n",
       "<style scoped>\n",
       "    .dataframe tbody tr th:only-of-type {\n",
       "        vertical-align: middle;\n",
       "    }\n",
       "\n",
       "    .dataframe tbody tr th {\n",
       "        vertical-align: top;\n",
       "    }\n",
       "\n",
       "    .dataframe thead th {\n",
       "        text-align: right;\n",
       "    }\n",
       "</style>\n",
       "<table border=\"1\" class=\"dataframe\">\n",
       "  <thead>\n",
       "    <tr style=\"text-align: right;\">\n",
       "      <th></th>\n",
       "      <th>year</th>\n",
       "      <th>make</th>\n",
       "      <th>model</th>\n",
       "    </tr>\n",
       "  </thead>\n",
       "  <tbody>\n",
       "    <tr>\n",
       "      <th>0</th>\n",
       "      <td>2016</td>\n",
       "      <td>bmw</td>\n",
       "      <td>i3</td>\n",
       "    </tr>\n",
       "    <tr>\n",
       "      <th>6</th>\n",
       "      <td>2016</td>\n",
       "      <td>fiat</td>\n",
       "      <td>500e</td>\n",
       "    </tr>\n",
       "    <tr>\n",
       "      <th>9</th>\n",
       "      <td>2015</td>\n",
       "      <td>nissan</td>\n",
       "      <td>leaf</td>\n",
       "    </tr>\n",
       "    <tr>\n",
       "      <th>10</th>\n",
       "      <td>2015</td>\n",
       "      <td>bmw</td>\n",
       "      <td>i3</td>\n",
       "    </tr>\n",
       "    <tr>\n",
       "      <th>11</th>\n",
       "      <td>2016</td>\n",
       "      <td>volkswagen</td>\n",
       "      <td>e-golf</td>\n",
       "    </tr>\n",
       "  </tbody>\n",
       "</table>\n",
       "</div>"
      ],
      "text/plain": [
       "    year        make   model\n",
       "0   2016         bmw      i3\n",
       "6   2016        fiat    500e\n",
       "9   2015      nissan    leaf\n",
       "10  2015         bmw      i3\n",
       "11  2016  volkswagen  e-golf"
      ]
     },
     "execution_count": 25,
     "metadata": {},
     "output_type": "execute_result"
    }
   ],
   "source": [
    "models_makes = ev_ownership_sans_original_owners[\"year_make_model\"].str.split(\" \", n = 1, expand = True)\n",
    "\n",
    "year         = models_makes[0].str.split(\" \", n = 1, expand = True)[0]\n",
    "make         = models_makes[1].str.split(\" \", n = 1, expand = True)[0]\n",
    "model        = models_makes[1].str.split(\" \", n = 1, expand = True)[0:][1]\n",
    "\n",
    "temp_my_make = pd.DataFrame(columns =['year','make', 'model'] )\n",
    "temp_my_make['year']  = year\n",
    "temp_my_make['year'].replace(' ', '')\n",
    "temp_my_make['make']  = make\n",
    "temp_my_make['year'].replace(' ', '')\n",
    "temp_my_make['model'] = model\n",
    "temp_my_make.head()"
   ]
  },
  {
   "cell_type": "code",
   "execution_count": 26,
   "metadata": {},
   "outputs": [
    {
     "data": {
      "text/plain": [
       "array(['i3', '500e', 'leaf', 'e-golf', 'prius plug-in', 'c-max energi',\n",
       "       'volt', 'model s', 'fusion energi', 'soul ev', 'model x', 'i-miev',\n",
       "       'spark ev', 'sonata plug-in hybrid', 'egolf', 'bolt ev', 'mirai',\n",
       "       'a3 sportback e-tron', 'fit ev', 'rav4 ev', ' prius plug-in',\n",
       "       'tucson', 'model x 75d', 'focus electric',\n",
       "       'b-class electric drive', 'i3 rex  (94 amp-hour battery)', 'b250e',\n",
       "       'model 3 long range', 'elr', 'c-max energi plug-in hybrid',\n",
       "       'accord plug-in hybrid', 'prius prime', 'fortwo', 'ioniq electric',\n",
       "       'ev ranger', 'tuscan', 'e-gulf', 'model s (75 kw-hr battery pack)',\n",
       "       'ds 11.4 kwh battery', 'model s (60 kw-hr battery pack)', 'ecmax',\n",
       "       'prius', 'i8', 'i3 rex', 'tuscon', 'tuscon fcv', 's-class',\n",
       "       'fortwo electric drive convertible', '85 s', 'tucson fuel cell',\n",
       "       'i3 bev (94 amp-hour battery)', 'clarity fuel cell', ' volt',\n",
       "       ' chevrolet volt', ' model x'], dtype=object)"
      ]
     },
     "execution_count": 26,
     "metadata": {},
     "output_type": "execute_result"
    }
   ],
   "source": [
    "#What are the unique vehicle models in the survey?\n",
    "temp_my_make.model.unique()"
   ]
  },
  {
   "cell_type": "code",
   "execution_count": 27,
   "metadata": {},
   "outputs": [
    {
     "name": "stderr",
     "output_type": "stream",
     "text": [
      "<ipython-input-27-23f1cef634e8>:1: SettingWithCopyWarning: \n",
      "A value is trying to be set on a copy of a slice from a DataFrame.\n",
      "Try using .loc[row_indexer,col_indexer] = value instead\n",
      "\n",
      "See the caveats in the documentation: https://pandas.pydata.org/pandas-docs/stable/user_guide/indexing.html#returning-a-view-versus-a-copy\n",
      "  ev_ownership_sans_original_owners['model_year'] = temp_my_make.year\n",
      "<ipython-input-27-23f1cef634e8>:2: SettingWithCopyWarning: \n",
      "A value is trying to be set on a copy of a slice from a DataFrame.\n",
      "Try using .loc[row_indexer,col_indexer] = value instead\n",
      "\n",
      "See the caveats in the documentation: https://pandas.pydata.org/pandas-docs/stable/user_guide/indexing.html#returning-a-view-versus-a-copy\n",
      "  ev_ownership_sans_original_owners['Make']       = temp_my_make.make\n",
      "<ipython-input-27-23f1cef634e8>:3: SettingWithCopyWarning: \n",
      "A value is trying to be set on a copy of a slice from a DataFrame.\n",
      "Try using .loc[row_indexer,col_indexer] = value instead\n",
      "\n",
      "See the caveats in the documentation: https://pandas.pydata.org/pandas-docs/stable/user_guide/indexing.html#returning-a-view-versus-a-copy\n",
      "  ev_ownership_sans_original_owners['Model']      = temp_my_make.model\n"
     ]
    }
   ],
   "source": [
    "ev_ownership_sans_original_owners['model_year'] = temp_my_make.year\n",
    "ev_ownership_sans_original_owners['Make']       = temp_my_make.make\n",
    "ev_ownership_sans_original_owners['Model']      = temp_my_make.model"
   ]
  },
  {
   "cell_type": "code",
   "execution_count": 28,
   "metadata": {},
   "outputs": [
    {
     "data": {
      "text/html": [
       "<div>\n",
       "<style scoped>\n",
       "    .dataframe tbody tr th:only-of-type {\n",
       "        vertical-align: middle;\n",
       "    }\n",
       "\n",
       "    .dataframe tbody tr th {\n",
       "        vertical-align: top;\n",
       "    }\n",
       "\n",
       "    .dataframe thead th {\n",
       "        text-align: right;\n",
       "    }\n",
       "</style>\n",
       "<table border=\"1\" class=\"dataframe\">\n",
       "  <thead>\n",
       "    <tr style=\"text-align: right;\">\n",
       "      <th></th>\n",
       "      <th>response_id</th>\n",
       "      <th>year_submitted_survey_2</th>\n",
       "      <th>months_owned</th>\n",
       "      <th>year_make_model</th>\n",
       "      <th>electric_range</th>\n",
       "      <th>ev_type</th>\n",
       "      <th>discontinuance</th>\n",
       "      <th>surveyed_age</th>\n",
       "      <th>surveyed_gender</th>\n",
       "      <th>dist_1</th>\n",
       "      <th>...</th>\n",
       "      <th>household_income</th>\n",
       "      <th>home_charge_type</th>\n",
       "      <th>work_charge_type</th>\n",
       "      <th>highest_charge_used</th>\n",
       "      <th>backup_vehicle_mpg</th>\n",
       "      <th>finance_type</th>\n",
       "      <th>last_page</th>\n",
       "      <th>model_year</th>\n",
       "      <th>Make</th>\n",
       "      <th>Model</th>\n",
       "    </tr>\n",
       "  </thead>\n",
       "  <tbody>\n",
       "    <tr>\n",
       "      <th>0</th>\n",
       "      <td>1.0</td>\n",
       "      <td>2019.0</td>\n",
       "      <td>24.0</td>\n",
       "      <td>2016 bmw i3</td>\n",
       "      <td>81.0</td>\n",
       "      <td>phev</td>\n",
       "      <td>continued</td>\n",
       "      <td>25.0</td>\n",
       "      <td>male</td>\n",
       "      <td>13.92</td>\n",
       "      <td>...</td>\n",
       "      <td>$150,000 to $199,999</td>\n",
       "      <td>no charging</td>\n",
       "      <td>no charging</td>\n",
       "      <td>level 2</td>\n",
       "      <td>25.0</td>\n",
       "      <td>1.0</td>\n",
       "      <td>40.0</td>\n",
       "      <td>2016</td>\n",
       "      <td>bmw</td>\n",
       "      <td>i3</td>\n",
       "    </tr>\n",
       "    <tr>\n",
       "      <th>6</th>\n",
       "      <td>7.0</td>\n",
       "      <td>2019.0</td>\n",
       "      <td>14.0</td>\n",
       "      <td>2016 fiat 500e</td>\n",
       "      <td>87.0</td>\n",
       "      <td>bev</td>\n",
       "      <td>continued</td>\n",
       "      <td>35.0</td>\n",
       "      <td>male</td>\n",
       "      <td>8.54</td>\n",
       "      <td>...</td>\n",
       "      <td>$50,000 to $99,999</td>\n",
       "      <td>level 1</td>\n",
       "      <td>no charging</td>\n",
       "      <td>level 2</td>\n",
       "      <td>82.0</td>\n",
       "      <td>1.0</td>\n",
       "      <td>40.0</td>\n",
       "      <td>2016</td>\n",
       "      <td>fiat</td>\n",
       "      <td>500e</td>\n",
       "    </tr>\n",
       "    <tr>\n",
       "      <th>9</th>\n",
       "      <td>11.0</td>\n",
       "      <td>2019.0</td>\n",
       "      <td>48.0</td>\n",
       "      <td>2015 nissan leaf</td>\n",
       "      <td>84.0</td>\n",
       "      <td>bev</td>\n",
       "      <td>discontinued</td>\n",
       "      <td>55.0</td>\n",
       "      <td>male</td>\n",
       "      <td>NaN</td>\n",
       "      <td>...</td>\n",
       "      <td>i prefer not to answer</td>\n",
       "      <td>level 1</td>\n",
       "      <td>no charging</td>\n",
       "      <td>no charging</td>\n",
       "      <td>24.0</td>\n",
       "      <td>1.0</td>\n",
       "      <td>40.0</td>\n",
       "      <td>2015</td>\n",
       "      <td>nissan</td>\n",
       "      <td>leaf</td>\n",
       "    </tr>\n",
       "    <tr>\n",
       "      <th>10</th>\n",
       "      <td>12.0</td>\n",
       "      <td>2019.0</td>\n",
       "      <td>30.0</td>\n",
       "      <td>2015 bmw i3</td>\n",
       "      <td>81.0</td>\n",
       "      <td>phev</td>\n",
       "      <td>continued</td>\n",
       "      <td>55.0</td>\n",
       "      <td>male</td>\n",
       "      <td>9.43</td>\n",
       "      <td>...</td>\n",
       "      <td>$100,000 to $149,999</td>\n",
       "      <td>level 2</td>\n",
       "      <td>level 1</td>\n",
       "      <td>no charging</td>\n",
       "      <td>34.0</td>\n",
       "      <td>1.0</td>\n",
       "      <td>40.0</td>\n",
       "      <td>2015</td>\n",
       "      <td>bmw</td>\n",
       "      <td>i3</td>\n",
       "    </tr>\n",
       "    <tr>\n",
       "      <th>11</th>\n",
       "      <td>13.0</td>\n",
       "      <td>2019.0</td>\n",
       "      <td>31.0</td>\n",
       "      <td>2016 volkswagen e-golf</td>\n",
       "      <td>84.0</td>\n",
       "      <td>bev</td>\n",
       "      <td>continued</td>\n",
       "      <td>35.0</td>\n",
       "      <td>male</td>\n",
       "      <td>16.32</td>\n",
       "      <td>...</td>\n",
       "      <td>$150,000 to $199,999</td>\n",
       "      <td>level 1</td>\n",
       "      <td>level 1</td>\n",
       "      <td>level 1 &amp; level 2</td>\n",
       "      <td>NaN</td>\n",
       "      <td>1.0</td>\n",
       "      <td>40.0</td>\n",
       "      <td>2016</td>\n",
       "      <td>volkswagen</td>\n",
       "      <td>e-golf</td>\n",
       "    </tr>\n",
       "  </tbody>\n",
       "</table>\n",
       "<p>5 rows × 31 columns</p>\n",
       "</div>"
      ],
      "text/plain": [
       "    response_id  year_submitted_survey_2  months_owned  \\\n",
       "0           1.0                   2019.0          24.0   \n",
       "6           7.0                   2019.0          14.0   \n",
       "9          11.0                   2019.0          48.0   \n",
       "10         12.0                   2019.0          30.0   \n",
       "11         13.0                   2019.0          31.0   \n",
       "\n",
       "           year_make_model  electric_range ev_type discontinuance  \\\n",
       "0              2016 bmw i3            81.0    phev      continued   \n",
       "6           2016 fiat 500e            87.0     bev      continued   \n",
       "9         2015 nissan leaf            84.0     bev   discontinued   \n",
       "10             2015 bmw i3            81.0    phev      continued   \n",
       "11  2016 volkswagen e-golf            84.0     bev      continued   \n",
       "\n",
       "    surveyed_age surveyed_gender  dist_1  ...        household_income  \\\n",
       "0           25.0            male   13.92  ...    $150,000 to $199,999   \n",
       "6           35.0            male    8.54  ...      $50,000 to $99,999   \n",
       "9           55.0            male     NaN  ...  i prefer not to answer   \n",
       "10          55.0            male    9.43  ...    $100,000 to $149,999   \n",
       "11          35.0            male   16.32  ...    $150,000 to $199,999   \n",
       "\n",
       "    home_charge_type  work_charge_type  highest_charge_used  \\\n",
       "0        no charging       no charging              level 2   \n",
       "6            level 1       no charging              level 2   \n",
       "9            level 1       no charging          no charging   \n",
       "10           level 2           level 1          no charging   \n",
       "11           level 1           level 1    level 1 & level 2   \n",
       "\n",
       "    backup_vehicle_mpg  finance_type  last_page  model_year        Make  \\\n",
       "0                 25.0           1.0       40.0        2016         bmw   \n",
       "6                 82.0           1.0       40.0        2016        fiat   \n",
       "9                 24.0           1.0       40.0        2015      nissan   \n",
       "10                34.0           1.0       40.0        2015         bmw   \n",
       "11                 NaN           1.0       40.0        2016  volkswagen   \n",
       "\n",
       "     Model  \n",
       "0       i3  \n",
       "6     500e  \n",
       "9     leaf  \n",
       "10      i3  \n",
       "11  e-golf  \n",
       "\n",
       "[5 rows x 31 columns]"
      ]
     },
     "execution_count": 28,
     "metadata": {},
     "output_type": "execute_result"
    }
   ],
   "source": [
    "ev_ownership_sans_original_owners.head()"
   ]
  },
  {
   "cell_type": "code",
   "execution_count": 29,
   "metadata": {},
   "outputs": [],
   "source": [
    "column_list = ev_ownership_sans_original_owners.columns.to_list()"
   ]
  },
  {
   "cell_type": "code",
   "execution_count": 30,
   "metadata": {},
   "outputs": [
    {
     "data": {
      "text/plain": [
       "['response_id',\n",
       " 'year_submitted_survey_2',\n",
       " 'months_owned',\n",
       " 'year_make_model',\n",
       " 'electric_range',\n",
       " 'ev_type',\n",
       " 'discontinuance',\n",
       " 'surveyed_age',\n",
       " 'surveyed_gender',\n",
       " 'dist_1',\n",
       " 'trips_greater_200',\n",
       " 'safety_satisfaction',\n",
       " 'comfort_satisfaction',\n",
       " 'refuel_recharge_satisfaction',\n",
       " 'performance_satisfaction',\n",
       " 'env_impact_satisfaction',\n",
       " 'purch_price_satisfaction',\n",
       " 'reliability_satisfaction',\n",
       " 'range_satisfaction',\n",
       " 'charge_access_satisfaction',\n",
       " 'adas_satisfaction',\n",
       " 'household_income',\n",
       " 'home_charge_type',\n",
       " 'work_charge_type',\n",
       " 'highest_charge_used',\n",
       " 'backup_vehicle_mpg',\n",
       " 'finance_type',\n",
       " 'last_page',\n",
       " 'model_year',\n",
       " 'Make',\n",
       " 'Model']"
      ]
     },
     "execution_count": 30,
     "metadata": {},
     "output_type": "execute_result"
    }
   ],
   "source": [
    "#Extract the current column list. From this list, restructure the columns to the desired target format in the next cell.\n",
    "column_list"
   ]
  },
  {
   "cell_type": "code",
   "execution_count": 31,
   "metadata": {},
   "outputs": [],
   "source": [
    "# Reorganize them to the preferred order\n",
    "column_list = ['response_id',\n",
    " 'year_submitted_survey_2',\n",
    " 'months_owned',\n",
    " 'model_year',\n",
    " 'Make',\n",
    " 'Model',           \n",
    " 'year_make_model',\n",
    " 'electric_range',\n",
    " 'ev_type',\n",
    " 'discontinuance',\n",
    " 'surveyed_age',\n",
    " 'surveyed_gender',\n",
    " 'dist_1',\n",
    " 'trips_greater_200',\n",
    " 'safety_satisfaction',\n",
    " 'comfort_satisfaction',\n",
    " 'refuel_recharge_satisfaction',\n",
    " 'performance_satisfaction',\n",
    " 'env_impact_satisfaction',\n",
    " 'purch_price_satisfaction',\n",
    " 'reliability_satisfaction',\n",
    " 'range_satisfaction',\n",
    " 'charge_access_satisfaction',\n",
    " 'adas_satisfaction',\n",
    " 'household_income',\n",
    " 'home_charge_type',\n",
    " 'work_charge_type',\n",
    " 'highest_charge_used',\n",
    " 'backup_vehicle_mpg',\n",
    " 'finance_type',\n",
    " 'last_page']"
   ]
  },
  {
   "cell_type": "markdown",
   "metadata": {},
   "source": [
    "### Reindex the dataframe,  drop the year_make_model column now that it has been split into separate cols. "
   ]
  },
  {
   "cell_type": "code",
   "execution_count": 32,
   "metadata": {},
   "outputs": [],
   "source": [
    "ev_ownership_sans_original_owners = ev_ownership_sans_original_owners.reindex(columns = column_list)\n",
    "ev_ownership_sans_original_owners.drop(columns = ['year_make_model'], inplace=True)"
   ]
  },
  {
   "cell_type": "code",
   "execution_count": 33,
   "metadata": {},
   "outputs": [
    {
     "data": {
      "text/html": [
       "<div>\n",
       "<style scoped>\n",
       "    .dataframe tbody tr th:only-of-type {\n",
       "        vertical-align: middle;\n",
       "    }\n",
       "\n",
       "    .dataframe tbody tr th {\n",
       "        vertical-align: top;\n",
       "    }\n",
       "\n",
       "    .dataframe thead th {\n",
       "        text-align: right;\n",
       "    }\n",
       "</style>\n",
       "<table border=\"1\" class=\"dataframe\">\n",
       "  <thead>\n",
       "    <tr style=\"text-align: right;\">\n",
       "      <th></th>\n",
       "      <th>response_id</th>\n",
       "      <th>year_submitted_survey_2</th>\n",
       "      <th>months_owned</th>\n",
       "      <th>model_year</th>\n",
       "      <th>Make</th>\n",
       "      <th>Model</th>\n",
       "      <th>electric_range</th>\n",
       "      <th>ev_type</th>\n",
       "      <th>discontinuance</th>\n",
       "      <th>surveyed_age</th>\n",
       "      <th>...</th>\n",
       "      <th>range_satisfaction</th>\n",
       "      <th>charge_access_satisfaction</th>\n",
       "      <th>adas_satisfaction</th>\n",
       "      <th>household_income</th>\n",
       "      <th>home_charge_type</th>\n",
       "      <th>work_charge_type</th>\n",
       "      <th>highest_charge_used</th>\n",
       "      <th>backup_vehicle_mpg</th>\n",
       "      <th>finance_type</th>\n",
       "      <th>last_page</th>\n",
       "    </tr>\n",
       "  </thead>\n",
       "  <tbody>\n",
       "    <tr>\n",
       "      <th>0</th>\n",
       "      <td>1.0</td>\n",
       "      <td>2019.0</td>\n",
       "      <td>24.0</td>\n",
       "      <td>2016</td>\n",
       "      <td>bmw</td>\n",
       "      <td>i3</td>\n",
       "      <td>81.0</td>\n",
       "      <td>phev</td>\n",
       "      <td>continued</td>\n",
       "      <td>25.0</td>\n",
       "      <td>...</td>\n",
       "      <td>5.0</td>\n",
       "      <td>5.0</td>\n",
       "      <td>5.0</td>\n",
       "      <td>$150,000 to $199,999</td>\n",
       "      <td>no charging</td>\n",
       "      <td>no charging</td>\n",
       "      <td>level 2</td>\n",
       "      <td>25.0</td>\n",
       "      <td>1.0</td>\n",
       "      <td>40.0</td>\n",
       "    </tr>\n",
       "    <tr>\n",
       "      <th>6</th>\n",
       "      <td>7.0</td>\n",
       "      <td>2019.0</td>\n",
       "      <td>14.0</td>\n",
       "      <td>2016</td>\n",
       "      <td>fiat</td>\n",
       "      <td>500e</td>\n",
       "      <td>87.0</td>\n",
       "      <td>bev</td>\n",
       "      <td>continued</td>\n",
       "      <td>35.0</td>\n",
       "      <td>...</td>\n",
       "      <td>1.0</td>\n",
       "      <td>3.0</td>\n",
       "      <td>3.0</td>\n",
       "      <td>$50,000 to $99,999</td>\n",
       "      <td>level 1</td>\n",
       "      <td>no charging</td>\n",
       "      <td>level 2</td>\n",
       "      <td>82.0</td>\n",
       "      <td>1.0</td>\n",
       "      <td>40.0</td>\n",
       "    </tr>\n",
       "    <tr>\n",
       "      <th>9</th>\n",
       "      <td>11.0</td>\n",
       "      <td>2019.0</td>\n",
       "      <td>48.0</td>\n",
       "      <td>2015</td>\n",
       "      <td>nissan</td>\n",
       "      <td>leaf</td>\n",
       "      <td>84.0</td>\n",
       "      <td>bev</td>\n",
       "      <td>discontinued</td>\n",
       "      <td>55.0</td>\n",
       "      <td>...</td>\n",
       "      <td>1.0</td>\n",
       "      <td>2.0</td>\n",
       "      <td>1.0</td>\n",
       "      <td>i prefer not to answer</td>\n",
       "      <td>level 1</td>\n",
       "      <td>no charging</td>\n",
       "      <td>no charging</td>\n",
       "      <td>24.0</td>\n",
       "      <td>1.0</td>\n",
       "      <td>40.0</td>\n",
       "    </tr>\n",
       "    <tr>\n",
       "      <th>10</th>\n",
       "      <td>12.0</td>\n",
       "      <td>2019.0</td>\n",
       "      <td>30.0</td>\n",
       "      <td>2015</td>\n",
       "      <td>bmw</td>\n",
       "      <td>i3</td>\n",
       "      <td>81.0</td>\n",
       "      <td>phev</td>\n",
       "      <td>continued</td>\n",
       "      <td>55.0</td>\n",
       "      <td>...</td>\n",
       "      <td>2.0</td>\n",
       "      <td>3.0</td>\n",
       "      <td>3.0</td>\n",
       "      <td>$100,000 to $149,999</td>\n",
       "      <td>level 2</td>\n",
       "      <td>level 1</td>\n",
       "      <td>no charging</td>\n",
       "      <td>34.0</td>\n",
       "      <td>1.0</td>\n",
       "      <td>40.0</td>\n",
       "    </tr>\n",
       "    <tr>\n",
       "      <th>11</th>\n",
       "      <td>13.0</td>\n",
       "      <td>2019.0</td>\n",
       "      <td>31.0</td>\n",
       "      <td>2016</td>\n",
       "      <td>volkswagen</td>\n",
       "      <td>e-golf</td>\n",
       "      <td>84.0</td>\n",
       "      <td>bev</td>\n",
       "      <td>continued</td>\n",
       "      <td>35.0</td>\n",
       "      <td>...</td>\n",
       "      <td>2.0</td>\n",
       "      <td>4.0</td>\n",
       "      <td>2.0</td>\n",
       "      <td>$150,000 to $199,999</td>\n",
       "      <td>level 1</td>\n",
       "      <td>level 1</td>\n",
       "      <td>level 1 &amp; level 2</td>\n",
       "      <td>NaN</td>\n",
       "      <td>1.0</td>\n",
       "      <td>40.0</td>\n",
       "    </tr>\n",
       "  </tbody>\n",
       "</table>\n",
       "<p>5 rows × 30 columns</p>\n",
       "</div>"
      ],
      "text/plain": [
       "    response_id  year_submitted_survey_2  months_owned model_year        Make  \\\n",
       "0           1.0                   2019.0          24.0       2016         bmw   \n",
       "6           7.0                   2019.0          14.0       2016        fiat   \n",
       "9          11.0                   2019.0          48.0       2015      nissan   \n",
       "10         12.0                   2019.0          30.0       2015         bmw   \n",
       "11         13.0                   2019.0          31.0       2016  volkswagen   \n",
       "\n",
       "     Model  electric_range ev_type discontinuance  surveyed_age  ...  \\\n",
       "0       i3            81.0    phev      continued          25.0  ...   \n",
       "6     500e            87.0     bev      continued          35.0  ...   \n",
       "9     leaf            84.0     bev   discontinued          55.0  ...   \n",
       "10      i3            81.0    phev      continued          55.0  ...   \n",
       "11  e-golf            84.0     bev      continued          35.0  ...   \n",
       "\n",
       "   range_satisfaction  charge_access_satisfaction  adas_satisfaction  \\\n",
       "0                 5.0                         5.0                5.0   \n",
       "6                 1.0                         3.0                3.0   \n",
       "9                 1.0                         2.0                1.0   \n",
       "10                2.0                         3.0                3.0   \n",
       "11                2.0                         4.0                2.0   \n",
       "\n",
       "          household_income  home_charge_type  work_charge_type  \\\n",
       "0     $150,000 to $199,999       no charging       no charging   \n",
       "6       $50,000 to $99,999           level 1       no charging   \n",
       "9   i prefer not to answer           level 1       no charging   \n",
       "10    $100,000 to $149,999           level 2           level 1   \n",
       "11    $150,000 to $199,999           level 1           level 1   \n",
       "\n",
       "    highest_charge_used  backup_vehicle_mpg  finance_type  last_page  \n",
       "0               level 2                25.0           1.0       40.0  \n",
       "6               level 2                82.0           1.0       40.0  \n",
       "9           no charging                24.0           1.0       40.0  \n",
       "10          no charging                34.0           1.0       40.0  \n",
       "11    level 1 & level 2                 NaN           1.0       40.0  \n",
       "\n",
       "[5 rows x 30 columns]"
      ]
     },
     "execution_count": 33,
     "metadata": {},
     "output_type": "execute_result"
    }
   ],
   "source": [
    "ev_ownership_sans_original_owners.head()"
   ]
  },
  {
   "cell_type": "markdown",
   "metadata": {},
   "source": [
    "## Merging the datasets, this is a work in progress which may not work out becuase the set of vehicles is different in both."
   ]
  },
  {
   "cell_type": "code",
   "execution_count": 34,
   "metadata": {},
   "outputs": [
    {
     "data": {
      "text/plain": [
       "array(['e-tron 55 quattro', 'e-tron 50 quattro', 'e-tron S quattro',\n",
       "       'e-tron Sportback 50 quattro', 'e-tron Sportback 55 quattro',\n",
       "       'e-tron Sportback S quattro', 'i3', 'i3s', 'iX3', 'ë-C4',\n",
       "       'DS3 Crossback e-tense', 'e', 'e Advance', 'Ioniq electric',\n",
       "       'Kona electric 39.2kWh', 'Kona electric 64kWh', 'I-Pace',\n",
       "       'e-Niro 39.2kWh', 'e-Niro 64kWh', 'e-Soul 39.2kWh', 'e-Soul 64kWh',\n",
       "       'MX-30', 'EQC', 'Cooper SE', 'Leaf', 'Leaf e+', 'Corsa-e',\n",
       "       'Mokka-e', 'e-208', 'e-2008', 'Taycan 4S (Performance)',\n",
       "       'Taycan 4S (Performance Plus)', 'Taycan Turbo', 'Taycan Turbo S',\n",
       "       'Zoe R110', 'Zoe R135', 'Citigo-e iV', 'fortwo EQ', 'forfour EQ',\n",
       "       'Model 3 Standard Range Plus', 'Model 3 Long Range',\n",
       "       'Model 3 Performance', 'Model S Long Range Plus',\n",
       "       'Model S Performance', 'Model X Long Range Plus',\n",
       "       'Model X Performance', 'e-up!', 'ID.3 Pro Performance',\n",
       "       'ID.3 Pro S', 'ID.4 1st', 'ë-Spacetourer (M)', 'EQV (long)',\n",
       "       'e-NV200 evalia'], dtype=object)"
      ]
     },
     "execution_count": 34,
     "metadata": {},
     "output_type": "execute_result"
    }
   ],
   "source": [
    "#What are the unique vehicle models in the vehicle data list?\n",
    "ev_vehicle_data_raw.Model.unique()"
   ]
  },
  {
   "cell_type": "code",
   "execution_count": 35,
   "metadata": {},
   "outputs": [
    {
     "data": {
      "text/html": [
       "<div>\n",
       "<style scoped>\n",
       "    .dataframe tbody tr th:only-of-type {\n",
       "        vertical-align: middle;\n",
       "    }\n",
       "\n",
       "    .dataframe tbody tr th {\n",
       "        vertical-align: top;\n",
       "    }\n",
       "\n",
       "    .dataframe thead th {\n",
       "        text-align: right;\n",
       "    }\n",
       "</style>\n",
       "<table border=\"1\" class=\"dataframe\">\n",
       "  <thead>\n",
       "    <tr style=\"text-align: right;\">\n",
       "      <th></th>\n",
       "      <th>Car full name</th>\n",
       "      <th>Make</th>\n",
       "      <th>Model</th>\n",
       "      <th>Minimal price (gross) [PLN]</th>\n",
       "      <th>Engine power [KM]</th>\n",
       "      <th>Maximum torque [Nm]</th>\n",
       "      <th>Type of brakes</th>\n",
       "      <th>Drive type</th>\n",
       "      <th>Battery capacity [kWh]</th>\n",
       "      <th>Range (WLTP) [km]</th>\n",
       "      <th>...</th>\n",
       "      <th>Permissable gross weight [kg]</th>\n",
       "      <th>Maximum load capacity [kg]</th>\n",
       "      <th>Number of seats</th>\n",
       "      <th>Number of doors</th>\n",
       "      <th>Tire size [in]</th>\n",
       "      <th>Maximum speed [kph]</th>\n",
       "      <th>Boot capacity (VDA) [l]</th>\n",
       "      <th>Acceleration 0-100 kph [s]</th>\n",
       "      <th>Maximum DC charging power [kW]</th>\n",
       "      <th>mean - Energy consumption [kWh/100 km]</th>\n",
       "    </tr>\n",
       "  </thead>\n",
       "  <tbody>\n",
       "    <tr>\n",
       "      <th>0</th>\n",
       "      <td>Audi e-tron 55 quattro</td>\n",
       "      <td>Audi</td>\n",
       "      <td>e-tron 55 quattro</td>\n",
       "      <td>345700</td>\n",
       "      <td>360</td>\n",
       "      <td>664</td>\n",
       "      <td>disc (front + rear)</td>\n",
       "      <td>4WD</td>\n",
       "      <td>95.0</td>\n",
       "      <td>438</td>\n",
       "      <td>...</td>\n",
       "      <td>3130.0</td>\n",
       "      <td>640.0</td>\n",
       "      <td>5</td>\n",
       "      <td>5</td>\n",
       "      <td>19</td>\n",
       "      <td>200</td>\n",
       "      <td>660.0</td>\n",
       "      <td>5.7</td>\n",
       "      <td>150</td>\n",
       "      <td>24.45</td>\n",
       "    </tr>\n",
       "    <tr>\n",
       "      <th>1</th>\n",
       "      <td>Audi e-tron 50 quattro</td>\n",
       "      <td>Audi</td>\n",
       "      <td>e-tron 50 quattro</td>\n",
       "      <td>308400</td>\n",
       "      <td>313</td>\n",
       "      <td>540</td>\n",
       "      <td>disc (front + rear)</td>\n",
       "      <td>4WD</td>\n",
       "      <td>71.0</td>\n",
       "      <td>340</td>\n",
       "      <td>...</td>\n",
       "      <td>3040.0</td>\n",
       "      <td>670.0</td>\n",
       "      <td>5</td>\n",
       "      <td>5</td>\n",
       "      <td>19</td>\n",
       "      <td>190</td>\n",
       "      <td>660.0</td>\n",
       "      <td>6.8</td>\n",
       "      <td>150</td>\n",
       "      <td>23.80</td>\n",
       "    </tr>\n",
       "    <tr>\n",
       "      <th>2</th>\n",
       "      <td>Audi e-tron S quattro</td>\n",
       "      <td>Audi</td>\n",
       "      <td>e-tron S quattro</td>\n",
       "      <td>414900</td>\n",
       "      <td>503</td>\n",
       "      <td>973</td>\n",
       "      <td>disc (front + rear)</td>\n",
       "      <td>4WD</td>\n",
       "      <td>95.0</td>\n",
       "      <td>364</td>\n",
       "      <td>...</td>\n",
       "      <td>3130.0</td>\n",
       "      <td>565.0</td>\n",
       "      <td>5</td>\n",
       "      <td>5</td>\n",
       "      <td>20</td>\n",
       "      <td>210</td>\n",
       "      <td>660.0</td>\n",
       "      <td>4.5</td>\n",
       "      <td>150</td>\n",
       "      <td>27.55</td>\n",
       "    </tr>\n",
       "    <tr>\n",
       "      <th>3</th>\n",
       "      <td>Audi e-tron Sportback 50 quattro</td>\n",
       "      <td>Audi</td>\n",
       "      <td>e-tron Sportback 50 quattro</td>\n",
       "      <td>319700</td>\n",
       "      <td>313</td>\n",
       "      <td>540</td>\n",
       "      <td>disc (front + rear)</td>\n",
       "      <td>4WD</td>\n",
       "      <td>71.0</td>\n",
       "      <td>346</td>\n",
       "      <td>...</td>\n",
       "      <td>3040.0</td>\n",
       "      <td>640.0</td>\n",
       "      <td>5</td>\n",
       "      <td>5</td>\n",
       "      <td>19</td>\n",
       "      <td>190</td>\n",
       "      <td>615.0</td>\n",
       "      <td>6.8</td>\n",
       "      <td>150</td>\n",
       "      <td>23.30</td>\n",
       "    </tr>\n",
       "    <tr>\n",
       "      <th>4</th>\n",
       "      <td>Audi e-tron Sportback 55 quattro</td>\n",
       "      <td>Audi</td>\n",
       "      <td>e-tron Sportback 55 quattro</td>\n",
       "      <td>357000</td>\n",
       "      <td>360</td>\n",
       "      <td>664</td>\n",
       "      <td>disc (front + rear)</td>\n",
       "      <td>4WD</td>\n",
       "      <td>95.0</td>\n",
       "      <td>447</td>\n",
       "      <td>...</td>\n",
       "      <td>3130.0</td>\n",
       "      <td>670.0</td>\n",
       "      <td>5</td>\n",
       "      <td>5</td>\n",
       "      <td>19</td>\n",
       "      <td>200</td>\n",
       "      <td>615.0</td>\n",
       "      <td>5.7</td>\n",
       "      <td>150</td>\n",
       "      <td>23.85</td>\n",
       "    </tr>\n",
       "  </tbody>\n",
       "</table>\n",
       "<p>5 rows × 25 columns</p>\n",
       "</div>"
      ],
      "text/plain": [
       "                      Car full name  Make                        Model  \\\n",
       "0            Audi e-tron 55 quattro  Audi            e-tron 55 quattro   \n",
       "1            Audi e-tron 50 quattro  Audi            e-tron 50 quattro   \n",
       "2             Audi e-tron S quattro  Audi             e-tron S quattro   \n",
       "3  Audi e-tron Sportback 50 quattro  Audi  e-tron Sportback 50 quattro   \n",
       "4  Audi e-tron Sportback 55 quattro  Audi  e-tron Sportback 55 quattro   \n",
       "\n",
       "   Minimal price (gross) [PLN]  Engine power [KM]  Maximum torque [Nm]  \\\n",
       "0                       345700                360                  664   \n",
       "1                       308400                313                  540   \n",
       "2                       414900                503                  973   \n",
       "3                       319700                313                  540   \n",
       "4                       357000                360                  664   \n",
       "\n",
       "        Type of brakes Drive type  Battery capacity [kWh]  Range (WLTP) [km]  \\\n",
       "0  disc (front + rear)        4WD                    95.0                438   \n",
       "1  disc (front + rear)        4WD                    71.0                340   \n",
       "2  disc (front + rear)        4WD                    95.0                364   \n",
       "3  disc (front + rear)        4WD                    71.0                346   \n",
       "4  disc (front + rear)        4WD                    95.0                447   \n",
       "\n",
       "   ...  Permissable gross weight [kg]  Maximum load capacity [kg]  \\\n",
       "0  ...                         3130.0                       640.0   \n",
       "1  ...                         3040.0                       670.0   \n",
       "2  ...                         3130.0                       565.0   \n",
       "3  ...                         3040.0                       640.0   \n",
       "4  ...                         3130.0                       670.0   \n",
       "\n",
       "   Number of seats  Number of doors  Tire size [in]  Maximum speed [kph]  \\\n",
       "0                5                5              19                  200   \n",
       "1                5                5              19                  190   \n",
       "2                5                5              20                  210   \n",
       "3                5                5              19                  190   \n",
       "4                5                5              19                  200   \n",
       "\n",
       "   Boot capacity (VDA) [l]  Acceleration 0-100 kph [s]  \\\n",
       "0                    660.0                         5.7   \n",
       "1                    660.0                         6.8   \n",
       "2                    660.0                         4.5   \n",
       "3                    615.0                         6.8   \n",
       "4                    615.0                         5.7   \n",
       "\n",
       "   Maximum DC charging power [kW]  mean - Energy consumption [kWh/100 km]  \n",
       "0                             150                                   24.45  \n",
       "1                             150                                   23.80  \n",
       "2                             150                                   27.55  \n",
       "3                             150                                   23.30  \n",
       "4                             150                                   23.85  \n",
       "\n",
       "[5 rows x 25 columns]"
      ]
     },
     "execution_count": 35,
     "metadata": {},
     "output_type": "execute_result"
    }
   ],
   "source": [
    "ev_vehicle_data_raw.head()"
   ]
  },
  {
   "cell_type": "markdown",
   "metadata": {},
   "source": [
    "#### Join the two dataframes together, add information from the EV vehicles list to the entries in the survey data"
   ]
  },
  {
   "cell_type": "code",
   "execution_count": 36,
   "metadata": {},
   "outputs": [],
   "source": [
    "merged_ev_data = ev_ownership_sans_original_owners.merge(ev_vehicle_data_raw, on=['Make','Model'], how='left')"
   ]
  },
  {
   "cell_type": "code",
   "execution_count": 37,
   "metadata": {},
   "outputs": [
    {
     "name": "stdout",
     "output_type": "stream",
     "text": [
      "<class 'pandas.core.frame.DataFrame'>\n",
      "Int64Index: 1947 entries, 0 to 1946\n",
      "Data columns (total 53 columns):\n",
      " #   Column                                  Non-Null Count  Dtype  \n",
      "---  ------                                  --------------  -----  \n",
      " 0   response_id                             1947 non-null   float64\n",
      " 1   year_submitted_survey_2                 1947 non-null   float64\n",
      " 2   months_owned                            1851 non-null   float64\n",
      " 3   model_year                              1947 non-null   object \n",
      " 4   Make                                    1947 non-null   object \n",
      " 5   Model                                   1947 non-null   object \n",
      " 6   electric_range                          1946 non-null   float64\n",
      " 7   ev_type                                 1908 non-null   object \n",
      " 8   discontinuance                          1947 non-null   object \n",
      " 9   surveyed_age                            1872 non-null   float64\n",
      " 10  surveyed_gender                         1899 non-null   object \n",
      " 11  dist_1                                  1615 non-null   float64\n",
      " 12  trips_greater_200                       1947 non-null   float64\n",
      " 13  safety_satisfaction                     1753 non-null   float64\n",
      " 14  comfort_satisfaction                    1753 non-null   float64\n",
      " 15  refuel_recharge_satisfaction            1753 non-null   float64\n",
      " 16  performance_satisfaction                1753 non-null   float64\n",
      " 17  env_impact_satisfaction                 1753 non-null   float64\n",
      " 18  purch_price_satisfaction                1753 non-null   float64\n",
      " 19  reliability_satisfaction                1753 non-null   float64\n",
      " 20  range_satisfaction                      1753 non-null   float64\n",
      " 21  charge_access_satisfaction              1753 non-null   float64\n",
      " 22  adas_satisfaction                       1753 non-null   float64\n",
      " 23  household_income                        1724 non-null   object \n",
      " 24  home_charge_type                        1947 non-null   object \n",
      " 25  work_charge_type                        1121 non-null   object \n",
      " 26  highest_charge_used                     1370 non-null   object \n",
      " 27  backup_vehicle_mpg                      1587 non-null   float64\n",
      " 28  finance_type                            1947 non-null   float64\n",
      " 29  last_page                               1947 non-null   float64\n",
      " 30  Car full name                           0 non-null      object \n",
      " 31  Minimal price (gross) [PLN]             0 non-null      float64\n",
      " 32  Engine power [KM]                       0 non-null      float64\n",
      " 33  Maximum torque [Nm]                     0 non-null      float64\n",
      " 34  Type of brakes                          0 non-null      object \n",
      " 35  Drive type                              0 non-null      object \n",
      " 36  Battery capacity [kWh]                  0 non-null      float64\n",
      " 37  Range (WLTP) [km]                       0 non-null      float64\n",
      " 38  Wheelbase [cm]                          0 non-null      float64\n",
      " 39  Length [cm]                             0 non-null      float64\n",
      " 40  Width [cm]                              0 non-null      float64\n",
      " 41  Height [cm]                             0 non-null      float64\n",
      " 42  Minimal empty weight [kg]               0 non-null      float64\n",
      " 43  Permissable gross weight [kg]           0 non-null      float64\n",
      " 44  Maximum load capacity [kg]              0 non-null      float64\n",
      " 45  Number of seats                         0 non-null      float64\n",
      " 46  Number of doors                         0 non-null      float64\n",
      " 47  Tire size [in]                          0 non-null      float64\n",
      " 48  Maximum speed [kph]                     0 non-null      float64\n",
      " 49  Boot capacity (VDA) [l]                 0 non-null      float64\n",
      " 50  Acceleration 0-100 kph [s]              0 non-null      float64\n",
      " 51  Maximum DC charging power [kW]          0 non-null      float64\n",
      " 52  mean - Energy consumption [kWh/100 km]  0 non-null      float64\n",
      "dtypes: float64(40), object(13)\n",
      "memory usage: 821.4+ KB\n"
     ]
    }
   ],
   "source": [
    "merged_ev_data.info()"
   ]
  },
  {
   "cell_type": "code",
   "execution_count": 38,
   "metadata": {},
   "outputs": [
    {
     "data": {
      "text/html": [
       "<div>\n",
       "<style scoped>\n",
       "    .dataframe tbody tr th:only-of-type {\n",
       "        vertical-align: middle;\n",
       "    }\n",
       "\n",
       "    .dataframe tbody tr th {\n",
       "        vertical-align: top;\n",
       "    }\n",
       "\n",
       "    .dataframe thead th {\n",
       "        text-align: right;\n",
       "    }\n",
       "</style>\n",
       "<table border=\"1\" class=\"dataframe\">\n",
       "  <thead>\n",
       "    <tr style=\"text-align: right;\">\n",
       "      <th></th>\n",
       "      <th>response_id</th>\n",
       "      <th>year_submitted_survey_2</th>\n",
       "      <th>months_owned</th>\n",
       "      <th>model_year</th>\n",
       "      <th>Make</th>\n",
       "      <th>Model</th>\n",
       "      <th>electric_range</th>\n",
       "      <th>ev_type</th>\n",
       "      <th>discontinuance</th>\n",
       "      <th>surveyed_age</th>\n",
       "      <th>...</th>\n",
       "      <th>Permissable gross weight [kg]</th>\n",
       "      <th>Maximum load capacity [kg]</th>\n",
       "      <th>Number of seats</th>\n",
       "      <th>Number of doors</th>\n",
       "      <th>Tire size [in]</th>\n",
       "      <th>Maximum speed [kph]</th>\n",
       "      <th>Boot capacity (VDA) [l]</th>\n",
       "      <th>Acceleration 0-100 kph [s]</th>\n",
       "      <th>Maximum DC charging power [kW]</th>\n",
       "      <th>mean - Energy consumption [kWh/100 km]</th>\n",
       "    </tr>\n",
       "  </thead>\n",
       "  <tbody>\n",
       "    <tr>\n",
       "      <th>0</th>\n",
       "      <td>1.0</td>\n",
       "      <td>2019.0</td>\n",
       "      <td>24.0</td>\n",
       "      <td>2016</td>\n",
       "      <td>bmw</td>\n",
       "      <td>i3</td>\n",
       "      <td>81.0</td>\n",
       "      <td>phev</td>\n",
       "      <td>continued</td>\n",
       "      <td>25.0</td>\n",
       "      <td>...</td>\n",
       "      <td>NaN</td>\n",
       "      <td>NaN</td>\n",
       "      <td>NaN</td>\n",
       "      <td>NaN</td>\n",
       "      <td>NaN</td>\n",
       "      <td>NaN</td>\n",
       "      <td>NaN</td>\n",
       "      <td>NaN</td>\n",
       "      <td>NaN</td>\n",
       "      <td>NaN</td>\n",
       "    </tr>\n",
       "    <tr>\n",
       "      <th>1</th>\n",
       "      <td>7.0</td>\n",
       "      <td>2019.0</td>\n",
       "      <td>14.0</td>\n",
       "      <td>2016</td>\n",
       "      <td>fiat</td>\n",
       "      <td>500e</td>\n",
       "      <td>87.0</td>\n",
       "      <td>bev</td>\n",
       "      <td>continued</td>\n",
       "      <td>35.0</td>\n",
       "      <td>...</td>\n",
       "      <td>NaN</td>\n",
       "      <td>NaN</td>\n",
       "      <td>NaN</td>\n",
       "      <td>NaN</td>\n",
       "      <td>NaN</td>\n",
       "      <td>NaN</td>\n",
       "      <td>NaN</td>\n",
       "      <td>NaN</td>\n",
       "      <td>NaN</td>\n",
       "      <td>NaN</td>\n",
       "    </tr>\n",
       "    <tr>\n",
       "      <th>2</th>\n",
       "      <td>11.0</td>\n",
       "      <td>2019.0</td>\n",
       "      <td>48.0</td>\n",
       "      <td>2015</td>\n",
       "      <td>nissan</td>\n",
       "      <td>leaf</td>\n",
       "      <td>84.0</td>\n",
       "      <td>bev</td>\n",
       "      <td>discontinued</td>\n",
       "      <td>55.0</td>\n",
       "      <td>...</td>\n",
       "      <td>NaN</td>\n",
       "      <td>NaN</td>\n",
       "      <td>NaN</td>\n",
       "      <td>NaN</td>\n",
       "      <td>NaN</td>\n",
       "      <td>NaN</td>\n",
       "      <td>NaN</td>\n",
       "      <td>NaN</td>\n",
       "      <td>NaN</td>\n",
       "      <td>NaN</td>\n",
       "    </tr>\n",
       "    <tr>\n",
       "      <th>3</th>\n",
       "      <td>12.0</td>\n",
       "      <td>2019.0</td>\n",
       "      <td>30.0</td>\n",
       "      <td>2015</td>\n",
       "      <td>bmw</td>\n",
       "      <td>i3</td>\n",
       "      <td>81.0</td>\n",
       "      <td>phev</td>\n",
       "      <td>continued</td>\n",
       "      <td>55.0</td>\n",
       "      <td>...</td>\n",
       "      <td>NaN</td>\n",
       "      <td>NaN</td>\n",
       "      <td>NaN</td>\n",
       "      <td>NaN</td>\n",
       "      <td>NaN</td>\n",
       "      <td>NaN</td>\n",
       "      <td>NaN</td>\n",
       "      <td>NaN</td>\n",
       "      <td>NaN</td>\n",
       "      <td>NaN</td>\n",
       "    </tr>\n",
       "    <tr>\n",
       "      <th>4</th>\n",
       "      <td>13.0</td>\n",
       "      <td>2019.0</td>\n",
       "      <td>31.0</td>\n",
       "      <td>2016</td>\n",
       "      <td>volkswagen</td>\n",
       "      <td>e-golf</td>\n",
       "      <td>84.0</td>\n",
       "      <td>bev</td>\n",
       "      <td>continued</td>\n",
       "      <td>35.0</td>\n",
       "      <td>...</td>\n",
       "      <td>NaN</td>\n",
       "      <td>NaN</td>\n",
       "      <td>NaN</td>\n",
       "      <td>NaN</td>\n",
       "      <td>NaN</td>\n",
       "      <td>NaN</td>\n",
       "      <td>NaN</td>\n",
       "      <td>NaN</td>\n",
       "      <td>NaN</td>\n",
       "      <td>NaN</td>\n",
       "    </tr>\n",
       "  </tbody>\n",
       "</table>\n",
       "<p>5 rows × 53 columns</p>\n",
       "</div>"
      ],
      "text/plain": [
       "   response_id  year_submitted_survey_2  months_owned model_year        Make  \\\n",
       "0          1.0                   2019.0          24.0       2016         bmw   \n",
       "1          7.0                   2019.0          14.0       2016        fiat   \n",
       "2         11.0                   2019.0          48.0       2015      nissan   \n",
       "3         12.0                   2019.0          30.0       2015         bmw   \n",
       "4         13.0                   2019.0          31.0       2016  volkswagen   \n",
       "\n",
       "    Model  electric_range ev_type discontinuance  surveyed_age  ...  \\\n",
       "0      i3            81.0    phev      continued          25.0  ...   \n",
       "1    500e            87.0     bev      continued          35.0  ...   \n",
       "2    leaf            84.0     bev   discontinued          55.0  ...   \n",
       "3      i3            81.0    phev      continued          55.0  ...   \n",
       "4  e-golf            84.0     bev      continued          35.0  ...   \n",
       "\n",
       "  Permissable gross weight [kg]  Maximum load capacity [kg]  Number of seats  \\\n",
       "0                           NaN                         NaN              NaN   \n",
       "1                           NaN                         NaN              NaN   \n",
       "2                           NaN                         NaN              NaN   \n",
       "3                           NaN                         NaN              NaN   \n",
       "4                           NaN                         NaN              NaN   \n",
       "\n",
       "   Number of doors  Tire size [in]  Maximum speed [kph]  \\\n",
       "0              NaN             NaN                  NaN   \n",
       "1              NaN             NaN                  NaN   \n",
       "2              NaN             NaN                  NaN   \n",
       "3              NaN             NaN                  NaN   \n",
       "4              NaN             NaN                  NaN   \n",
       "\n",
       "   Boot capacity (VDA) [l]  Acceleration 0-100 kph [s]  \\\n",
       "0                      NaN                         NaN   \n",
       "1                      NaN                         NaN   \n",
       "2                      NaN                         NaN   \n",
       "3                      NaN                         NaN   \n",
       "4                      NaN                         NaN   \n",
       "\n",
       "   Maximum DC charging power [kW]  mean - Energy consumption [kWh/100 km]  \n",
       "0                             NaN                                     NaN  \n",
       "1                             NaN                                     NaN  \n",
       "2                             NaN                                     NaN  \n",
       "3                             NaN                                     NaN  \n",
       "4                             NaN                                     NaN  \n",
       "\n",
       "[5 rows x 53 columns]"
      ]
     },
     "execution_count": 38,
     "metadata": {},
     "output_type": "execute_result"
    }
   ],
   "source": [
    "merged_ev_data.head()"
   ]
  },
  {
   "cell_type": "markdown",
   "metadata": {},
   "source": []
  },
  {
   "cell_type": "code",
   "execution_count": 39,
   "metadata": {},
   "outputs": [
    {
     "data": {
      "text/html": [
       "<div>\n",
       "<style scoped>\n",
       "    .dataframe tbody tr th:only-of-type {\n",
       "        vertical-align: middle;\n",
       "    }\n",
       "\n",
       "    .dataframe tbody tr th {\n",
       "        vertical-align: top;\n",
       "    }\n",
       "\n",
       "    .dataframe thead th {\n",
       "        text-align: right;\n",
       "    }\n",
       "</style>\n",
       "<table border=\"1\" class=\"dataframe\">\n",
       "  <thead>\n",
       "    <tr style=\"text-align: right;\">\n",
       "      <th></th>\n",
       "      <th>count</th>\n",
       "      <th>%</th>\n",
       "    </tr>\n",
       "  </thead>\n",
       "  <tbody>\n",
       "    <tr>\n",
       "      <th>work_charge_type</th>\n",
       "      <td>826</td>\n",
       "      <td>42.424242</td>\n",
       "    </tr>\n",
       "    <tr>\n",
       "      <th>highest_charge_used</th>\n",
       "      <td>577</td>\n",
       "      <td>29.635336</td>\n",
       "    </tr>\n",
       "    <tr>\n",
       "      <th>backup_vehicle_mpg</th>\n",
       "      <td>360</td>\n",
       "      <td>18.489985</td>\n",
       "    </tr>\n",
       "    <tr>\n",
       "      <th>dist_1</th>\n",
       "      <td>332</td>\n",
       "      <td>17.051875</td>\n",
       "    </tr>\n",
       "    <tr>\n",
       "      <th>household_income</th>\n",
       "      <td>223</td>\n",
       "      <td>11.453518</td>\n",
       "    </tr>\n",
       "    <tr>\n",
       "      <th>safety_satisfaction</th>\n",
       "      <td>194</td>\n",
       "      <td>9.964047</td>\n",
       "    </tr>\n",
       "    <tr>\n",
       "      <th>range_satisfaction</th>\n",
       "      <td>194</td>\n",
       "      <td>9.964047</td>\n",
       "    </tr>\n",
       "    <tr>\n",
       "      <th>reliability_satisfaction</th>\n",
       "      <td>194</td>\n",
       "      <td>9.964047</td>\n",
       "    </tr>\n",
       "    <tr>\n",
       "      <th>purch_price_satisfaction</th>\n",
       "      <td>194</td>\n",
       "      <td>9.964047</td>\n",
       "    </tr>\n",
       "    <tr>\n",
       "      <th>env_impact_satisfaction</th>\n",
       "      <td>194</td>\n",
       "      <td>9.964047</td>\n",
       "    </tr>\n",
       "    <tr>\n",
       "      <th>performance_satisfaction</th>\n",
       "      <td>194</td>\n",
       "      <td>9.964047</td>\n",
       "    </tr>\n",
       "    <tr>\n",
       "      <th>comfort_satisfaction</th>\n",
       "      <td>194</td>\n",
       "      <td>9.964047</td>\n",
       "    </tr>\n",
       "    <tr>\n",
       "      <th>refuel_recharge_satisfaction</th>\n",
       "      <td>194</td>\n",
       "      <td>9.964047</td>\n",
       "    </tr>\n",
       "    <tr>\n",
       "      <th>adas_satisfaction</th>\n",
       "      <td>194</td>\n",
       "      <td>9.964047</td>\n",
       "    </tr>\n",
       "    <tr>\n",
       "      <th>charge_access_satisfaction</th>\n",
       "      <td>194</td>\n",
       "      <td>9.964047</td>\n",
       "    </tr>\n",
       "    <tr>\n",
       "      <th>months_owned</th>\n",
       "      <td>96</td>\n",
       "      <td>4.930663</td>\n",
       "    </tr>\n",
       "    <tr>\n",
       "      <th>surveyed_age</th>\n",
       "      <td>75</td>\n",
       "      <td>3.852080</td>\n",
       "    </tr>\n",
       "    <tr>\n",
       "      <th>surveyed_gender</th>\n",
       "      <td>48</td>\n",
       "      <td>2.465331</td>\n",
       "    </tr>\n",
       "    <tr>\n",
       "      <th>ev_type</th>\n",
       "      <td>39</td>\n",
       "      <td>2.003082</td>\n",
       "    </tr>\n",
       "    <tr>\n",
       "      <th>electric_range</th>\n",
       "      <td>1</td>\n",
       "      <td>0.051361</td>\n",
       "    </tr>\n",
       "    <tr>\n",
       "      <th>home_charge_type</th>\n",
       "      <td>0</td>\n",
       "      <td>0.000000</td>\n",
       "    </tr>\n",
       "    <tr>\n",
       "      <th>finance_type</th>\n",
       "      <td>0</td>\n",
       "      <td>0.000000</td>\n",
       "    </tr>\n",
       "    <tr>\n",
       "      <th>response_id</th>\n",
       "      <td>0</td>\n",
       "      <td>0.000000</td>\n",
       "    </tr>\n",
       "    <tr>\n",
       "      <th>year_submitted_survey_2</th>\n",
       "      <td>0</td>\n",
       "      <td>0.000000</td>\n",
       "    </tr>\n",
       "    <tr>\n",
       "      <th>trips_greater_200</th>\n",
       "      <td>0</td>\n",
       "      <td>0.000000</td>\n",
       "    </tr>\n",
       "    <tr>\n",
       "      <th>discontinuance</th>\n",
       "      <td>0</td>\n",
       "      <td>0.000000</td>\n",
       "    </tr>\n",
       "    <tr>\n",
       "      <th>Model</th>\n",
       "      <td>0</td>\n",
       "      <td>0.000000</td>\n",
       "    </tr>\n",
       "    <tr>\n",
       "      <th>Make</th>\n",
       "      <td>0</td>\n",
       "      <td>0.000000</td>\n",
       "    </tr>\n",
       "    <tr>\n",
       "      <th>model_year</th>\n",
       "      <td>0</td>\n",
       "      <td>0.000000</td>\n",
       "    </tr>\n",
       "    <tr>\n",
       "      <th>last_page</th>\n",
       "      <td>0</td>\n",
       "      <td>0.000000</td>\n",
       "    </tr>\n",
       "  </tbody>\n",
       "</table>\n",
       "</div>"
      ],
      "text/plain": [
       "                              count          %\n",
       "work_charge_type                826  42.424242\n",
       "highest_charge_used             577  29.635336\n",
       "backup_vehicle_mpg              360  18.489985\n",
       "dist_1                          332  17.051875\n",
       "household_income                223  11.453518\n",
       "safety_satisfaction             194   9.964047\n",
       "range_satisfaction              194   9.964047\n",
       "reliability_satisfaction        194   9.964047\n",
       "purch_price_satisfaction        194   9.964047\n",
       "env_impact_satisfaction         194   9.964047\n",
       "performance_satisfaction        194   9.964047\n",
       "comfort_satisfaction            194   9.964047\n",
       "refuel_recharge_satisfaction    194   9.964047\n",
       "adas_satisfaction               194   9.964047\n",
       "charge_access_satisfaction      194   9.964047\n",
       "months_owned                     96   4.930663\n",
       "surveyed_age                     75   3.852080\n",
       "surveyed_gender                  48   2.465331\n",
       "ev_type                          39   2.003082\n",
       "electric_range                    1   0.051361\n",
       "home_charge_type                  0   0.000000\n",
       "finance_type                      0   0.000000\n",
       "response_id                       0   0.000000\n",
       "year_submitted_survey_2           0   0.000000\n",
       "trips_greater_200                 0   0.000000\n",
       "discontinuance                    0   0.000000\n",
       "Model                             0   0.000000\n",
       "Make                              0   0.000000\n",
       "model_year                        0   0.000000\n",
       "last_page                         0   0.000000"
      ]
     },
     "execution_count": 39,
     "metadata": {},
     "output_type": "execute_result"
    }
   ],
   "source": [
    "missing = pd.concat([ev_ownership_sans_original_owners.isnull().sum(), \\\n",
    "                     100 * ev_ownership_sans_original_owners.isnull().mean()], axis=1)\n",
    "missing.columns=['count', '%']\n",
    "missing.sort_values(by= '%', ascending=False)"
   ]
  },
  {
   "cell_type": "code",
   "execution_count": 40,
   "metadata": {},
   "outputs": [
    {
     "data": {
      "image/png": "[encoded data removed]",
      "text/plain": [
       "<Figure size 720x720 with 1 Axes>"
      ]
     },
     "metadata": {
      "needs_background": "light"
     },
     "output_type": "display_data"
    },
    {
     "data": {
      "image/png": "[encoded data removed]",
      "text/plain": [
       "<Figure size 720x720 with 1 Axes>"
      ]
     },
     "metadata": {
      "needs_background": "light"
     },
     "output_type": "display_data"
    },
    {
     "data": {
      "image/png": "[encoded data removed]",
      "text/plain": [
       "<Figure size 720x720 with 1 Axes>"
      ]
     },
     "metadata": {
      "needs_background": "light"
     },
     "output_type": "display_data"
    }
   ],
   "source": [
    "fig, ax = plt.subplots(figsize=(10,10))\n",
    "ax = sns.histplot(y='months_owned', data= ev_ownership_sans_original_owners, hue = 'finance_type', ax=ax)\n",
    "plt.legend(title='Months Owned', loc='upper right', labels=['Lease', 'Own/Other'])\n",
    "plt.show()\n",
    "\n",
    "#Using the defined function\n",
    "seabornhist(data=ev_ownership_sans_original_owners, hue_c= 'finance_type', y='months_owned')\n",
    "seabornhist(data=ev_ownership_sans_original_owners, hue_c= 'work_charge_type', y='surveyed_age')"
   ]
  },
  {
   "cell_type": "code",
   "execution_count": 41,
   "metadata": {},
   "outputs": [
    {
     "data": {
      "text/plain": [
       "55.0    488\n",
       "65.0    440\n",
       "45.0    437\n",
       "75.0    224\n",
       "35.0    221\n",
       "80.0     37\n",
       "25.0     24\n",
       "18.0      1\n",
       "Name: surveyed_age, dtype: int64"
      ]
     },
     "execution_count": 41,
     "metadata": {},
     "output_type": "execute_result"
    }
   ],
   "source": [
    "ev_ownership_sans_original_owners.surveyed_age.value_counts()\n"
   ]
  },
  {
   "cell_type": "code",
   "execution_count": 42,
   "metadata": {},
   "outputs": [
    {
     "data": {
      "text/plain": [
       "0.0      1868\n",
       "1.0        26\n",
       "3.0        12\n",
       "2.0        12\n",
       "6.0         7\n",
       "4.0         7\n",
       "10.0        4\n",
       "5.0         4\n",
       "12.0        2\n",
       "20.0        1\n",
       "50.0        1\n",
       "18.0        1\n",
       "100.0       1\n",
       "8.0         1\n",
       "Name: trips_greater_200, dtype: int64"
      ]
     },
     "execution_count": 42,
     "metadata": {},
     "output_type": "execute_result"
    }
   ],
   "source": [
    "ev_ownership_sans_original_owners.trips_greater_200.value_counts()"
   ]
  },
  {
   "cell_type": "code",
   "execution_count": 43,
   "metadata": {},
   "outputs": [
    {
     "data": {
      "image/png": "[encoded data removed]",
      "text/plain": [
       "<Figure size 720x720 with 1 Axes>"
      ]
     },
     "metadata": {
      "needs_background": "light"
     },
     "output_type": "display_data"
    }
   ],
   "source": [
    "fig, ax = plt.subplots(figsize=(10,10))\n",
    "ax = sns.countplot(y='adas_satisfaction', data= ev_ownership_sans_original_owners, hue = 'finance_type', ax=ax)\n",
    "plt.legend(title='Months Owned', loc='upper right', labels=['Lease', 'Own/Other'])\n",
    "plt.show()"
   ]
  },
  {
   "cell_type": "markdown",
   "metadata": {},
   "source": [
    "### What is the distribution of makes in the dataset?"
   ]
  },
  {
   "cell_type": "code",
   "execution_count": 44,
   "metadata": {},
   "outputs": [
    {
     "data": {
      "text/plain": [
       "<AxesSubplot:xlabel='count', ylabel='Make'>"
      ]
     },
     "execution_count": 44,
     "metadata": {},
     "output_type": "execute_result"
    },
    {
     "data": {
      "image/png": "[encoded data removed]",
      "text/plain": [
       "<Figure size 432x288 with 1 Axes>"
      ]
     },
     "metadata": {
      "needs_background": "light"
     },
     "output_type": "display_data"
    }
   ],
   "source": [
    "sns.countplot(y=ev_ownership_sans_original_owners['Make'] , data = ev_ownership_sans_original_owners)"
   ]
  },
  {
   "cell_type": "markdown",
   "metadata": {},
   "source": [
    "Looks good, no duplicate auto manufacturers"
   ]
  },
  {
   "cell_type": "code",
   "execution_count": 45,
   "metadata": {},
   "outputs": [
    {
     "data": {
      "text/html": [
       "<div>\n",
       "<style scoped>\n",
       "    .dataframe tbody tr th:only-of-type {\n",
       "        vertical-align: middle;\n",
       "    }\n",
       "\n",
       "    .dataframe tbody tr th {\n",
       "        vertical-align: top;\n",
       "    }\n",
       "\n",
       "    .dataframe thead th {\n",
       "        text-align: right;\n",
       "    }\n",
       "</style>\n",
       "<table border=\"1\" class=\"dataframe\">\n",
       "  <thead>\n",
       "    <tr style=\"text-align: right;\">\n",
       "      <th></th>\n",
       "      <th>response_id</th>\n",
       "      <th>year_submitted_survey_2</th>\n",
       "      <th>months_owned</th>\n",
       "      <th>model_year</th>\n",
       "      <th>Make</th>\n",
       "      <th>Model</th>\n",
       "      <th>electric_range</th>\n",
       "      <th>ev_type</th>\n",
       "      <th>discontinuance</th>\n",
       "      <th>surveyed_age</th>\n",
       "      <th>...</th>\n",
       "      <th>range_satisfaction</th>\n",
       "      <th>charge_access_satisfaction</th>\n",
       "      <th>adas_satisfaction</th>\n",
       "      <th>household_income</th>\n",
       "      <th>home_charge_type</th>\n",
       "      <th>work_charge_type</th>\n",
       "      <th>highest_charge_used</th>\n",
       "      <th>backup_vehicle_mpg</th>\n",
       "      <th>finance_type</th>\n",
       "      <th>last_page</th>\n",
       "    </tr>\n",
       "  </thead>\n",
       "  <tbody>\n",
       "  </tbody>\n",
       "</table>\n",
       "<p>0 rows × 30 columns</p>\n",
       "</div>"
      ],
      "text/plain": [
       "Empty DataFrame\n",
       "Columns: [response_id, year_submitted_survey_2, months_owned, model_year, Make, Model, electric_range, ev_type, discontinuance, surveyed_age, surveyed_gender, dist_1, trips_greater_200, safety_satisfaction, comfort_satisfaction, refuel_recharge_satisfaction, performance_satisfaction, env_impact_satisfaction, purch_price_satisfaction, reliability_satisfaction, range_satisfaction, charge_access_satisfaction, adas_satisfaction, household_income, home_charge_type, work_charge_type, highest_charge_used, backup_vehicle_mpg, finance_type, last_page]\n",
       "Index: []\n",
       "\n",
       "[0 rows x 30 columns]"
      ]
     },
     "execution_count": 45,
     "metadata": {},
     "output_type": "execute_result"
    }
   ],
   "source": [
    "ev_ownership_sans_original_owners[ev_ownership_sans_original_owners['surveyed_age']<=0]\n",
    "ev_ownership_sans_original_owners[ev_ownership_sans_original_owners['months_owned']<0]\n",
    "ev_ownership_sans_original_owners[ev_ownership_sans_original_owners['electric_range']<0]"
   ]
  },
  {
   "cell_type": "markdown",
   "metadata": {},
   "source": [
    "#### How fuel efficient are the backup vehicles?"
   ]
  },
  {
   "cell_type": "code",
   "execution_count": 46,
   "metadata": {},
   "outputs": [
    {
     "data": {
      "text/plain": [
       "<AxesSubplot:xlabel='count', ylabel='backup_vehicle_mpg'>"
      ]
     },
     "execution_count": 46,
     "metadata": {},
     "output_type": "execute_result"
    },
    {
     "data": {
      "image/png": "[encoded data removed]",
      "text/plain": [
       "<Figure size 720x1080 with 1 Axes>"
      ]
     },
     "metadata": {
      "needs_background": "light"
     },
     "output_type": "display_data"
    }
   ],
   "source": [
    "fig_dims = (10, 15)\n",
    "fig, ax = plt.subplots(figsize=fig_dims)\n",
    "sns.countplot(y=ev_ownership_sans_original_owners.backup_vehicle_mpg, data=ev_ownership_sans_original_owners, ax=ax)"
   ]
  },
  {
   "cell_type": "code",
   "execution_count": 47,
   "metadata": {
    "scrolled": true
   },
   "outputs": [
    {
     "data": {
      "image/png": "[encoded data removed]",
      "text/plain": [
       "<Figure size 1080x720 with 20 Axes>"
      ]
     },
     "metadata": {
      "needs_background": "light"
     },
     "output_type": "display_data"
    }
   ],
   "source": [
    "ev_ownership_sans_original_owners.hist(figsize=(15, 10))\n",
    "plt.subplots_adjust(hspace=0.5);"
   ]
  },
  {
   "cell_type": "code",
   "execution_count": 48,
   "metadata": {},
   "outputs": [],
   "source": [
    "#just to know how much data we lose if we drop all rows with na\n",
    "ev_survey_no_nan = ev_ownership_sans_original_owners.dropna()"
   ]
  },
  {
   "cell_type": "code",
   "execution_count": 49,
   "metadata": {
    "scrolled": false
   },
   "outputs": [
    {
     "name": "stdout",
     "output_type": "stream",
     "text": [
      "<class 'pandas.core.frame.DataFrame'>\n",
      "Int64Index: 729 entries, 0 to 4833\n",
      "Data columns (total 30 columns):\n",
      " #   Column                        Non-Null Count  Dtype  \n",
      "---  ------                        --------------  -----  \n",
      " 0   response_id                   729 non-null    float64\n",
      " 1   year_submitted_survey_2       729 non-null    float64\n",
      " 2   months_owned                  729 non-null    float64\n",
      " 3   model_year                    729 non-null    object \n",
      " 4   Make                          729 non-null    object \n",
      " 5   Model                         729 non-null    object \n",
      " 6   electric_range                729 non-null    float64\n",
      " 7   ev_type                       729 non-null    object \n",
      " 8   discontinuance                729 non-null    object \n",
      " 9   surveyed_age                  729 non-null    float64\n",
      " 10  surveyed_gender               729 non-null    object \n",
      " 11  dist_1                        729 non-null    float64\n",
      " 12  trips_greater_200             729 non-null    float64\n",
      " 13  safety_satisfaction           729 non-null    float64\n",
      " 14  comfort_satisfaction          729 non-null    float64\n",
      " 15  refuel_recharge_satisfaction  729 non-null    float64\n",
      " 16  performance_satisfaction      729 non-null    float64\n",
      " 17  env_impact_satisfaction       729 non-null    float64\n",
      " 18  purch_price_satisfaction      729 non-null    float64\n",
      " 19  reliability_satisfaction      729 non-null    float64\n",
      " 20  range_satisfaction            729 non-null    float64\n",
      " 21  charge_access_satisfaction    729 non-null    float64\n",
      " 22  adas_satisfaction             729 non-null    float64\n",
      " 23  household_income              729 non-null    object \n",
      " 24  home_charge_type              729 non-null    object \n",
      " 25  work_charge_type              729 non-null    object \n",
      " 26  highest_charge_used           729 non-null    object \n",
      " 27  backup_vehicle_mpg            729 non-null    float64\n",
      " 28  finance_type                  729 non-null    float64\n",
      " 29  last_page                     729 non-null    float64\n",
      "dtypes: float64(20), object(10)\n",
      "memory usage: 176.6+ KB\n"
     ]
    }
   ],
   "source": [
    "ev_survey_no_nan.info()"
   ]
  },
  {
   "cell_type": "markdown",
   "metadata": {},
   "source": [
    "## Drop other columns that wont be useful"
   ]
  },
  {
   "cell_type": "code",
   "execution_count": 50,
   "metadata": {},
   "outputs": [],
   "source": [
    "ev_ownership_sans_original_owners = ev_ownership_sans_original_owners.drop(columns= ['last_page'])"
   ]
  },
  {
   "cell_type": "markdown",
   "metadata": {},
   "source": [
    "## Save the wrangled survey data as a .pkl for further use"
   ]
  },
  {
   "cell_type": "code",
   "execution_count": 51,
   "metadata": {},
   "outputs": [],
   "source": [
    "ev_ownership_sans_original_owners.to_pickle(\"ev_survey_wrangled_hasna.pkl\")"
   ]
  },
  {
   "cell_type": "code",
   "execution_count": 52,
   "metadata": {},
   "outputs": [],
   "source": [
    "raw_output = pd.read_pickle(\"ev_survey_wrangled_hasna.pkl\")"
   ]
  },
  {
   "cell_type": "code",
   "execution_count": 53,
   "metadata": {},
   "outputs": [
    {
     "data": {
      "text/html": [
       "<div>\n",
       "<style scoped>\n",
       "    .dataframe tbody tr th:only-of-type {\n",
       "        vertical-align: middle;\n",
       "    }\n",
       "\n",
       "    .dataframe tbody tr th {\n",
       "        vertical-align: top;\n",
       "    }\n",
       "\n",
       "    .dataframe thead th {\n",
       "        text-align: right;\n",
       "    }\n",
       "</style>\n",
       "<table border=\"1\" class=\"dataframe\">\n",
       "  <thead>\n",
       "    <tr style=\"text-align: right;\">\n",
       "      <th></th>\n",
       "      <th>response_id</th>\n",
       "      <th>year_submitted_survey_2</th>\n",
       "      <th>months_owned</th>\n",
       "      <th>model_year</th>\n",
       "      <th>Make</th>\n",
       "      <th>Model</th>\n",
       "      <th>electric_range</th>\n",
       "      <th>ev_type</th>\n",
       "      <th>discontinuance</th>\n",
       "      <th>surveyed_age</th>\n",
       "      <th>...</th>\n",
       "      <th>reliability_satisfaction</th>\n",
       "      <th>range_satisfaction</th>\n",
       "      <th>charge_access_satisfaction</th>\n",
       "      <th>adas_satisfaction</th>\n",
       "      <th>household_income</th>\n",
       "      <th>home_charge_type</th>\n",
       "      <th>work_charge_type</th>\n",
       "      <th>highest_charge_used</th>\n",
       "      <th>backup_vehicle_mpg</th>\n",
       "      <th>finance_type</th>\n",
       "    </tr>\n",
       "  </thead>\n",
       "  <tbody>\n",
       "    <tr>\n",
       "      <th>0</th>\n",
       "      <td>1.0</td>\n",
       "      <td>2019.0</td>\n",
       "      <td>24.0</td>\n",
       "      <td>2016</td>\n",
       "      <td>bmw</td>\n",
       "      <td>i3</td>\n",
       "      <td>81.0</td>\n",
       "      <td>phev</td>\n",
       "      <td>continued</td>\n",
       "      <td>25.0</td>\n",
       "      <td>...</td>\n",
       "      <td>5.0</td>\n",
       "      <td>5.0</td>\n",
       "      <td>5.0</td>\n",
       "      <td>5.0</td>\n",
       "      <td>$150,000 to $199,999</td>\n",
       "      <td>no charging</td>\n",
       "      <td>no charging</td>\n",
       "      <td>level 2</td>\n",
       "      <td>25.0</td>\n",
       "      <td>1.0</td>\n",
       "    </tr>\n",
       "    <tr>\n",
       "      <th>6</th>\n",
       "      <td>7.0</td>\n",
       "      <td>2019.0</td>\n",
       "      <td>14.0</td>\n",
       "      <td>2016</td>\n",
       "      <td>fiat</td>\n",
       "      <td>500e</td>\n",
       "      <td>87.0</td>\n",
       "      <td>bev</td>\n",
       "      <td>continued</td>\n",
       "      <td>35.0</td>\n",
       "      <td>...</td>\n",
       "      <td>4.0</td>\n",
       "      <td>1.0</td>\n",
       "      <td>3.0</td>\n",
       "      <td>3.0</td>\n",
       "      <td>$50,000 to $99,999</td>\n",
       "      <td>level 1</td>\n",
       "      <td>no charging</td>\n",
       "      <td>level 2</td>\n",
       "      <td>82.0</td>\n",
       "      <td>1.0</td>\n",
       "    </tr>\n",
       "    <tr>\n",
       "      <th>9</th>\n",
       "      <td>11.0</td>\n",
       "      <td>2019.0</td>\n",
       "      <td>48.0</td>\n",
       "      <td>2015</td>\n",
       "      <td>nissan</td>\n",
       "      <td>leaf</td>\n",
       "      <td>84.0</td>\n",
       "      <td>bev</td>\n",
       "      <td>discontinued</td>\n",
       "      <td>55.0</td>\n",
       "      <td>...</td>\n",
       "      <td>3.0</td>\n",
       "      <td>1.0</td>\n",
       "      <td>2.0</td>\n",
       "      <td>1.0</td>\n",
       "      <td>i prefer not to answer</td>\n",
       "      <td>level 1</td>\n",
       "      <td>no charging</td>\n",
       "      <td>no charging</td>\n",
       "      <td>24.0</td>\n",
       "      <td>1.0</td>\n",
       "    </tr>\n",
       "    <tr>\n",
       "      <th>10</th>\n",
       "      <td>12.0</td>\n",
       "      <td>2019.0</td>\n",
       "      <td>30.0</td>\n",
       "      <td>2015</td>\n",
       "      <td>bmw</td>\n",
       "      <td>i3</td>\n",
       "      <td>81.0</td>\n",
       "      <td>phev</td>\n",
       "      <td>continued</td>\n",
       "      <td>55.0</td>\n",
       "      <td>...</td>\n",
       "      <td>5.0</td>\n",
       "      <td>2.0</td>\n",
       "      <td>3.0</td>\n",
       "      <td>3.0</td>\n",
       "      <td>$100,000 to $149,999</td>\n",
       "      <td>level 2</td>\n",
       "      <td>level 1</td>\n",
       "      <td>no charging</td>\n",
       "      <td>34.0</td>\n",
       "      <td>1.0</td>\n",
       "    </tr>\n",
       "    <tr>\n",
       "      <th>11</th>\n",
       "      <td>13.0</td>\n",
       "      <td>2019.0</td>\n",
       "      <td>31.0</td>\n",
       "      <td>2016</td>\n",
       "      <td>volkswagen</td>\n",
       "      <td>e-golf</td>\n",
       "      <td>84.0</td>\n",
       "      <td>bev</td>\n",
       "      <td>continued</td>\n",
       "      <td>35.0</td>\n",
       "      <td>...</td>\n",
       "      <td>5.0</td>\n",
       "      <td>2.0</td>\n",
       "      <td>4.0</td>\n",
       "      <td>2.0</td>\n",
       "      <td>$150,000 to $199,999</td>\n",
       "      <td>level 1</td>\n",
       "      <td>level 1</td>\n",
       "      <td>level 1 &amp; level 2</td>\n",
       "      <td>NaN</td>\n",
       "      <td>1.0</td>\n",
       "    </tr>\n",
       "  </tbody>\n",
       "</table>\n",
       "<p>5 rows × 29 columns</p>\n",
       "</div>"
      ],
      "text/plain": [
       "    response_id  year_submitted_survey_2  months_owned model_year        Make  \\\n",
       "0           1.0                   2019.0          24.0       2016         bmw   \n",
       "6           7.0                   2019.0          14.0       2016        fiat   \n",
       "9          11.0                   2019.0          48.0       2015      nissan   \n",
       "10         12.0                   2019.0          30.0       2015         bmw   \n",
       "11         13.0                   2019.0          31.0       2016  volkswagen   \n",
       "\n",
       "     Model  electric_range ev_type discontinuance  surveyed_age  ...  \\\n",
       "0       i3            81.0    phev      continued          25.0  ...   \n",
       "6     500e            87.0     bev      continued          35.0  ...   \n",
       "9     leaf            84.0     bev   discontinued          55.0  ...   \n",
       "10      i3            81.0    phev      continued          55.0  ...   \n",
       "11  e-golf            84.0     bev      continued          35.0  ...   \n",
       "\n",
       "   reliability_satisfaction  range_satisfaction  charge_access_satisfaction  \\\n",
       "0                       5.0                 5.0                         5.0   \n",
       "6                       4.0                 1.0                         3.0   \n",
       "9                       3.0                 1.0                         2.0   \n",
       "10                      5.0                 2.0                         3.0   \n",
       "11                      5.0                 2.0                         4.0   \n",
       "\n",
       "    adas_satisfaction        household_income  home_charge_type  \\\n",
       "0                 5.0    $150,000 to $199,999       no charging   \n",
       "6                 3.0      $50,000 to $99,999           level 1   \n",
       "9                 1.0  i prefer not to answer           level 1   \n",
       "10                3.0    $100,000 to $149,999           level 2   \n",
       "11                2.0    $150,000 to $199,999           level 1   \n",
       "\n",
       "    work_charge_type  highest_charge_used  backup_vehicle_mpg  finance_type  \n",
       "0        no charging              level 2                25.0           1.0  \n",
       "6        no charging              level 2                82.0           1.0  \n",
       "9        no charging          no charging                24.0           1.0  \n",
       "10           level 1          no charging                34.0           1.0  \n",
       "11           level 1    level 1 & level 2                 NaN           1.0  \n",
       "\n",
       "[5 rows x 29 columns]"
      ]
     },
     "execution_count": 53,
     "metadata": {},
     "output_type": "execute_result"
    }
   ],
   "source": [
    "raw_output.head()"
   ]
  },
  {
   "cell_type": "code",
   "execution_count": null,
   "metadata": {},
   "outputs": [],
   "source": []
  }
 ],
 "metadata": {
  "kernelspec": {
   "display_name": "Python 3",
   "language": "python",
   "name": "python3"
  },
  "language_info": {
   "codemirror_mode": {
    "name": "ipython",
    "version": 3
   },
   "file_extension": ".py",
   "mimetype": "text/x-python",
   "name": "python",
   "nbconvert_exporter": "python",
   "pygments_lexer": "ipython3",
   "version": "3.8.5"
  }
 },
 "nbformat": 4,
 "nbformat_minor": 4
}
