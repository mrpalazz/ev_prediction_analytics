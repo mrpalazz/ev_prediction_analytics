{
 "cells": [
  {
   "cell_type": "markdown",
   "metadata": {},
   "source": [
    "# Exploratory Data Analysis (EDA)\n",
    "## EV Survey "
   ]
  },
  {
   "cell_type": "code",
   "execution_count": 347,
   "metadata": {},
   "outputs": [],
   "source": [
    "import pandas as pd\n",
    "import seaborn as sns\n",
    "import matplotlib.pyplot as plt\n",
    "from pandas_profiling import ProfileReport\n",
    "import numpy as np\n",
    "#------------------------\n",
    "from sklearn.preprocessing import OrdinalEncoder\n",
    "from sklearn.model_selection import train_test_split\n",
    "from sklearn.metrics import precision_recall_curve\n",
    "from sklearn.metrics import f1_score\n",
    "from sklearn.metrics import auc\n",
    "from sklearn.linear_model import LogisticRegression\n",
    "from matplotlib import pyplot\n",
    "from sklearn.metrics import precision_recall_curve\n",
    "from sklearn.metrics import f1_score\n",
    "from sklearn.metrics import auc\n",
    "from sklearn.linear_model import LogisticRegression\n",
    "from sklearn.metrics import classification_report,confusion_matrix,roc_curve,roc_auc_score\n",
    "from sklearn.metrics import accuracy_score,log_loss\n",
    "from sklearn.ensemble import RandomForestClassifier\n",
    "from sklearn import preprocessing\n",
    "#-------------------------\n",
    "from os import listdir\n",
    "from os.path import isfile, join\n",
    "\n",
    "import os \n",
    "from pathlib import Path"
   ]
  },
  {
   "cell_type": "markdown",
   "metadata": {},
   "source": [
    "Objective\n",
    "* Evaluate feature relationships\n",
    "* Evaluate statistical relationship strengths using Pearson or other method"
   ]
  },
  {
   "cell_type": "code",
   "execution_count": 348,
   "metadata": {},
   "outputs": [],
   "source": [
    "def seabornhist(size=(10,10), data=None, hue_c=None, x=None):\n",
    "    fig, ax = plt.subplots(figsize=size)\n",
    "    ax = sns.histplot(x=x, data= data, hue = hue_c, ax=ax)\n",
    "    plt.show()\n",
    "    return\n",
    "\n",
    "def seaborncount(size=(10,10), data=None, hue_c=None, x=None):\n",
    "    fig, ax = plt.subplots(figsize=size)\n",
    "    ax = sns.countplot(x=x, data= data, hue = hue_c, ax=ax)\n",
    "    plt.show()\n",
    "    return"
   ]
  },
  {
   "cell_type": "code",
   "execution_count": 349,
   "metadata": {},
   "outputs": [],
   "source": [
    "#collect info about current working directory and the location of the raw data pickle files\n",
    "\n",
    "wd = Path(os.getcwd())\n",
    "parent_dir = wd.parent.absolute()"
   ]
  },
  {
   "cell_type": "code",
   "execution_count": 350,
   "metadata": {},
   "outputs": [],
   "source": [
    "#Data for the EV survey\n",
    "filename = \"ev_survey_wrangled_hasna.pkl\"\n",
    "filepath = f\"{wd}\\\\{filename}\"\n",
    "ev_survey_wrangled_hasna = pd.read_pickle(filepath)"
   ]
  },
  {
   "cell_type": "code",
   "execution_count": 351,
   "metadata": {},
   "outputs": [
    {
     "data": {
      "text/html": [
       "<div>\n",
       "<style scoped>\n",
       "    .dataframe tbody tr th:only-of-type {\n",
       "        vertical-align: middle;\n",
       "    }\n",
       "\n",
       "    .dataframe tbody tr th {\n",
       "        vertical-align: top;\n",
       "    }\n",
       "\n",
       "    .dataframe thead th {\n",
       "        text-align: right;\n",
       "    }\n",
       "</style>\n",
       "<table border=\"1\" class=\"dataframe\">\n",
       "  <thead>\n",
       "    <tr style=\"text-align: right;\">\n",
       "      <th></th>\n",
       "      <th>response_id</th>\n",
       "      <th>year_submitted_survey_2</th>\n",
       "      <th>months_owned</th>\n",
       "      <th>model_year</th>\n",
       "      <th>Make</th>\n",
       "      <th>Model</th>\n",
       "      <th>electric_range</th>\n",
       "      <th>ev_type</th>\n",
       "      <th>discontinuance</th>\n",
       "      <th>surveyed_age</th>\n",
       "      <th>...</th>\n",
       "      <th>reliability_satisfaction</th>\n",
       "      <th>range_satisfaction</th>\n",
       "      <th>charge_access_satisfaction</th>\n",
       "      <th>adas_satisfaction</th>\n",
       "      <th>household_income</th>\n",
       "      <th>home_charge_type</th>\n",
       "      <th>work_charge_type</th>\n",
       "      <th>highest_charge_used</th>\n",
       "      <th>backup_vehicle_mpg</th>\n",
       "      <th>finance_type</th>\n",
       "    </tr>\n",
       "  </thead>\n",
       "  <tbody>\n",
       "    <tr>\n",
       "      <th>0</th>\n",
       "      <td>1.0</td>\n",
       "      <td>2019.0</td>\n",
       "      <td>24.0</td>\n",
       "      <td>2016</td>\n",
       "      <td>bmw</td>\n",
       "      <td>i3</td>\n",
       "      <td>81.0</td>\n",
       "      <td>phev</td>\n",
       "      <td>continued</td>\n",
       "      <td>25.0</td>\n",
       "      <td>...</td>\n",
       "      <td>5.0</td>\n",
       "      <td>5.0</td>\n",
       "      <td>5.0</td>\n",
       "      <td>5.0</td>\n",
       "      <td>$150,000 to $199,999</td>\n",
       "      <td>no charging</td>\n",
       "      <td>no charging</td>\n",
       "      <td>level 2</td>\n",
       "      <td>25.0</td>\n",
       "      <td>1.0</td>\n",
       "    </tr>\n",
       "    <tr>\n",
       "      <th>6</th>\n",
       "      <td>7.0</td>\n",
       "      <td>2019.0</td>\n",
       "      <td>14.0</td>\n",
       "      <td>2016</td>\n",
       "      <td>fiat</td>\n",
       "      <td>500e</td>\n",
       "      <td>87.0</td>\n",
       "      <td>bev</td>\n",
       "      <td>continued</td>\n",
       "      <td>35.0</td>\n",
       "      <td>...</td>\n",
       "      <td>4.0</td>\n",
       "      <td>1.0</td>\n",
       "      <td>3.0</td>\n",
       "      <td>3.0</td>\n",
       "      <td>$50,000 to $99,999</td>\n",
       "      <td>level 1</td>\n",
       "      <td>no charging</td>\n",
       "      <td>level 2</td>\n",
       "      <td>82.0</td>\n",
       "      <td>1.0</td>\n",
       "    </tr>\n",
       "    <tr>\n",
       "      <th>9</th>\n",
       "      <td>11.0</td>\n",
       "      <td>2019.0</td>\n",
       "      <td>48.0</td>\n",
       "      <td>2015</td>\n",
       "      <td>nissan</td>\n",
       "      <td>leaf</td>\n",
       "      <td>84.0</td>\n",
       "      <td>bev</td>\n",
       "      <td>discontinued</td>\n",
       "      <td>55.0</td>\n",
       "      <td>...</td>\n",
       "      <td>3.0</td>\n",
       "      <td>1.0</td>\n",
       "      <td>2.0</td>\n",
       "      <td>1.0</td>\n",
       "      <td>i prefer not to answer</td>\n",
       "      <td>level 1</td>\n",
       "      <td>no charging</td>\n",
       "      <td>no charging</td>\n",
       "      <td>24.0</td>\n",
       "      <td>1.0</td>\n",
       "    </tr>\n",
       "    <tr>\n",
       "      <th>10</th>\n",
       "      <td>12.0</td>\n",
       "      <td>2019.0</td>\n",
       "      <td>30.0</td>\n",
       "      <td>2015</td>\n",
       "      <td>bmw</td>\n",
       "      <td>i3</td>\n",
       "      <td>81.0</td>\n",
       "      <td>phev</td>\n",
       "      <td>continued</td>\n",
       "      <td>55.0</td>\n",
       "      <td>...</td>\n",
       "      <td>5.0</td>\n",
       "      <td>2.0</td>\n",
       "      <td>3.0</td>\n",
       "      <td>3.0</td>\n",
       "      <td>$100,000 to $149,999</td>\n",
       "      <td>level 2</td>\n",
       "      <td>level 1</td>\n",
       "      <td>no charging</td>\n",
       "      <td>34.0</td>\n",
       "      <td>1.0</td>\n",
       "    </tr>\n",
       "    <tr>\n",
       "      <th>11</th>\n",
       "      <td>13.0</td>\n",
       "      <td>2019.0</td>\n",
       "      <td>31.0</td>\n",
       "      <td>2016</td>\n",
       "      <td>volkswagen</td>\n",
       "      <td>e-golf</td>\n",
       "      <td>84.0</td>\n",
       "      <td>bev</td>\n",
       "      <td>continued</td>\n",
       "      <td>35.0</td>\n",
       "      <td>...</td>\n",
       "      <td>5.0</td>\n",
       "      <td>2.0</td>\n",
       "      <td>4.0</td>\n",
       "      <td>2.0</td>\n",
       "      <td>$150,000 to $199,999</td>\n",
       "      <td>level 1</td>\n",
       "      <td>level 1</td>\n",
       "      <td>level 1 &amp; level 2</td>\n",
       "      <td>NaN</td>\n",
       "      <td>1.0</td>\n",
       "    </tr>\n",
       "  </tbody>\n",
       "</table>\n",
       "<p>5 rows × 29 columns</p>\n",
       "</div>"
      ],
      "text/plain": [
       "    response_id  year_submitted_survey_2  months_owned model_year        Make  \\\n",
       "0           1.0                   2019.0          24.0       2016         bmw   \n",
       "6           7.0                   2019.0          14.0       2016        fiat   \n",
       "9          11.0                   2019.0          48.0       2015      nissan   \n",
       "10         12.0                   2019.0          30.0       2015         bmw   \n",
       "11         13.0                   2019.0          31.0       2016  volkswagen   \n",
       "\n",
       "     Model  electric_range ev_type discontinuance  surveyed_age  ...  \\\n",
       "0       i3            81.0    phev      continued          25.0  ...   \n",
       "6     500e            87.0     bev      continued          35.0  ...   \n",
       "9     leaf            84.0     bev   discontinued          55.0  ...   \n",
       "10      i3            81.0    phev      continued          55.0  ...   \n",
       "11  e-golf            84.0     bev      continued          35.0  ...   \n",
       "\n",
       "   reliability_satisfaction  range_satisfaction  charge_access_satisfaction  \\\n",
       "0                       5.0                 5.0                         5.0   \n",
       "6                       4.0                 1.0                         3.0   \n",
       "9                       3.0                 1.0                         2.0   \n",
       "10                      5.0                 2.0                         3.0   \n",
       "11                      5.0                 2.0                         4.0   \n",
       "\n",
       "    adas_satisfaction        household_income  home_charge_type  \\\n",
       "0                 5.0    $150,000 to $199,999       no charging   \n",
       "6                 3.0      $50,000 to $99,999           level 1   \n",
       "9                 1.0  i prefer not to answer           level 1   \n",
       "10                3.0    $100,000 to $149,999           level 2   \n",
       "11                2.0    $150,000 to $199,999           level 1   \n",
       "\n",
       "    work_charge_type  highest_charge_used  backup_vehicle_mpg  finance_type  \n",
       "0        no charging              level 2                25.0           1.0  \n",
       "6        no charging              level 2                82.0           1.0  \n",
       "9        no charging          no charging                24.0           1.0  \n",
       "10           level 1          no charging                34.0           1.0  \n",
       "11           level 1    level 1 & level 2                 NaN           1.0  \n",
       "\n",
       "[5 rows x 29 columns]"
      ]
     },
     "execution_count": 351,
     "metadata": {},
     "output_type": "execute_result"
    }
   ],
   "source": [
    "ev_survey_wrangled_hasna.head()"
   ]
  },
  {
   "cell_type": "code",
   "execution_count": 352,
   "metadata": {},
   "outputs": [],
   "source": [
    "# Make a pairplot of the ev survey data\n",
    "#sns.pairplot(ev_survey_wrangled_hasna, kind='scatter')"
   ]
  },
  {
   "cell_type": "code",
   "execution_count": 353,
   "metadata": {},
   "outputs": [],
   "source": [
    "# It's clear that this approach to build a pairplot will not be useful as the dataset\n",
    "# is comprised primarily of categorical variables"
   ]
  },
  {
   "cell_type": "code",
   "execution_count": 354,
   "metadata": {
    "scrolled": false
   },
   "outputs": [
    {
     "data": {
      "image/png": "[encoded data removed]",
      "text/plain": [
       "<Figure size 720x720 with 1 Axes>"
      ]
     },
     "metadata": {
      "needs_background": "light"
     },
     "output_type": "display_data"
    }
   ],
   "source": [
    "seabornhist(size=(10,10), data=ev_survey_wrangled_hasna, hue_c='discontinuance', x='surveyed_age')\n",
    "plt.show()\n",
    "\n"
   ]
  },
  {
   "cell_type": "code",
   "execution_count": 355,
   "metadata": {},
   "outputs": [
    {
     "data": {
      "image/png": "[encoded data removed]",
      "text/plain": [
       "<Figure size 720x720 with 1 Axes>"
      ]
     },
     "metadata": {
      "needs_background": "light"
     },
     "output_type": "display_data"
    }
   ],
   "source": [
    "seabornhist(size=(10,10), data=ev_survey_wrangled_hasna, hue_c='discontinuance', x='reliability_satisfaction')\n",
    "plt.show()"
   ]
  },
  {
   "cell_type": "code",
   "execution_count": 356,
   "metadata": {},
   "outputs": [
    {
     "data": {
      "image/png": "[encoded data removed]",
      "text/plain": [
       "<Figure size 720x720 with 1 Axes>"
      ]
     },
     "metadata": {
      "needs_background": "light"
     },
     "output_type": "display_data"
    }
   ],
   "source": [
    "seabornhist(size=(10,10), data=ev_survey_wrangled_hasna, hue_c='discontinuance', x='range_satisfaction')\n",
    "plt.show()"
   ]
  },
  {
   "cell_type": "code",
   "execution_count": 357,
   "metadata": {
    "scrolled": false
   },
   "outputs": [
    {
     "data": {
      "image/png": "[encoded data removed]",
      "text/plain": [
       "<Figure size 720x720 with 1 Axes>"
      ]
     },
     "metadata": {
      "needs_background": "light"
     },
     "output_type": "display_data"
    }
   ],
   "source": [
    "seabornhist(size=(10,10), data=ev_survey_wrangled_hasna, hue_c='discontinuance', x='finance_type')\n",
    "plt.show()"
   ]
  },
  {
   "cell_type": "code",
   "execution_count": 358,
   "metadata": {
    "scrolled": false
   },
   "outputs": [
    {
     "data": {
      "image/png": "[encoded data removed]",
      "text/plain": [
       "<Figure size 720x720 with 1 Axes>"
      ]
     },
     "metadata": {
      "needs_background": "light"
     },
     "output_type": "display_data"
    }
   ],
   "source": [
    "seabornhist(size=(10,10), data=ev_survey_wrangled_hasna, hue_c='finance_type', x='months_owned')\n",
    "plt.show()"
   ]
  },
  {
   "cell_type": "code",
   "execution_count": 359,
   "metadata": {},
   "outputs": [
    {
     "data": {
      "image/png": "[encoded data removed]",
      "text/plain": [
       "<Figure size 720x720 with 1 Axes>"
      ]
     },
     "metadata": {
      "needs_background": "light"
     },
     "output_type": "display_data"
    }
   ],
   "source": [
    "seabornhist(size=(10,10), data=ev_survey_wrangled_hasna, hue_c ='discontinuance', x='range_satisfaction')\n",
    "plt.show()"
   ]
  },
  {
   "cell_type": "code",
   "execution_count": 360,
   "metadata": {},
   "outputs": [
    {
     "data": {
      "image/png": "[encoded data removed]",
      "text/plain": [
       "<Figure size 720x720 with 1 Axes>"
      ]
     },
     "metadata": {
      "needs_background": "light"
     },
     "output_type": "display_data"
    }
   ],
   "source": [
    "seabornhist(size=(10,10), data=ev_survey_wrangled_hasna, hue_c ='discontinuance', x='electric_range')\n",
    "plt.show()"
   ]
  },
  {
   "cell_type": "code",
   "execution_count": 361,
   "metadata": {},
   "outputs": [
    {
     "data": {
      "image/png": "[encoded data removed]",
      "text/plain": [
       "<Figure size 720x720 with 1 Axes>"
      ]
     },
     "metadata": {
      "needs_background": "light"
     },
     "output_type": "display_data"
    }
   ],
   "source": [
    "seabornhist(size=(10,10), data=ev_survey_wrangled_hasna, hue_c = 'ev_type', x='months_owned')"
   ]
  },
  {
   "cell_type": "code",
   "execution_count": 362,
   "metadata": {},
   "outputs": [
    {
     "data": {
      "image/png": "[encoded data removed]",
      "text/plain": [
       "<Figure size 432x288 with 1 Axes>"
      ]
     },
     "metadata": {
      "needs_background": "light"
     },
     "output_type": "display_data"
    }
   ],
   "source": [
    "\n",
    "ax = sns.stripplot(data=ev_survey_wrangled_hasna,\n",
    "                  x='discontinuance',\n",
    "                  y='backup_vehicle_mpg',\n",
    "                  hue='ev_type',\n",
    "                  jitter=0.25)"
   ]
  },
  {
   "cell_type": "markdown",
   "metadata": {},
   "source": [
    "The results of this plot align if one takes the assumption that the users who discontinue use of an EV will probably not have an EV as a backup vehicle, so seeing more modest mpg ratings is not surprising. "
   ]
  },
  {
   "cell_type": "code",
   "execution_count": 363,
   "metadata": {},
   "outputs": [
    {
     "data": {
      "text/html": [
       "<div>\n",
       "<style scoped>\n",
       "    .dataframe tbody tr th:only-of-type {\n",
       "        vertical-align: middle;\n",
       "    }\n",
       "\n",
       "    .dataframe tbody tr th {\n",
       "        vertical-align: top;\n",
       "    }\n",
       "\n",
       "    .dataframe thead th {\n",
       "        text-align: right;\n",
       "    }\n",
       "</style>\n",
       "<table border=\"1\" class=\"dataframe\">\n",
       "  <thead>\n",
       "    <tr style=\"text-align: right;\">\n",
       "      <th></th>\n",
       "      <th>response_id</th>\n",
       "      <th>year_submitted_survey_2</th>\n",
       "      <th>months_owned</th>\n",
       "      <th>electric_range</th>\n",
       "      <th>surveyed_age</th>\n",
       "      <th>dist_1</th>\n",
       "      <th>trips_greater_200</th>\n",
       "      <th>safety_satisfaction</th>\n",
       "      <th>comfort_satisfaction</th>\n",
       "      <th>refuel_recharge_satisfaction</th>\n",
       "      <th>performance_satisfaction</th>\n",
       "      <th>env_impact_satisfaction</th>\n",
       "      <th>purch_price_satisfaction</th>\n",
       "      <th>reliability_satisfaction</th>\n",
       "      <th>range_satisfaction</th>\n",
       "      <th>charge_access_satisfaction</th>\n",
       "      <th>adas_satisfaction</th>\n",
       "      <th>backup_vehicle_mpg</th>\n",
       "      <th>finance_type</th>\n",
       "    </tr>\n",
       "  </thead>\n",
       "  <tbody>\n",
       "    <tr>\n",
       "      <th>count</th>\n",
       "      <td>1947.000000</td>\n",
       "      <td>1947.0</td>\n",
       "      <td>1851.000000</td>\n",
       "      <td>1946.000000</td>\n",
       "      <td>1872.000000</td>\n",
       "      <td>1615.000000</td>\n",
       "      <td>1947.000000</td>\n",
       "      <td>1753.000000</td>\n",
       "      <td>1753.000000</td>\n",
       "      <td>1753.000000</td>\n",
       "      <td>1753.000000</td>\n",
       "      <td>1753.000000</td>\n",
       "      <td>1753.000000</td>\n",
       "      <td>1753.000000</td>\n",
       "      <td>1753.000000</td>\n",
       "      <td>1753.000000</td>\n",
       "      <td>1753.000000</td>\n",
       "      <td>1587.000000</td>\n",
       "      <td>1947.000000</td>\n",
       "    </tr>\n",
       "    <tr>\n",
       "      <th>mean</th>\n",
       "      <td>2595.751926</td>\n",
       "      <td>2019.0</td>\n",
       "      <td>39.679633</td>\n",
       "      <td>89.323227</td>\n",
       "      <td>55.137821</td>\n",
       "      <td>19.769337</td>\n",
       "      <td>0.223934</td>\n",
       "      <td>4.463776</td>\n",
       "      <td>4.290930</td>\n",
       "      <td>4.576155</td>\n",
       "      <td>4.313748</td>\n",
       "      <td>4.661152</td>\n",
       "      <td>4.046777</td>\n",
       "      <td>4.435254</td>\n",
       "      <td>2.896178</td>\n",
       "      <td>3.948089</td>\n",
       "      <td>3.737022</td>\n",
       "      <td>34.643352</td>\n",
       "      <td>0.727273</td>\n",
       "    </tr>\n",
       "    <tr>\n",
       "      <th>std</th>\n",
       "      <td>1413.889852</td>\n",
       "      <td>0.0</td>\n",
       "      <td>14.374433</td>\n",
       "      <td>74.423045</td>\n",
       "      <td>12.908394</td>\n",
       "      <td>68.279562</td>\n",
       "      <td>2.731978</td>\n",
       "      <td>0.845330</td>\n",
       "      <td>0.968578</td>\n",
       "      <td>0.877836</td>\n",
       "      <td>1.014574</td>\n",
       "      <td>0.703353</td>\n",
       "      <td>1.101619</td>\n",
       "      <td>1.000828</td>\n",
       "      <td>1.389603</td>\n",
       "      <td>1.216392</td>\n",
       "      <td>1.177163</td>\n",
       "      <td>24.698563</td>\n",
       "      <td>0.445476</td>\n",
       "    </tr>\n",
       "    <tr>\n",
       "      <th>min</th>\n",
       "      <td>1.000000</td>\n",
       "      <td>2019.0</td>\n",
       "      <td>-31.000000</td>\n",
       "      <td>11.000000</td>\n",
       "      <td>18.000000</td>\n",
       "      <td>0.070000</td>\n",
       "      <td>0.000000</td>\n",
       "      <td>1.000000</td>\n",
       "      <td>1.000000</td>\n",
       "      <td>1.000000</td>\n",
       "      <td>1.000000</td>\n",
       "      <td>1.000000</td>\n",
       "      <td>1.000000</td>\n",
       "      <td>1.000000</td>\n",
       "      <td>1.000000</td>\n",
       "      <td>1.000000</td>\n",
       "      <td>1.000000</td>\n",
       "      <td>10.000000</td>\n",
       "      <td>0.000000</td>\n",
       "    </tr>\n",
       "    <tr>\n",
       "      <th>25%</th>\n",
       "      <td>1376.000000</td>\n",
       "      <td>2019.0</td>\n",
       "      <td>33.000000</td>\n",
       "      <td>53.000000</td>\n",
       "      <td>45.000000</td>\n",
       "      <td>5.285000</td>\n",
       "      <td>0.000000</td>\n",
       "      <td>4.000000</td>\n",
       "      <td>4.000000</td>\n",
       "      <td>5.000000</td>\n",
       "      <td>4.000000</td>\n",
       "      <td>5.000000</td>\n",
       "      <td>3.000000</td>\n",
       "      <td>4.000000</td>\n",
       "      <td>2.000000</td>\n",
       "      <td>3.000000</td>\n",
       "      <td>3.000000</td>\n",
       "      <td>24.000000</td>\n",
       "      <td>0.000000</td>\n",
       "    </tr>\n",
       "    <tr>\n",
       "      <th>50%</th>\n",
       "      <td>2724.000000</td>\n",
       "      <td>2019.0</td>\n",
       "      <td>36.000000</td>\n",
       "      <td>84.000000</td>\n",
       "      <td>55.000000</td>\n",
       "      <td>12.110000</td>\n",
       "      <td>0.000000</td>\n",
       "      <td>5.000000</td>\n",
       "      <td>5.000000</td>\n",
       "      <td>5.000000</td>\n",
       "      <td>5.000000</td>\n",
       "      <td>5.000000</td>\n",
       "      <td>4.000000</td>\n",
       "      <td>5.000000</td>\n",
       "      <td>2.000000</td>\n",
       "      <td>4.000000</td>\n",
       "      <td>4.000000</td>\n",
       "      <td>24.000000</td>\n",
       "      <td>1.000000</td>\n",
       "    </tr>\n",
       "    <tr>\n",
       "      <th>75%</th>\n",
       "      <td>3744.500000</td>\n",
       "      <td>2019.0</td>\n",
       "      <td>46.000000</td>\n",
       "      <td>84.000000</td>\n",
       "      <td>65.000000</td>\n",
       "      <td>22.085000</td>\n",
       "      <td>0.000000</td>\n",
       "      <td>5.000000</td>\n",
       "      <td>5.000000</td>\n",
       "      <td>5.000000</td>\n",
       "      <td>5.000000</td>\n",
       "      <td>5.000000</td>\n",
       "      <td>5.000000</td>\n",
       "      <td>5.000000</td>\n",
       "      <td>4.000000</td>\n",
       "      <td>5.000000</td>\n",
       "      <td>5.000000</td>\n",
       "      <td>34.000000</td>\n",
       "      <td>1.000000</td>\n",
       "    </tr>\n",
       "    <tr>\n",
       "      <th>max</th>\n",
       "      <td>5022.000000</td>\n",
       "      <td>2019.0</td>\n",
       "      <td>109.000000</td>\n",
       "      <td>310.000000</td>\n",
       "      <td>80.000000</td>\n",
       "      <td>1992.600000</td>\n",
       "      <td>100.000000</td>\n",
       "      <td>5.000000</td>\n",
       "      <td>5.000000</td>\n",
       "      <td>5.000000</td>\n",
       "      <td>5.000000</td>\n",
       "      <td>5.000000</td>\n",
       "      <td>5.000000</td>\n",
       "      <td>5.000000</td>\n",
       "      <td>5.000000</td>\n",
       "      <td>5.000000</td>\n",
       "      <td>5.000000</td>\n",
       "      <td>126.000000</td>\n",
       "      <td>1.000000</td>\n",
       "    </tr>\n",
       "  </tbody>\n",
       "</table>\n",
       "</div>"
      ],
      "text/plain": [
       "       response_id  year_submitted_survey_2  months_owned  electric_range  \\\n",
       "count  1947.000000                   1947.0   1851.000000     1946.000000   \n",
       "mean   2595.751926                   2019.0     39.679633       89.323227   \n",
       "std    1413.889852                      0.0     14.374433       74.423045   \n",
       "min       1.000000                   2019.0    -31.000000       11.000000   \n",
       "25%    1376.000000                   2019.0     33.000000       53.000000   \n",
       "50%    2724.000000                   2019.0     36.000000       84.000000   \n",
       "75%    3744.500000                   2019.0     46.000000       84.000000   \n",
       "max    5022.000000                   2019.0    109.000000      310.000000   \n",
       "\n",
       "       surveyed_age       dist_1  trips_greater_200  safety_satisfaction  \\\n",
       "count   1872.000000  1615.000000        1947.000000          1753.000000   \n",
       "mean      55.137821    19.769337           0.223934             4.463776   \n",
       "std       12.908394    68.279562           2.731978             0.845330   \n",
       "min       18.000000     0.070000           0.000000             1.000000   \n",
       "25%       45.000000     5.285000           0.000000             4.000000   \n",
       "50%       55.000000    12.110000           0.000000             5.000000   \n",
       "75%       65.000000    22.085000           0.000000             5.000000   \n",
       "max       80.000000  1992.600000         100.000000             5.000000   \n",
       "\n",
       "       comfort_satisfaction  refuel_recharge_satisfaction  \\\n",
       "count           1753.000000                   1753.000000   \n",
       "mean               4.290930                      4.576155   \n",
       "std                0.968578                      0.877836   \n",
       "min                1.000000                      1.000000   \n",
       "25%                4.000000                      5.000000   \n",
       "50%                5.000000                      5.000000   \n",
       "75%                5.000000                      5.000000   \n",
       "max                5.000000                      5.000000   \n",
       "\n",
       "       performance_satisfaction  env_impact_satisfaction  \\\n",
       "count               1753.000000              1753.000000   \n",
       "mean                   4.313748                 4.661152   \n",
       "std                    1.014574                 0.703353   \n",
       "min                    1.000000                 1.000000   \n",
       "25%                    4.000000                 5.000000   \n",
       "50%                    5.000000                 5.000000   \n",
       "75%                    5.000000                 5.000000   \n",
       "max                    5.000000                 5.000000   \n",
       "\n",
       "       purch_price_satisfaction  reliability_satisfaction  range_satisfaction  \\\n",
       "count               1753.000000               1753.000000         1753.000000   \n",
       "mean                   4.046777                  4.435254            2.896178   \n",
       "std                    1.101619                  1.000828            1.389603   \n",
       "min                    1.000000                  1.000000            1.000000   \n",
       "25%                    3.000000                  4.000000            2.000000   \n",
       "50%                    4.000000                  5.000000            2.000000   \n",
       "75%                    5.000000                  5.000000            4.000000   \n",
       "max                    5.000000                  5.000000            5.000000   \n",
       "\n",
       "       charge_access_satisfaction  adas_satisfaction  backup_vehicle_mpg  \\\n",
       "count                 1753.000000        1753.000000         1587.000000   \n",
       "mean                     3.948089           3.737022           34.643352   \n",
       "std                      1.216392           1.177163           24.698563   \n",
       "min                      1.000000           1.000000           10.000000   \n",
       "25%                      3.000000           3.000000           24.000000   \n",
       "50%                      4.000000           4.000000           24.000000   \n",
       "75%                      5.000000           5.000000           34.000000   \n",
       "max                      5.000000           5.000000          126.000000   \n",
       "\n",
       "       finance_type  \n",
       "count   1947.000000  \n",
       "mean       0.727273  \n",
       "std        0.445476  \n",
       "min        0.000000  \n",
       "25%        0.000000  \n",
       "50%        1.000000  \n",
       "75%        1.000000  \n",
       "max        1.000000  "
      ]
     },
     "execution_count": 363,
     "metadata": {},
     "output_type": "execute_result"
    }
   ],
   "source": [
    "ev_survey_wrangled_hasna.describe()"
   ]
  },
  {
   "cell_type": "markdown",
   "metadata": {},
   "source": [
    "Interesting notes:\n",
    "* The months owned has negative values in it which doesn't make sense. ownership cannot be negative.\n",
    "* There is a vehicle with an electric range noted as 11, take a look at that one and see what vehicle it is. \n",
    "* There is a 1 way distance of 0.07 miles, very short. look into this entry more closely.\n",
    "* There is a 1 way distance of 1992 miles, look into this more closely.\n",
    "\n",
    "\n"
   ]
  },
  {
   "cell_type": "code",
   "execution_count": 364,
   "metadata": {},
   "outputs": [
    {
     "data": {
      "text/html": [
       "<div>\n",
       "<style scoped>\n",
       "    .dataframe tbody tr th:only-of-type {\n",
       "        vertical-align: middle;\n",
       "    }\n",
       "\n",
       "    .dataframe tbody tr th {\n",
       "        vertical-align: top;\n",
       "    }\n",
       "\n",
       "    .dataframe thead th {\n",
       "        text-align: right;\n",
       "    }\n",
       "</style>\n",
       "<table border=\"1\" class=\"dataframe\">\n",
       "  <thead>\n",
       "    <tr style=\"text-align: right;\">\n",
       "      <th></th>\n",
       "      <th>response_id</th>\n",
       "      <th>year_submitted_survey_2</th>\n",
       "      <th>months_owned</th>\n",
       "      <th>model_year</th>\n",
       "      <th>Make</th>\n",
       "      <th>Model</th>\n",
       "      <th>electric_range</th>\n",
       "      <th>ev_type</th>\n",
       "      <th>discontinuance</th>\n",
       "      <th>surveyed_age</th>\n",
       "      <th>...</th>\n",
       "      <th>reliability_satisfaction</th>\n",
       "      <th>range_satisfaction</th>\n",
       "      <th>charge_access_satisfaction</th>\n",
       "      <th>adas_satisfaction</th>\n",
       "      <th>household_income</th>\n",
       "      <th>home_charge_type</th>\n",
       "      <th>work_charge_type</th>\n",
       "      <th>highest_charge_used</th>\n",
       "      <th>backup_vehicle_mpg</th>\n",
       "      <th>finance_type</th>\n",
       "    </tr>\n",
       "  </thead>\n",
       "  <tbody>\n",
       "    <tr>\n",
       "      <th>30</th>\n",
       "      <td>30.0</td>\n",
       "      <td>2019.0</td>\n",
       "      <td>NaN</td>\n",
       "      <td>2011</td>\n",
       "      <td>nissan</td>\n",
       "      <td>leaf</td>\n",
       "      <td>84.0</td>\n",
       "      <td>bev</td>\n",
       "      <td>continued</td>\n",
       "      <td>65.0</td>\n",
       "      <td>...</td>\n",
       "      <td>5.0</td>\n",
       "      <td>4.0</td>\n",
       "      <td>5.0</td>\n",
       "      <td>2.0</td>\n",
       "      <td>$150,000 to $199,999</td>\n",
       "      <td>no charging</td>\n",
       "      <td>NaN</td>\n",
       "      <td>NaN</td>\n",
       "      <td>NaN</td>\n",
       "      <td>0.0</td>\n",
       "    </tr>\n",
       "    <tr>\n",
       "      <th>108</th>\n",
       "      <td>113.0</td>\n",
       "      <td>2019.0</td>\n",
       "      <td>NaN</td>\n",
       "      <td>2012</td>\n",
       "      <td>mitsubishi</td>\n",
       "      <td>i-miev</td>\n",
       "      <td>62.0</td>\n",
       "      <td>bev</td>\n",
       "      <td>discontinued</td>\n",
       "      <td>55.0</td>\n",
       "      <td>...</td>\n",
       "      <td>5.0</td>\n",
       "      <td>1.0</td>\n",
       "      <td>1.0</td>\n",
       "      <td>4.0</td>\n",
       "      <td>$100,000 to $149,999</td>\n",
       "      <td>no charging</td>\n",
       "      <td>NaN</td>\n",
       "      <td>NaN</td>\n",
       "      <td>NaN</td>\n",
       "      <td>0.0</td>\n",
       "    </tr>\n",
       "    <tr>\n",
       "      <th>175</th>\n",
       "      <td>180.0</td>\n",
       "      <td>2019.0</td>\n",
       "      <td>NaN</td>\n",
       "      <td>2016</td>\n",
       "      <td>toyota</td>\n",
       "      <td>mirai</td>\n",
       "      <td>300.0</td>\n",
       "      <td>NaN</td>\n",
       "      <td>continued</td>\n",
       "      <td>55.0</td>\n",
       "      <td>...</td>\n",
       "      <td>5.0</td>\n",
       "      <td>2.0</td>\n",
       "      <td>2.0</td>\n",
       "      <td>5.0</td>\n",
       "      <td>$250,000 to $299,999</td>\n",
       "      <td>no charging</td>\n",
       "      <td>NaN</td>\n",
       "      <td>NaN</td>\n",
       "      <td>NaN</td>\n",
       "      <td>0.0</td>\n",
       "    </tr>\n",
       "    <tr>\n",
       "      <th>238</th>\n",
       "      <td>245.0</td>\n",
       "      <td>2019.0</td>\n",
       "      <td>NaN</td>\n",
       "      <td>2015</td>\n",
       "      <td>hyundai</td>\n",
       "      <td>tucson</td>\n",
       "      <td>300.0</td>\n",
       "      <td>NaN</td>\n",
       "      <td>discontinued</td>\n",
       "      <td>35.0</td>\n",
       "      <td>...</td>\n",
       "      <td>4.0</td>\n",
       "      <td>4.0</td>\n",
       "      <td>1.0</td>\n",
       "      <td>2.0</td>\n",
       "      <td>$250,000 to $299,999</td>\n",
       "      <td>no charging</td>\n",
       "      <td>NaN</td>\n",
       "      <td>NaN</td>\n",
       "      <td>NaN</td>\n",
       "      <td>0.0</td>\n",
       "    </tr>\n",
       "    <tr>\n",
       "      <th>246</th>\n",
       "      <td>254.0</td>\n",
       "      <td>2019.0</td>\n",
       "      <td>NaN</td>\n",
       "      <td>2013</td>\n",
       "      <td>ford</td>\n",
       "      <td>c-max energi</td>\n",
       "      <td>20.0</td>\n",
       "      <td>phev</td>\n",
       "      <td>continued</td>\n",
       "      <td>NaN</td>\n",
       "      <td>...</td>\n",
       "      <td>NaN</td>\n",
       "      <td>NaN</td>\n",
       "      <td>NaN</td>\n",
       "      <td>NaN</td>\n",
       "      <td>NaN</td>\n",
       "      <td>no charging</td>\n",
       "      <td>NaN</td>\n",
       "      <td>NaN</td>\n",
       "      <td>NaN</td>\n",
       "      <td>0.0</td>\n",
       "    </tr>\n",
       "  </tbody>\n",
       "</table>\n",
       "<p>5 rows × 29 columns</p>\n",
       "</div>"
      ],
      "text/plain": [
       "     response_id  year_submitted_survey_2  months_owned model_year  \\\n",
       "30          30.0                   2019.0           NaN       2011   \n",
       "108        113.0                   2019.0           NaN       2012   \n",
       "175        180.0                   2019.0           NaN       2016   \n",
       "238        245.0                   2019.0           NaN       2015   \n",
       "246        254.0                   2019.0           NaN       2013   \n",
       "\n",
       "           Make         Model  electric_range ev_type discontinuance  \\\n",
       "30       nissan          leaf            84.0     bev      continued   \n",
       "108  mitsubishi        i-miev            62.0     bev   discontinued   \n",
       "175      toyota         mirai           300.0     NaN      continued   \n",
       "238     hyundai        tucson           300.0     NaN   discontinued   \n",
       "246        ford  c-max energi            20.0    phev      continued   \n",
       "\n",
       "     surveyed_age  ... reliability_satisfaction  range_satisfaction  \\\n",
       "30           65.0  ...                      5.0                 4.0   \n",
       "108          55.0  ...                      5.0                 1.0   \n",
       "175          55.0  ...                      5.0                 2.0   \n",
       "238          35.0  ...                      4.0                 4.0   \n",
       "246           NaN  ...                      NaN                 NaN   \n",
       "\n",
       "     charge_access_satisfaction  adas_satisfaction      household_income  \\\n",
       "30                          5.0                2.0  $150,000 to $199,999   \n",
       "108                         1.0                4.0  $100,000 to $149,999   \n",
       "175                         2.0                5.0  $250,000 to $299,999   \n",
       "238                         1.0                2.0  $250,000 to $299,999   \n",
       "246                         NaN                NaN                   NaN   \n",
       "\n",
       "     home_charge_type  work_charge_type  highest_charge_used  \\\n",
       "30        no charging               NaN                  NaN   \n",
       "108       no charging               NaN                  NaN   \n",
       "175       no charging               NaN                  NaN   \n",
       "238       no charging               NaN                  NaN   \n",
       "246       no charging               NaN                  NaN   \n",
       "\n",
       "     backup_vehicle_mpg  finance_type  \n",
       "30                  NaN           0.0  \n",
       "108                 NaN           0.0  \n",
       "175                 NaN           0.0  \n",
       "238                 NaN           0.0  \n",
       "246                 NaN           0.0  \n",
       "\n",
       "[5 rows x 29 columns]"
      ]
     },
     "execution_count": 364,
     "metadata": {},
     "output_type": "execute_result"
    }
   ],
   "source": [
    "a  =(ev_survey_wrangled_hasna.loc[ev_survey_wrangled_hasna.months_owned.isnull()])\n",
    "a.head()"
   ]
  },
  {
   "cell_type": "code",
   "execution_count": 365,
   "metadata": {},
   "outputs": [],
   "source": [
    "#a  =(ev_survey_wrangled_hasna.loc[ev_survey_wrangled_hasna.months_owned.isnull()].index)\n",
    "\n",
    "#example if you want to drop rows with a certain value in a column\n",
    "#idx = ev_survey_wrangled_hasna[ev_survey_wrangled_hasna.months_owned\n",
    "#                            <=0].index\n",
    "#ev_survey_wrangled_hasna.drop(index=idx, inplace = True)\n"
   ]
  },
  {
   "cell_type": "markdown",
   "metadata": {},
   "source": [
    "## Update the data associated with the interesting findings above"
   ]
  },
  {
   "cell_type": "markdown",
   "metadata": {},
   "source": [
    "### Create a dataframe \"df\" that will be the final output from EDA with the cleaned data"
   ]
  },
  {
   "cell_type": "code",
   "execution_count": 366,
   "metadata": {},
   "outputs": [],
   "source": [
    "df = ev_survey_wrangled_hasna"
   ]
  },
  {
   "cell_type": "markdown",
   "metadata": {},
   "source": [
    "### Months of Ownership"
   ]
  },
  {
   "cell_type": "markdown",
   "metadata": {},
   "source": [
    "Turn the data that was negative to a positive value for months_owned as ownership cannot be positive."
   ]
  },
  {
   "cell_type": "code",
   "execution_count": 367,
   "metadata": {},
   "outputs": [
    {
     "data": {
      "text/plain": [
       "count    1851.000000\n",
       "mean       39.718531\n",
       "std        14.266543\n",
       "min         0.000000\n",
       "25%        33.000000\n",
       "50%        36.000000\n",
       "75%        46.000000\n",
       "max       109.000000\n",
       "Name: months_owned, dtype: float64"
      ]
     },
     "execution_count": 367,
     "metadata": {},
     "output_type": "execute_result"
    }
   ],
   "source": [
    "#df = df.months_owned.apply(l)\n",
    "df.months_owned = df.months_owned.apply(lambda x: x*-1 if x<0 else x)\n",
    "df.months_owned.describe()"
   ]
  },
  {
   "cell_type": "markdown",
   "metadata": {},
   "source": [
    "## Investigate the vehicles with small EV_range values."
   ]
  },
  {
   "cell_type": "code",
   "execution_count": 368,
   "metadata": {},
   "outputs": [
    {
     "data": {
      "text/plain": [
       "phev    401\n",
       "Name: ev_type, dtype: int64"
      ]
     },
     "execution_count": 368,
     "metadata": {},
     "output_type": "execute_result"
    }
   ],
   "source": [
    "a  = df.loc[ev_survey_wrangled_hasna.electric_range < 50]\n",
    "a.ev_type.value_counts()\n"
   ]
  },
  {
   "cell_type": "code",
   "execution_count": 369,
   "metadata": {
    "scrolled": false
   },
   "outputs": [
    {
     "data": {
      "image/png": "[encoded data removed]",
      "text/plain": [
       "<Figure size 720x720 with 1 Axes>"
      ]
     },
     "metadata": {
      "needs_background": "light"
     },
     "output_type": "display_data"
    },
    {
     "name": "stdout",
     "output_type": "stream",
     "text": [
      "bev     1109\n",
      "phev     799\n",
      "Name: ev_type, dtype: int64\n"
     ]
    }
   ],
   "source": [
    "seabornhist(size=(10,10), data=df, hue_c ='ev_type', x='electric_range')\n",
    "plt.show()\n",
    "print(df.ev_type.value_counts())"
   ]
  },
  {
   "cell_type": "code",
   "execution_count": 370,
   "metadata": {},
   "outputs": [
    {
     "data": {
      "image/png": "[encoded data removed]",
      "text/plain": [
       "<Figure size 720x720 with 1 Axes>"
      ]
     },
     "metadata": {
      "needs_background": "light"
     },
     "output_type": "display_data"
    }
   ],
   "source": [
    "seaborncount(size=(10,10), data=df, hue_c ='discontinuance', x='ev_type')\n",
    "plt.show()"
   ]
  },
  {
   "cell_type": "markdown",
   "metadata": {},
   "source": [
    "The low ev_range vehicles are all PHEV (Hybrid vehicles) so the low values are explainable. \n",
    "The ratio of continuance to discontinuance is also similar for BEV and PHEV."
   ]
  },
  {
   "cell_type": "markdown",
   "metadata": {},
   "source": [
    "## Remove the vehicles with the ev_range missing"
   ]
  },
  {
   "cell_type": "markdown",
   "metadata": {},
   "source": [
    "In this case, the only one missing is the \"Zero\", which is a motorcycle and will be removed"
   ]
  },
  {
   "cell_type": "code",
   "execution_count": 371,
   "metadata": {},
   "outputs": [
    {
     "data": {
      "text/html": [
       "<div>\n",
       "<style scoped>\n",
       "    .dataframe tbody tr th:only-of-type {\n",
       "        vertical-align: middle;\n",
       "    }\n",
       "\n",
       "    .dataframe tbody tr th {\n",
       "        vertical-align: top;\n",
       "    }\n",
       "\n",
       "    .dataframe thead th {\n",
       "        text-align: right;\n",
       "    }\n",
       "</style>\n",
       "<table border=\"1\" class=\"dataframe\">\n",
       "  <thead>\n",
       "    <tr style=\"text-align: right;\">\n",
       "      <th></th>\n",
       "      <th>response_id</th>\n",
       "      <th>year_submitted_survey_2</th>\n",
       "      <th>months_owned</th>\n",
       "      <th>model_year</th>\n",
       "      <th>Make</th>\n",
       "      <th>Model</th>\n",
       "      <th>electric_range</th>\n",
       "      <th>ev_type</th>\n",
       "      <th>discontinuance</th>\n",
       "      <th>surveyed_age</th>\n",
       "      <th>...</th>\n",
       "      <th>reliability_satisfaction</th>\n",
       "      <th>range_satisfaction</th>\n",
       "      <th>charge_access_satisfaction</th>\n",
       "      <th>adas_satisfaction</th>\n",
       "      <th>household_income</th>\n",
       "      <th>home_charge_type</th>\n",
       "      <th>work_charge_type</th>\n",
       "      <th>highest_charge_used</th>\n",
       "      <th>backup_vehicle_mpg</th>\n",
       "      <th>finance_type</th>\n",
       "    </tr>\n",
       "  </thead>\n",
       "  <tbody>\n",
       "    <tr>\n",
       "      <th>1917</th>\n",
       "      <td>1988.0</td>\n",
       "      <td>2019.0</td>\n",
       "      <td>38.0</td>\n",
       "      <td>2014</td>\n",
       "      <td>zero</td>\n",
       "      <td>ds 11.4 kwh battery</td>\n",
       "      <td>NaN</td>\n",
       "      <td>bev</td>\n",
       "      <td>continued</td>\n",
       "      <td>55.0</td>\n",
       "      <td>...</td>\n",
       "      <td>5.0</td>\n",
       "      <td>4.0</td>\n",
       "      <td>2.0</td>\n",
       "      <td>3.0</td>\n",
       "      <td>$150,000 to $199,999</td>\n",
       "      <td>level 1</td>\n",
       "      <td>level 1</td>\n",
       "      <td>level 1</td>\n",
       "      <td>95.0</td>\n",
       "      <td>0.0</td>\n",
       "    </tr>\n",
       "  </tbody>\n",
       "</table>\n",
       "<p>1 rows × 29 columns</p>\n",
       "</div>"
      ],
      "text/plain": [
       "      response_id  year_submitted_survey_2  months_owned model_year  Make  \\\n",
       "1917       1988.0                   2019.0          38.0       2014  zero   \n",
       "\n",
       "                    Model  electric_range ev_type discontinuance  \\\n",
       "1917  ds 11.4 kwh battery             NaN     bev      continued   \n",
       "\n",
       "      surveyed_age  ... reliability_satisfaction  range_satisfaction  \\\n",
       "1917          55.0  ...                      5.0                 4.0   \n",
       "\n",
       "      charge_access_satisfaction  adas_satisfaction      household_income  \\\n",
       "1917                         2.0                3.0  $150,000 to $199,999   \n",
       "\n",
       "      home_charge_type  work_charge_type  highest_charge_used  \\\n",
       "1917           level 1           level 1              level 1   \n",
       "\n",
       "      backup_vehicle_mpg  finance_type  \n",
       "1917                95.0           0.0  \n",
       "\n",
       "[1 rows x 29 columns]"
      ]
     },
     "execution_count": 371,
     "metadata": {},
     "output_type": "execute_result"
    }
   ],
   "source": [
    "nan_ev_type = df.loc[df.electric_range.isnull()]\n",
    "nan_ev_type.head()\n",
    "#To-Do: Drop the record"
   ]
  },
  {
   "cell_type": "markdown",
   "metadata": {},
   "source": [
    "## What's going on with the very short one way trips? Anything we can learn?"
   ]
  },
  {
   "cell_type": "code",
   "execution_count": 372,
   "metadata": {},
   "outputs": [
    {
     "data": {
      "image/png": "[encoded data removed]",
      "text/plain": [
       "<Figure size 720x720 with 1 Axes>"
      ]
     },
     "metadata": {
      "needs_background": "light"
     },
     "output_type": "display_data"
    }
   ],
   "source": [
    "short_trips = df.loc[df.dist_1 < 100]\n",
    "seabornhist(size= (10,10), data= short_trips, hue_c='discontinuance', x='dist_1' )"
   ]
  },
  {
   "cell_type": "markdown",
   "metadata": {},
   "source": [
    "Interestingly, the people who decide to continue EV ownership and commute over short distances for work are greater than those who discontinue."
   ]
  },
  {
   "cell_type": "code",
   "execution_count": 373,
   "metadata": {},
   "outputs": [
    {
     "name": "stdout",
     "output_type": "stream",
     "text": [
      "<class 'pandas.core.frame.DataFrame'>\n",
      "Int64Index: 1947 entries, 0 to 4833\n",
      "Data columns (total 29 columns):\n",
      " #   Column                        Non-Null Count  Dtype  \n",
      "---  ------                        --------------  -----  \n",
      " 0   response_id                   1947 non-null   float64\n",
      " 1   year_submitted_survey_2       1947 non-null   float64\n",
      " 2   months_owned                  1851 non-null   float64\n",
      " 3   model_year                    1947 non-null   object \n",
      " 4   Make                          1947 non-null   object \n",
      " 5   Model                         1947 non-null   object \n",
      " 6   electric_range                1946 non-null   float64\n",
      " 7   ev_type                       1946 non-null   object \n",
      " 8   discontinuance                1947 non-null   object \n",
      " 9   surveyed_age                  1872 non-null   float64\n",
      " 10  surveyed_gender               1899 non-null   object \n",
      " 11  dist_1                        1615 non-null   float64\n",
      " 12  trips_greater_200             1947 non-null   float64\n",
      " 13  safety_satisfaction           1753 non-null   float64\n",
      " 14  comfort_satisfaction          1753 non-null   float64\n",
      " 15  refuel_recharge_satisfaction  1753 non-null   float64\n",
      " 16  performance_satisfaction      1753 non-null   float64\n",
      " 17  env_impact_satisfaction       1753 non-null   float64\n",
      " 18  purch_price_satisfaction      1753 non-null   float64\n",
      " 19  reliability_satisfaction      1753 non-null   float64\n",
      " 20  range_satisfaction            1753 non-null   float64\n",
      " 21  charge_access_satisfaction    1753 non-null   float64\n",
      " 22  adas_satisfaction             1753 non-null   float64\n",
      " 23  household_income              1724 non-null   object \n",
      " 24  home_charge_type              1947 non-null   object \n",
      " 25  work_charge_type              1121 non-null   object \n",
      " 26  highest_charge_used           1370 non-null   object \n",
      " 27  backup_vehicle_mpg            1587 non-null   float64\n",
      " 28  finance_type                  1947 non-null   float64\n",
      "dtypes: float64(19), object(10)\n",
      "memory usage: 520.9+ KB\n"
     ]
    }
   ],
   "source": [
    "df.loc[((df.ev_type.isnull()) & (df.electric_range == 300.0)),'ev_type'] = 'hyd'\n",
    "df.info()"
   ]
  },
  {
   "cell_type": "markdown",
   "metadata": {},
   "source": [
    "### What about outliers?"
   ]
  },
  {
   "cell_type": "markdown",
   "metadata": {},
   "source": [
    "It turns out there are 2 people in the survey who noted a commute distance > 1500 miles. One is a Cherolet Volt Hybrid and the second is a Tesla Model S."
   ]
  },
  {
   "cell_type": "code",
   "execution_count": 374,
   "metadata": {},
   "outputs": [
    {
     "data": {
      "image/png": "[encoded data removed]",
      "text/plain": [
       "<Figure size 432x288 with 1 Axes>"
      ]
     },
     "metadata": {
      "needs_background": "light"
     },
     "output_type": "display_data"
    }
   ],
   "source": [
    "ax = sns.stripplot(data=df,\n",
    "                  x='discontinuance',\n",
    "                  y='dist_1',\n",
    "                  hue='ev_type',\n",
    "                  jitter=0.25)"
   ]
  },
  {
   "cell_type": "code",
   "execution_count": 375,
   "metadata": {},
   "outputs": [],
   "source": [
    "df.to_pickle(\"EDA_cleaned_data.pkl\")"
   ]
  },
  {
   "cell_type": "code",
   "execution_count": 376,
   "metadata": {},
   "outputs": [],
   "source": [
    "raw_output = pd.read_pickle(\"EDA_cleaned_data.pkl\")"
   ]
  },
  {
   "cell_type": "code",
   "execution_count": 378,
   "metadata": {},
   "outputs": [
    {
     "data": {
      "text/html": [
       "<div>\n",
       "<style scoped>\n",
       "    .dataframe tbody tr th:only-of-type {\n",
       "        vertical-align: middle;\n",
       "    }\n",
       "\n",
       "    .dataframe tbody tr th {\n",
       "        vertical-align: top;\n",
       "    }\n",
       "\n",
       "    .dataframe thead th {\n",
       "        text-align: right;\n",
       "    }\n",
       "</style>\n",
       "<table border=\"1\" class=\"dataframe\">\n",
       "  <thead>\n",
       "    <tr style=\"text-align: right;\">\n",
       "      <th></th>\n",
       "      <th>response_id</th>\n",
       "      <th>year_submitted_survey_2</th>\n",
       "      <th>months_owned</th>\n",
       "      <th>model_year</th>\n",
       "      <th>Make</th>\n",
       "      <th>Model</th>\n",
       "      <th>electric_range</th>\n",
       "      <th>ev_type</th>\n",
       "      <th>discontinuance</th>\n",
       "      <th>surveyed_age</th>\n",
       "      <th>...</th>\n",
       "      <th>reliability_satisfaction</th>\n",
       "      <th>range_satisfaction</th>\n",
       "      <th>charge_access_satisfaction</th>\n",
       "      <th>adas_satisfaction</th>\n",
       "      <th>household_income</th>\n",
       "      <th>home_charge_type</th>\n",
       "      <th>work_charge_type</th>\n",
       "      <th>highest_charge_used</th>\n",
       "      <th>backup_vehicle_mpg</th>\n",
       "      <th>finance_type</th>\n",
       "    </tr>\n",
       "  </thead>\n",
       "  <tbody>\n",
       "    <tr>\n",
       "      <th>0</th>\n",
       "      <td>1.0</td>\n",
       "      <td>2019.0</td>\n",
       "      <td>24.0</td>\n",
       "      <td>2016</td>\n",
       "      <td>bmw</td>\n",
       "      <td>i3</td>\n",
       "      <td>81.0</td>\n",
       "      <td>phev</td>\n",
       "      <td>continued</td>\n",
       "      <td>25.0</td>\n",
       "      <td>...</td>\n",
       "      <td>5.0</td>\n",
       "      <td>5.0</td>\n",
       "      <td>5.0</td>\n",
       "      <td>5.0</td>\n",
       "      <td>$150,000 to $199,999</td>\n",
       "      <td>no charging</td>\n",
       "      <td>no charging</td>\n",
       "      <td>level 2</td>\n",
       "      <td>25.0</td>\n",
       "      <td>1.0</td>\n",
       "    </tr>\n",
       "    <tr>\n",
       "      <th>6</th>\n",
       "      <td>7.0</td>\n",
       "      <td>2019.0</td>\n",
       "      <td>14.0</td>\n",
       "      <td>2016</td>\n",
       "      <td>fiat</td>\n",
       "      <td>500e</td>\n",
       "      <td>87.0</td>\n",
       "      <td>bev</td>\n",
       "      <td>continued</td>\n",
       "      <td>35.0</td>\n",
       "      <td>...</td>\n",
       "      <td>4.0</td>\n",
       "      <td>1.0</td>\n",
       "      <td>3.0</td>\n",
       "      <td>3.0</td>\n",
       "      <td>$50,000 to $99,999</td>\n",
       "      <td>level 1</td>\n",
       "      <td>no charging</td>\n",
       "      <td>level 2</td>\n",
       "      <td>82.0</td>\n",
       "      <td>1.0</td>\n",
       "    </tr>\n",
       "    <tr>\n",
       "      <th>9</th>\n",
       "      <td>11.0</td>\n",
       "      <td>2019.0</td>\n",
       "      <td>48.0</td>\n",
       "      <td>2015</td>\n",
       "      <td>nissan</td>\n",
       "      <td>leaf</td>\n",
       "      <td>84.0</td>\n",
       "      <td>bev</td>\n",
       "      <td>discontinued</td>\n",
       "      <td>55.0</td>\n",
       "      <td>...</td>\n",
       "      <td>3.0</td>\n",
       "      <td>1.0</td>\n",
       "      <td>2.0</td>\n",
       "      <td>1.0</td>\n",
       "      <td>i prefer not to answer</td>\n",
       "      <td>level 1</td>\n",
       "      <td>no charging</td>\n",
       "      <td>no charging</td>\n",
       "      <td>24.0</td>\n",
       "      <td>1.0</td>\n",
       "    </tr>\n",
       "    <tr>\n",
       "      <th>10</th>\n",
       "      <td>12.0</td>\n",
       "      <td>2019.0</td>\n",
       "      <td>30.0</td>\n",
       "      <td>2015</td>\n",
       "      <td>bmw</td>\n",
       "      <td>i3</td>\n",
       "      <td>81.0</td>\n",
       "      <td>phev</td>\n",
       "      <td>continued</td>\n",
       "      <td>55.0</td>\n",
       "      <td>...</td>\n",
       "      <td>5.0</td>\n",
       "      <td>2.0</td>\n",
       "      <td>3.0</td>\n",
       "      <td>3.0</td>\n",
       "      <td>$100,000 to $149,999</td>\n",
       "      <td>level 2</td>\n",
       "      <td>level 1</td>\n",
       "      <td>no charging</td>\n",
       "      <td>34.0</td>\n",
       "      <td>1.0</td>\n",
       "    </tr>\n",
       "    <tr>\n",
       "      <th>11</th>\n",
       "      <td>13.0</td>\n",
       "      <td>2019.0</td>\n",
       "      <td>31.0</td>\n",
       "      <td>2016</td>\n",
       "      <td>volkswagen</td>\n",
       "      <td>e-golf</td>\n",
       "      <td>84.0</td>\n",
       "      <td>bev</td>\n",
       "      <td>continued</td>\n",
       "      <td>35.0</td>\n",
       "      <td>...</td>\n",
       "      <td>5.0</td>\n",
       "      <td>2.0</td>\n",
       "      <td>4.0</td>\n",
       "      <td>2.0</td>\n",
       "      <td>$150,000 to $199,999</td>\n",
       "      <td>level 1</td>\n",
       "      <td>level 1</td>\n",
       "      <td>level 1 &amp; level 2</td>\n",
       "      <td>NaN</td>\n",
       "      <td>1.0</td>\n",
       "    </tr>\n",
       "  </tbody>\n",
       "</table>\n",
       "<p>5 rows × 29 columns</p>\n",
       "</div>"
      ],
      "text/plain": [
       "    response_id  year_submitted_survey_2  months_owned model_year        Make  \\\n",
       "0           1.0                   2019.0          24.0       2016         bmw   \n",
       "6           7.0                   2019.0          14.0       2016        fiat   \n",
       "9          11.0                   2019.0          48.0       2015      nissan   \n",
       "10         12.0                   2019.0          30.0       2015         bmw   \n",
       "11         13.0                   2019.0          31.0       2016  volkswagen   \n",
       "\n",
       "     Model  electric_range ev_type discontinuance  surveyed_age  ...  \\\n",
       "0       i3            81.0    phev      continued          25.0  ...   \n",
       "6     500e            87.0     bev      continued          35.0  ...   \n",
       "9     leaf            84.0     bev   discontinued          55.0  ...   \n",
       "10      i3            81.0    phev      continued          55.0  ...   \n",
       "11  e-golf            84.0     bev      continued          35.0  ...   \n",
       "\n",
       "   reliability_satisfaction  range_satisfaction  charge_access_satisfaction  \\\n",
       "0                       5.0                 5.0                         5.0   \n",
       "6                       4.0                 1.0                         3.0   \n",
       "9                       3.0                 1.0                         2.0   \n",
       "10                      5.0                 2.0                         3.0   \n",
       "11                      5.0                 2.0                         4.0   \n",
       "\n",
       "    adas_satisfaction        household_income  home_charge_type  \\\n",
       "0                 5.0    $150,000 to $199,999       no charging   \n",
       "6                 3.0      $50,000 to $99,999           level 1   \n",
       "9                 1.0  i prefer not to answer           level 1   \n",
       "10                3.0    $100,000 to $149,999           level 2   \n",
       "11                2.0    $150,000 to $199,999           level 1   \n",
       "\n",
       "    work_charge_type  highest_charge_used  backup_vehicle_mpg  finance_type  \n",
       "0        no charging              level 2                25.0           1.0  \n",
       "6        no charging              level 2                82.0           1.0  \n",
       "9        no charging          no charging                24.0           1.0  \n",
       "10           level 1          no charging                34.0           1.0  \n",
       "11           level 1    level 1 & level 2                 NaN           1.0  \n",
       "\n",
       "[5 rows x 29 columns]"
      ]
     },
     "execution_count": 378,
     "metadata": {},
     "output_type": "execute_result"
    }
   ],
   "source": [
    "raw_output.head()"
   ]
  },
  {
   "cell_type": "markdown",
   "metadata": {},
   "source": [
    "## Below this is the data preprocessing and modeling stage"
   ]
  },
  {
   "cell_type": "markdown",
   "metadata": {},
   "source": [
    "### Prepare the categorical variables for modeling"
   ]
  },
  {
   "cell_type": "markdown",
   "metadata": {},
   "source": [
    "Determine whether the catrgorical variables should be ordinally encoded or one hot encoded"
   ]
  },
  {
   "cell_type": "code",
   "execution_count": 313,
   "metadata": {},
   "outputs": [
    {
     "name": "stdout",
     "output_type": "stream",
     "text": [
      "<class 'pandas.core.frame.DataFrame'>\n",
      "Int64Index: 1947 entries, 0 to 4833\n",
      "Data columns (total 29 columns):\n",
      " #   Column                        Non-Null Count  Dtype  \n",
      "---  ------                        --------------  -----  \n",
      " 0   response_id                   1947 non-null   float64\n",
      " 1   year_submitted_survey_2       1947 non-null   float64\n",
      " 2   months_owned                  1851 non-null   float64\n",
      " 3   model_year                    1947 non-null   object \n",
      " 4   Make                          1947 non-null   object \n",
      " 5   Model                         1947 non-null   object \n",
      " 6   electric_range                1946 non-null   float64\n",
      " 7   ev_type                       1946 non-null   object \n",
      " 8   discontinuance                1947 non-null   object \n",
      " 9   surveyed_age                  1872 non-null   float64\n",
      " 10  surveyed_gender               1899 non-null   object \n",
      " 11  dist_1                        1615 non-null   float64\n",
      " 12  trips_greater_200             1947 non-null   float64\n",
      " 13  safety_satisfaction           1753 non-null   float64\n",
      " 14  comfort_satisfaction          1753 non-null   float64\n",
      " 15  refuel_recharge_satisfaction  1753 non-null   float64\n",
      " 16  performance_satisfaction      1753 non-null   float64\n",
      " 17  env_impact_satisfaction       1753 non-null   float64\n",
      " 18  purch_price_satisfaction      1753 non-null   float64\n",
      " 19  reliability_satisfaction      1753 non-null   float64\n",
      " 20  range_satisfaction            1753 non-null   float64\n",
      " 21  charge_access_satisfaction    1753 non-null   float64\n",
      " 22  adas_satisfaction             1753 non-null   float64\n",
      " 23  household_income              1724 non-null   object \n",
      " 24  home_charge_type              1947 non-null   object \n",
      " 25  work_charge_type              1121 non-null   object \n",
      " 26  highest_charge_used           1370 non-null   object \n",
      " 27  backup_vehicle_mpg            1587 non-null   float64\n",
      " 28  finance_type                  1947 non-null   float64\n",
      "dtypes: float64(19), object(10)\n",
      "memory usage: 520.9+ KB\n"
     ]
    }
   ],
   "source": [
    "df.info()"
   ]
  },
  {
   "cell_type": "markdown",
   "metadata": {},
   "source": [
    "### Fill in the nan values with reasonable estimates"
   ]
  },
  {
   "cell_type": "code",
   "execution_count": 314,
   "metadata": {},
   "outputs": [
    {
     "data": {
      "text/plain": [
       "\" df.work_charge_type.mode()[0]\\nprint(df.work_charge_type.value_counts())\\ndf.fillna(value = {\\n                   'work_charge_type' : df.work_charge_type.mode()[0],\\n   \\n                   },\\n                    inplace= True)\\n                    \""
      ]
     },
     "execution_count": 314,
     "metadata": {},
     "output_type": "execute_result"
    }
   ],
   "source": [
    "\"\"\" df.work_charge_type.mode()[0]\n",
    "print(df.work_charge_type.value_counts())\n",
    "df.fillna(value = {\n",
    "                   'work_charge_type' : df.work_charge_type.mode()[0],\n",
    "   \n",
    "                   },\n",
    "                    inplace= True)\n",
    "                    \"\"\""
   ]
  },
  {
   "cell_type": "code",
   "execution_count": 315,
   "metadata": {},
   "outputs": [
    {
     "name": "stdout",
     "output_type": "stream",
     "text": [
      "no charging    571\n",
      "level 2        346\n",
      "level 1        191\n",
      "dc fast         13\n",
      "Name: work_charge_type, dtype: int64\n"
     ]
    }
   ],
   "source": [
    "print(df.work_charge_type.value_counts())"
   ]
  },
  {
   "cell_type": "code",
   "execution_count": 316,
   "metadata": {},
   "outputs": [],
   "source": [
    "df.fillna(value = {'months_owned' : df.months_owned.mean(),\n",
    "                   'electric_range' : df.electric_range.mean(),\n",
    "                   'ev_type' : df.ev_type.mode()[0],\n",
    "                   'surveyed_age' : df.surveyed_age.mean(),\n",
    "                   'surveyed_gender' : df.surveyed_gender.mode()[0],\n",
    "                   'dist_1' : df.dist_1.mode()[0],\n",
    "                   'safety_satisfaction': df.safety_satisfaction.mode()[0],\n",
    "                   'comfort_satisfaction': df.comfort_satisfaction.mode()[0],\n",
    "                   'refuel_recharge_satisfaction': df.refuel_recharge_satisfaction.mode()[0],\n",
    "                   'performance_satisfaction' : df.performance_satisfaction.mode()[0],\n",
    "                   'env_impact_satisfaction' : df.env_impact_satisfaction.mode()[0],\n",
    "                   'purch_price_satisfaction' : df.purch_price_satisfaction.mode()[0],\n",
    "                   'reliability_satisfaction' : df.reliability_satisfaction.mode()[0],\n",
    "                   'range_satisfaction' : df.range_satisfaction.mode()[0],\n",
    "                   'charge_access_satisfaction': df.charge_access_satisfaction.mode()[0],\n",
    "                   'adas_satisfaction' : df.adas_satisfaction.mode()[0],\n",
    "                   'household_income' : df.household_income.mode()[0],\n",
    "                   'work_charge_type' : df.work_charge_type.mode()[0],\n",
    "                   'backup_vehicle_mpg' : df.backup_vehicle_mpg.mean(),\n",
    "                   'highest_charge_used' : df.highest_charge_used.mode()[0],\n",
    "                   },\n",
    "                    inplace= True)"
   ]
  },
  {
   "cell_type": "code",
   "execution_count": 317,
   "metadata": {},
   "outputs": [
    {
     "name": "stdout",
     "output_type": "stream",
     "text": [
      "<class 'pandas.core.frame.DataFrame'>\n",
      "Int64Index: 1947 entries, 0 to 4833\n",
      "Data columns (total 29 columns):\n",
      " #   Column                        Non-Null Count  Dtype  \n",
      "---  ------                        --------------  -----  \n",
      " 0   response_id                   1947 non-null   float64\n",
      " 1   year_submitted_survey_2       1947 non-null   float64\n",
      " 2   months_owned                  1947 non-null   float64\n",
      " 3   model_year                    1947 non-null   object \n",
      " 4   Make                          1947 non-null   object \n",
      " 5   Model                         1947 non-null   object \n",
      " 6   electric_range                1947 non-null   float64\n",
      " 7   ev_type                       1947 non-null   object \n",
      " 8   discontinuance                1947 non-null   object \n",
      " 9   surveyed_age                  1947 non-null   float64\n",
      " 10  surveyed_gender               1947 non-null   object \n",
      " 11  dist_1                        1947 non-null   float64\n",
      " 12  trips_greater_200             1947 non-null   float64\n",
      " 13  safety_satisfaction           1947 non-null   float64\n",
      " 14  comfort_satisfaction          1947 non-null   float64\n",
      " 15  refuel_recharge_satisfaction  1947 non-null   float64\n",
      " 16  performance_satisfaction      1947 non-null   float64\n",
      " 17  env_impact_satisfaction       1947 non-null   float64\n",
      " 18  purch_price_satisfaction      1947 non-null   float64\n",
      " 19  reliability_satisfaction      1947 non-null   float64\n",
      " 20  range_satisfaction            1947 non-null   float64\n",
      " 21  charge_access_satisfaction    1947 non-null   float64\n",
      " 22  adas_satisfaction             1947 non-null   float64\n",
      " 23  household_income              1947 non-null   object \n",
      " 24  home_charge_type              1947 non-null   object \n",
      " 25  work_charge_type              1947 non-null   object \n",
      " 26  highest_charge_used           1947 non-null   object \n",
      " 27  backup_vehicle_mpg            1947 non-null   float64\n",
      " 28  finance_type                  1947 non-null   float64\n",
      "dtypes: float64(19), object(10)\n",
      "memory usage: 520.9+ KB\n"
     ]
    }
   ],
   "source": [
    "df.info()"
   ]
  },
  {
   "cell_type": "code",
   "execution_count": 318,
   "metadata": {},
   "outputs": [
    {
     "data": {
      "text/plain": [
       "no charging    1397\n",
       "level 2         346\n",
       "level 1         191\n",
       "dc fast          13\n",
       "Name: work_charge_type, dtype: int64"
      ]
     },
     "execution_count": 318,
     "metadata": {},
     "output_type": "execute_result"
    }
   ],
   "source": [
    "df.work_charge_type.value_counts()"
   ]
  },
  {
   "cell_type": "code",
   "execution_count": 319,
   "metadata": {},
   "outputs": [
    {
     "name": "stdout",
     "output_type": "stream",
     "text": [
      "$150,000 to $199,999      538\n",
      "$100,000 to $149,999      312\n",
      "i prefer not to answer    256\n",
      "$200,000 to $249,999      196\n",
      "$50,000 to $99,999        178\n",
      "$250,000 to $299,999      127\n",
      "$500,000 or more          120\n",
      "$300,000 to $349,999       76\n",
      "$350,000 to $399,999       54\n",
      "less than $50,000          40\n",
      "$400,000 to $449,999       29\n",
      "$450,000 to $499,999       21\n",
      "Name: household_income, dtype: int64\n",
      "['$150,000 to $199,999' '$50,000 to $99,999' 'i prefer not to answer'\n",
      " '$100,000 to $149,999' '$350,000 to $399,999' '$500,000 or more'\n",
      " '$250,000 to $299,999' '$300,000 to $349,999' 'less than $50,000'\n",
      " '$200,000 to $249,999' '$400,000 to $449,999' '$450,000 to $499,999']\n"
     ]
    }
   ],
   "source": [
    "print(df.household_income.value_counts())\n",
    "print(df.household_income.unique())"
   ]
  },
  {
   "cell_type": "code",
   "execution_count": 320,
   "metadata": {},
   "outputs": [
    {
     "data": {
      "text/plain": [
       "level 2        882\n",
       "level 1        749\n",
       "no charging    316\n",
       "Name: home_charge_type, dtype: int64"
      ]
     },
     "execution_count": 320,
     "metadata": {},
     "output_type": "execute_result"
    }
   ],
   "source": [
    "df.home_charge_type.value_counts()"
   ]
  },
  {
   "cell_type": "code",
   "execution_count": 321,
   "metadata": {},
   "outputs": [
    {
     "name": "stdout",
     "output_type": "stream",
     "text": [
      "home_charge_type\n",
      "2.0                 882\n",
      "1.0                 749\n",
      "0.0                 316\n",
      "dtype: int64\n"
     ]
    }
   ],
   "source": [
    "#Oridinally encode the home charge type\n",
    "home_charge_ids = ['no charging', 'level 1', 'level 2' ]\n",
    "encoder = OrdinalEncoder(categories=[home_charge_ids])\n",
    "df2 = df['home_charge_type']\n",
    "df2.head()\n",
    "df3 = encoder.fit_transform(df2.values.reshape(-1,1))\n",
    "df3.shape\n",
    "type(df3)\n",
    "df4 = pd.DataFrame(df3, columns = ['home_charge_type'])\n",
    "print(df4.value_counts())\n",
    "df4.head()\n",
    "df['home_charge_type'] = df4.values"
   ]
  },
  {
   "cell_type": "code",
   "execution_count": 322,
   "metadata": {},
   "outputs": [
    {
     "data": {
      "text/plain": [
       "2.0    882\n",
       "1.0    749\n",
       "0.0    316\n",
       "Name: home_charge_type, dtype: int64"
      ]
     },
     "execution_count": 322,
     "metadata": {},
     "output_type": "execute_result"
    }
   ],
   "source": [
    "df.home_charge_type.value_counts()"
   ]
  },
  {
   "cell_type": "code",
   "execution_count": 323,
   "metadata": {},
   "outputs": [
    {
     "name": "stdout",
     "output_type": "stream",
     "text": [
      "(1947, 1)\n"
     ]
    }
   ],
   "source": [
    "#Oridinally encode the work charge type\n",
    "work_charge_ids = ['no charging', 'level 1', 'level 2', 'dc fast']\n",
    "encoder = OrdinalEncoder(categories=[work_charge_ids])\n",
    "df2 = df['work_charge_type']\n",
    "df2.head()\n",
    "df3 = encoder.fit_transform(df2.values.reshape(-1,1))\n",
    "print(df3.shape)\n",
    "type(df3)\n",
    "df4 = pd.DataFrame(df3, columns = ['work_charge_type'])\n",
    "df4.head()\n",
    "df['work_charge_type'] = df4.values"
   ]
  },
  {
   "cell_type": "code",
   "execution_count": 324,
   "metadata": {},
   "outputs": [
    {
     "name": "stdout",
     "output_type": "stream",
     "text": [
      "(1947, 1)\n"
     ]
    },
    {
     "data": {
      "text/plain": [
       "0.0    1397\n",
       "2.0     346\n",
       "1.0     191\n",
       "3.0      13\n",
       "Name: work_charge_type, dtype: int64"
      ]
     },
     "execution_count": 324,
     "metadata": {},
     "output_type": "execute_result"
    }
   ],
   "source": [
    "print(df4.shape)\n",
    "df.work_charge_type.value_counts()"
   ]
  },
  {
   "cell_type": "code",
   "execution_count": 325,
   "metadata": {},
   "outputs": [],
   "source": [
    "#Oridinally encode the income level\n",
    "income_ids = ['i prefer not to answer','less than $50,000', '$50,000 to $99,999',\n",
    "             '$100,000 to $149,999', '$150,000 to $199,999', '$200,000 to $249,999',\n",
    "             '$250,000 to $299,999', '$300,000 to $349,999', '$350,000 to $399,999',\n",
    "             '$400,000 to $449,999', '$450,000 to $499,999', '$500,000 or more']\n",
    "encoder = OrdinalEncoder(categories=[income_ids])\n",
    "df2 = df['household_income']\n",
    "df2.head()\n",
    "df3 = encoder.fit_transform(df2.values.reshape(-1,1))\n",
    "df3.shape\n",
    "type(df3)\n",
    "df4 = pd.DataFrame(df3, columns = ['household_income'])\n",
    "df4.head()\n",
    "df['household_income'] = df4.values\n"
   ]
  },
  {
   "cell_type": "code",
   "execution_count": 326,
   "metadata": {},
   "outputs": [
    {
     "data": {
      "text/plain": [
       "4.0     538\n",
       "3.0     312\n",
       "0.0     256\n",
       "5.0     196\n",
       "2.0     178\n",
       "6.0     127\n",
       "11.0    120\n",
       "7.0      76\n",
       "8.0      54\n",
       "1.0      40\n",
       "9.0      29\n",
       "10.0     21\n",
       "Name: household_income, dtype: int64"
      ]
     },
     "execution_count": 326,
     "metadata": {},
     "output_type": "execute_result"
    }
   ],
   "source": [
    "df.household_income.value_counts()"
   ]
  },
  {
   "cell_type": "code",
   "execution_count": 327,
   "metadata": {},
   "outputs": [
    {
     "name": "stdout",
     "output_type": "stream",
     "text": [
      "<class 'pandas.core.frame.DataFrame'>\n",
      "Int64Index: 1947 entries, 0 to 4833\n",
      "Data columns (total 29 columns):\n",
      " #   Column                        Non-Null Count  Dtype  \n",
      "---  ------                        --------------  -----  \n",
      " 0   response_id                   1947 non-null   float64\n",
      " 1   year_submitted_survey_2       1947 non-null   float64\n",
      " 2   months_owned                  1947 non-null   float64\n",
      " 3   model_year                    1947 non-null   object \n",
      " 4   Make                          1947 non-null   object \n",
      " 5   Model                         1947 non-null   object \n",
      " 6   electric_range                1947 non-null   float64\n",
      " 7   ev_type                       1947 non-null   object \n",
      " 8   discontinuance                1947 non-null   object \n",
      " 9   surveyed_age                  1947 non-null   float64\n",
      " 10  surveyed_gender               1947 non-null   object \n",
      " 11  dist_1                        1947 non-null   float64\n",
      " 12  trips_greater_200             1947 non-null   float64\n",
      " 13  safety_satisfaction           1947 non-null   float64\n",
      " 14  comfort_satisfaction          1947 non-null   float64\n",
      " 15  refuel_recharge_satisfaction  1947 non-null   float64\n",
      " 16  performance_satisfaction      1947 non-null   float64\n",
      " 17  env_impact_satisfaction       1947 non-null   float64\n",
      " 18  purch_price_satisfaction      1947 non-null   float64\n",
      " 19  reliability_satisfaction      1947 non-null   float64\n",
      " 20  range_satisfaction            1947 non-null   float64\n",
      " 21  charge_access_satisfaction    1947 non-null   float64\n",
      " 22  adas_satisfaction             1947 non-null   float64\n",
      " 23  household_income              1947 non-null   float64\n",
      " 24  home_charge_type              1947 non-null   float64\n",
      " 25  work_charge_type              1947 non-null   float64\n",
      " 26  highest_charge_used           1947 non-null   object \n",
      " 27  backup_vehicle_mpg            1947 non-null   float64\n",
      " 28  finance_type                  1947 non-null   float64\n",
      "dtypes: float64(22), object(7)\n",
      "memory usage: 520.9+ KB\n"
     ]
    }
   ],
   "source": [
    "df.info()"
   ]
  },
  {
   "cell_type": "markdown",
   "metadata": {},
   "source": [
    "### One Hot Encode the non ordinal categorical variables"
   ]
  },
  {
   "cell_type": "code",
   "execution_count": 328,
   "metadata": {},
   "outputs": [],
   "source": [
    "one_hot_columns = ['model_year', 'Make', 'Model', 'ev_type', 'highest_charge_used', 'surveyed_gender' ]\n"
   ]
  },
  {
   "cell_type": "code",
   "execution_count": 329,
   "metadata": {},
   "outputs": [],
   "source": [
    "df.head()\n",
    "df = pd.get_dummies(df,columns=one_hot_columns)\n"
   ]
  },
  {
   "cell_type": "code",
   "execution_count": 331,
   "metadata": {},
   "outputs": [
    {
     "data": {
      "text/html": [
       "<div>\n",
       "<style scoped>\n",
       "    .dataframe tbody tr th:only-of-type {\n",
       "        vertical-align: middle;\n",
       "    }\n",
       "\n",
       "    .dataframe tbody tr th {\n",
       "        vertical-align: top;\n",
       "    }\n",
       "\n",
       "    .dataframe thead th {\n",
       "        text-align: right;\n",
       "    }\n",
       "</style>\n",
       "<table border=\"1\" class=\"dataframe\">\n",
       "  <thead>\n",
       "    <tr style=\"text-align: right;\">\n",
       "      <th></th>\n",
       "      <th>response_id</th>\n",
       "      <th>year_submitted_survey_2</th>\n",
       "      <th>months_owned</th>\n",
       "      <th>electric_range</th>\n",
       "      <th>discontinuance</th>\n",
       "      <th>surveyed_age</th>\n",
       "      <th>dist_1</th>\n",
       "      <th>trips_greater_200</th>\n",
       "      <th>safety_satisfaction</th>\n",
       "      <th>comfort_satisfaction</th>\n",
       "      <th>...</th>\n",
       "      <th>highest_charge_used_level 1 &amp; level 2</th>\n",
       "      <th>highest_charge_used_level 1, level 2 &amp; dc fast</th>\n",
       "      <th>highest_charge_used_level 2</th>\n",
       "      <th>highest_charge_used_level 2 &amp; dc fast</th>\n",
       "      <th>highest_charge_used_no charging</th>\n",
       "      <th>surveyed_gender_decline to state</th>\n",
       "      <th>surveyed_gender_female</th>\n",
       "      <th>surveyed_gender_genderqueer/non-binary</th>\n",
       "      <th>surveyed_gender_male</th>\n",
       "      <th>surveyed_gender_transfemale/transwoman</th>\n",
       "    </tr>\n",
       "  </thead>\n",
       "  <tbody>\n",
       "    <tr>\n",
       "      <th>0</th>\n",
       "      <td>1.0</td>\n",
       "      <td>2019.0</td>\n",
       "      <td>24.0</td>\n",
       "      <td>81.0</td>\n",
       "      <td>continued</td>\n",
       "      <td>25.0</td>\n",
       "      <td>13.92</td>\n",
       "      <td>0.0</td>\n",
       "      <td>5.0</td>\n",
       "      <td>5.0</td>\n",
       "      <td>...</td>\n",
       "      <td>0</td>\n",
       "      <td>0</td>\n",
       "      <td>1</td>\n",
       "      <td>0</td>\n",
       "      <td>0</td>\n",
       "      <td>0</td>\n",
       "      <td>0</td>\n",
       "      <td>0</td>\n",
       "      <td>1</td>\n",
       "      <td>0</td>\n",
       "    </tr>\n",
       "    <tr>\n",
       "      <th>6</th>\n",
       "      <td>7.0</td>\n",
       "      <td>2019.0</td>\n",
       "      <td>14.0</td>\n",
       "      <td>87.0</td>\n",
       "      <td>continued</td>\n",
       "      <td>35.0</td>\n",
       "      <td>8.54</td>\n",
       "      <td>0.0</td>\n",
       "      <td>2.0</td>\n",
       "      <td>2.0</td>\n",
       "      <td>...</td>\n",
       "      <td>0</td>\n",
       "      <td>0</td>\n",
       "      <td>1</td>\n",
       "      <td>0</td>\n",
       "      <td>0</td>\n",
       "      <td>0</td>\n",
       "      <td>0</td>\n",
       "      <td>0</td>\n",
       "      <td>1</td>\n",
       "      <td>0</td>\n",
       "    </tr>\n",
       "    <tr>\n",
       "      <th>9</th>\n",
       "      <td>11.0</td>\n",
       "      <td>2019.0</td>\n",
       "      <td>48.0</td>\n",
       "      <td>84.0</td>\n",
       "      <td>discontinued</td>\n",
       "      <td>55.0</td>\n",
       "      <td>12.91</td>\n",
       "      <td>0.0</td>\n",
       "      <td>3.0</td>\n",
       "      <td>2.0</td>\n",
       "      <td>...</td>\n",
       "      <td>0</td>\n",
       "      <td>0</td>\n",
       "      <td>0</td>\n",
       "      <td>0</td>\n",
       "      <td>1</td>\n",
       "      <td>0</td>\n",
       "      <td>0</td>\n",
       "      <td>0</td>\n",
       "      <td>1</td>\n",
       "      <td>0</td>\n",
       "    </tr>\n",
       "    <tr>\n",
       "      <th>10</th>\n",
       "      <td>12.0</td>\n",
       "      <td>2019.0</td>\n",
       "      <td>30.0</td>\n",
       "      <td>81.0</td>\n",
       "      <td>continued</td>\n",
       "      <td>55.0</td>\n",
       "      <td>9.43</td>\n",
       "      <td>0.0</td>\n",
       "      <td>4.0</td>\n",
       "      <td>4.0</td>\n",
       "      <td>...</td>\n",
       "      <td>0</td>\n",
       "      <td>0</td>\n",
       "      <td>0</td>\n",
       "      <td>0</td>\n",
       "      <td>1</td>\n",
       "      <td>0</td>\n",
       "      <td>0</td>\n",
       "      <td>0</td>\n",
       "      <td>1</td>\n",
       "      <td>0</td>\n",
       "    </tr>\n",
       "    <tr>\n",
       "      <th>11</th>\n",
       "      <td>13.0</td>\n",
       "      <td>2019.0</td>\n",
       "      <td>31.0</td>\n",
       "      <td>84.0</td>\n",
       "      <td>continued</td>\n",
       "      <td>35.0</td>\n",
       "      <td>16.32</td>\n",
       "      <td>0.0</td>\n",
       "      <td>5.0</td>\n",
       "      <td>5.0</td>\n",
       "      <td>...</td>\n",
       "      <td>1</td>\n",
       "      <td>0</td>\n",
       "      <td>0</td>\n",
       "      <td>0</td>\n",
       "      <td>0</td>\n",
       "      <td>0</td>\n",
       "      <td>0</td>\n",
       "      <td>0</td>\n",
       "      <td>1</td>\n",
       "      <td>0</td>\n",
       "    </tr>\n",
       "  </tbody>\n",
       "</table>\n",
       "<p>5 rows × 124 columns</p>\n",
       "</div>"
      ],
      "text/plain": [
       "    response_id  year_submitted_survey_2  months_owned  electric_range  \\\n",
       "0           1.0                   2019.0          24.0            81.0   \n",
       "6           7.0                   2019.0          14.0            87.0   \n",
       "9          11.0                   2019.0          48.0            84.0   \n",
       "10         12.0                   2019.0          30.0            81.0   \n",
       "11         13.0                   2019.0          31.0            84.0   \n",
       "\n",
       "   discontinuance  surveyed_age  dist_1  trips_greater_200  \\\n",
       "0       continued          25.0   13.92                0.0   \n",
       "6       continued          35.0    8.54                0.0   \n",
       "9    discontinued          55.0   12.91                0.0   \n",
       "10      continued          55.0    9.43                0.0   \n",
       "11      continued          35.0   16.32                0.0   \n",
       "\n",
       "    safety_satisfaction  comfort_satisfaction  ...  \\\n",
       "0                   5.0                   5.0  ...   \n",
       "6                   2.0                   2.0  ...   \n",
       "9                   3.0                   2.0  ...   \n",
       "10                  4.0                   4.0  ...   \n",
       "11                  5.0                   5.0  ...   \n",
       "\n",
       "    highest_charge_used_level 1 & level 2  \\\n",
       "0                                       0   \n",
       "6                                       0   \n",
       "9                                       0   \n",
       "10                                      0   \n",
       "11                                      1   \n",
       "\n",
       "    highest_charge_used_level 1, level 2 & dc fast  \\\n",
       "0                                                0   \n",
       "6                                                0   \n",
       "9                                                0   \n",
       "10                                               0   \n",
       "11                                               0   \n",
       "\n",
       "    highest_charge_used_level 2  highest_charge_used_level 2 & dc fast  \\\n",
       "0                             1                                      0   \n",
       "6                             1                                      0   \n",
       "9                             0                                      0   \n",
       "10                            0                                      0   \n",
       "11                            0                                      0   \n",
       "\n",
       "    highest_charge_used_no charging  surveyed_gender_decline to state  \\\n",
       "0                                 0                                 0   \n",
       "6                                 0                                 0   \n",
       "9                                 1                                 0   \n",
       "10                                1                                 0   \n",
       "11                                0                                 0   \n",
       "\n",
       "    surveyed_gender_female  surveyed_gender_genderqueer/non-binary  \\\n",
       "0                        0                                       0   \n",
       "6                        0                                       0   \n",
       "9                        0                                       0   \n",
       "10                       0                                       0   \n",
       "11                       0                                       0   \n",
       "\n",
       "    surveyed_gender_male  surveyed_gender_transfemale/transwoman  \n",
       "0                      1                                       0  \n",
       "6                      1                                       0  \n",
       "9                      1                                       0  \n",
       "10                     1                                       0  \n",
       "11                     1                                       0  \n",
       "\n",
       "[5 rows x 124 columns]"
      ]
     },
     "execution_count": 331,
     "metadata": {},
     "output_type": "execute_result"
    }
   ],
   "source": [
    "df.head()"
   ]
  },
  {
   "cell_type": "code",
   "execution_count": 332,
   "metadata": {},
   "outputs": [
    {
     "data": {
      "text/plain": [
       "\"I think you need o ectrct the cvolumns to ordinal encode aas a subset, they apply the mapping and joun it back in\\n\\nordinal_dict.items()\\n\\nordinal_dict = {}\\nordinal_dict['home_charge_type'] = ['no charging', 'level 1', 'level 2' ]\\nfor key, value in ordinal_dict.items():\\n    encoder = OrdinalEncoder(categories=values)\\n    print(df[f'{key}'].values.reshape(-1,1))\\n    #print(df[f'{key}'].values.reshape(-1,1))\\n    df[f'{key}'] = encoder.fit_transform(df[f'{key}'].values.reshape(-1,1))\\n    #encoder.fit_transform(df[f'{key}'])\\n    print(encoder)\\n    \\nprint(ordinal_enc_dict['household_income'].categories_, '\\n')\\nprint(ordinal_enc_dict['home_charge_type'].categories_, '\\n')\\nprint(ordinal_enc_dict['work_charge_type'].categories_, '\\n')\\nprint(ordinal_enc_dict['highest_charge_used'].categories_, '\\n')\\n\""
      ]
     },
     "execution_count": 332,
     "metadata": {},
     "output_type": "execute_result"
    }
   ],
   "source": [
    "\"\"\"I think you need o ectrct the cvolumns to ordinal encode aas a subset, they apply the mapping and joun it back in\n",
    "\n",
    "ordinal_dict.items()\n",
    "\n",
    "ordinal_dict = {}\n",
    "ordinal_dict['home_charge_type'] = ['no charging', 'level 1', 'level 2' ]\n",
    "for key, value in ordinal_dict.items():\n",
    "    encoder = OrdinalEncoder(categories=values)\n",
    "    print(df[f'{key}'].values.reshape(-1,1))\n",
    "    #print(df[f'{key}'].values.reshape(-1,1))\n",
    "    df[f'{key}'] = encoder.fit_transform(df[f'{key}'].values.reshape(-1,1))\n",
    "    #encoder.fit_transform(df[f'{key}'])\n",
    "    print(encoder)\n",
    "    \n",
    "print(ordinal_enc_dict['household_income'].categories_, '\\n')\n",
    "print(ordinal_enc_dict['home_charge_type'].categories_, '\\n')\n",
    "print(ordinal_enc_dict['work_charge_type'].categories_, '\\n')\n",
    "print(ordinal_enc_dict['highest_charge_used'].categories_, '\\n')\n",
    "\"\"\""
   ]
  },
  {
   "cell_type": "code",
   "execution_count": 333,
   "metadata": {},
   "outputs": [
    {
     "data": {
      "text/plain": [
       "\"\\nordinal_enc_dict = {}\\n\\nfor col_name in ordinal:\\n    # Create Ordinal encoder for col\\n    ordinal_enc_dict[col_name] = OrdinalEncoder()\\n    col = df[col_name]\\n    #print(ordinal_enc_dict)\\n    #print(col.head())\\n    col_not_null = col[col.notnull()]\\n    reshaped_vals = col_not_null.values.reshape(-1, 1)\\n    encoded_vals = ordinal_enc_dict[col_name].fit_transform(reshaped_vals)\\n    df.loc[col.notnull(), col_name] = np.squeeze(encoded_vals)\\n    \\ndf.head()\\nprint(*ordinal_enc_dict.items(), sep='\\n')\\n\""
      ]
     },
     "execution_count": 333,
     "metadata": {},
     "output_type": "execute_result"
    }
   ],
   "source": [
    "\"\"\"\n",
    "ordinal_enc_dict = {}\n",
    "\n",
    "for col_name in ordinal:\n",
    "    # Create Ordinal encoder for col\n",
    "    ordinal_enc_dict[col_name] = OrdinalEncoder()\n",
    "    col = df[col_name]\n",
    "    #print(ordinal_enc_dict)\n",
    "    #print(col.head())\n",
    "    col_not_null = col[col.notnull()]\n",
    "    reshaped_vals = col_not_null.values.reshape(-1, 1)\n",
    "    encoded_vals = ordinal_enc_dict[col_name].fit_transform(reshaped_vals)\n",
    "    df.loc[col.notnull(), col_name] = np.squeeze(encoded_vals)\n",
    "    \n",
    "df.head()\n",
    "print(*ordinal_enc_dict.items(), sep='\\n')\n",
    "\"\"\""
   ]
  },
  {
   "cell_type": "markdown",
   "metadata": {},
   "source": [
    "### Remove columns that don't add value like the year submitted"
   ]
  },
  {
   "cell_type": "code",
   "execution_count": 334,
   "metadata": {},
   "outputs": [],
   "source": [
    "df.drop(columns='year_submitted_survey_2', inplace=True)"
   ]
  },
  {
   "cell_type": "code",
   "execution_count": 335,
   "metadata": {},
   "outputs": [
    {
     "data": {
      "text/plain": [
       "['response_id',\n",
       " 'months_owned',\n",
       " 'electric_range',\n",
       " 'discontinuance',\n",
       " 'surveyed_age',\n",
       " 'dist_1',\n",
       " 'trips_greater_200',\n",
       " 'safety_satisfaction',\n",
       " 'comfort_satisfaction',\n",
       " 'refuel_recharge_satisfaction',\n",
       " 'performance_satisfaction',\n",
       " 'env_impact_satisfaction',\n",
       " 'purch_price_satisfaction',\n",
       " 'reliability_satisfaction',\n",
       " 'range_satisfaction',\n",
       " 'charge_access_satisfaction',\n",
       " 'adas_satisfaction',\n",
       " 'household_income',\n",
       " 'home_charge_type',\n",
       " 'work_charge_type',\n",
       " 'backup_vehicle_mpg',\n",
       " 'finance_type',\n",
       " 'model_year_1915',\n",
       " 'model_year_2001',\n",
       " 'model_year_2011',\n",
       " 'model_year_2012',\n",
       " 'model_year_2013',\n",
       " 'model_year_2014',\n",
       " 'model_year_2015',\n",
       " 'model_year_2016',\n",
       " 'model_year_2017',\n",
       " 'model_year_2018',\n",
       " 'Make_',\n",
       " 'Make_audi',\n",
       " 'Make_bmw',\n",
       " 'Make_cadillac',\n",
       " 'Make_chevrolet',\n",
       " 'Make_chevy',\n",
       " 'Make_fiat',\n",
       " 'Make_ford',\n",
       " 'Make_honda',\n",
       " 'Make_hyundai',\n",
       " 'Make_kia',\n",
       " 'Make_mercedes-benz',\n",
       " 'Make_mitsubishi',\n",
       " 'Make_nissan',\n",
       " 'Make_smart',\n",
       " 'Make_tesla',\n",
       " 'Make_toyota',\n",
       " 'Make_volkswagen',\n",
       " 'Make_volkswagon',\n",
       " 'Make_zero',\n",
       " 'Model_ chevrolet volt',\n",
       " 'Model_ model x',\n",
       " 'Model_ prius plug-in',\n",
       " 'Model_ volt',\n",
       " 'Model_500e',\n",
       " 'Model_85 s',\n",
       " 'Model_a3 sportback e-tron',\n",
       " 'Model_accord plug-in hybrid',\n",
       " 'Model_b-class electric drive',\n",
       " 'Model_b250e',\n",
       " 'Model_bolt ev',\n",
       " 'Model_c-max energi',\n",
       " 'Model_c-max energi plug-in hybrid',\n",
       " 'Model_clarity fuel cell',\n",
       " 'Model_ds 11.4 kwh battery',\n",
       " 'Model_e-golf',\n",
       " 'Model_e-gulf',\n",
       " 'Model_ecmax',\n",
       " 'Model_egolf',\n",
       " 'Model_elr',\n",
       " 'Model_ev ranger',\n",
       " 'Model_fit ev',\n",
       " 'Model_focus electric',\n",
       " 'Model_fortwo',\n",
       " 'Model_fortwo electric drive convertible',\n",
       " 'Model_fusion energi',\n",
       " 'Model_i-miev',\n",
       " 'Model_i3',\n",
       " 'Model_i3 bev (94 amp-hour battery)',\n",
       " 'Model_i3 rex',\n",
       " 'Model_i3 rex  (94 amp-hour battery)',\n",
       " 'Model_i8',\n",
       " 'Model_ioniq electric',\n",
       " 'Model_leaf',\n",
       " 'Model_mirai',\n",
       " 'Model_model 3 long range',\n",
       " 'Model_model s',\n",
       " 'Model_model s (60 kw-hr battery pack)',\n",
       " 'Model_model s (75 kw-hr battery pack)',\n",
       " 'Model_model x',\n",
       " 'Model_model x 75d',\n",
       " 'Model_prius',\n",
       " 'Model_prius plug-in',\n",
       " 'Model_prius prime',\n",
       " 'Model_rav4 ev',\n",
       " 'Model_s-class',\n",
       " 'Model_sonata plug-in hybrid',\n",
       " 'Model_soul ev',\n",
       " 'Model_spark ev',\n",
       " 'Model_tucson',\n",
       " 'Model_tucson fuel cell',\n",
       " 'Model_tuscan',\n",
       " 'Model_tuscon',\n",
       " 'Model_tuscon fcv',\n",
       " 'Model_volt',\n",
       " 'ev_type_bev',\n",
       " 'ev_type_hyd',\n",
       " 'ev_type_phev',\n",
       " 'highest_charge_used_dc fast',\n",
       " 'highest_charge_used_level 1',\n",
       " 'highest_charge_used_level 1 & dc fast',\n",
       " 'highest_charge_used_level 1 & level 2',\n",
       " 'highest_charge_used_level 1, level 2 & dc fast',\n",
       " 'highest_charge_used_level 2',\n",
       " 'highest_charge_used_level 2 & dc fast',\n",
       " 'highest_charge_used_no charging',\n",
       " 'surveyed_gender_decline to state',\n",
       " 'surveyed_gender_female',\n",
       " 'surveyed_gender_genderqueer/non-binary',\n",
       " 'surveyed_gender_male',\n",
       " 'surveyed_gender_transfemale/transwoman']"
      ]
     },
     "execution_count": 335,
     "metadata": {},
     "output_type": "execute_result"
    }
   ],
   "source": [
    "df.columns.to_list()"
   ]
  },
  {
   "cell_type": "code",
   "execution_count": 336,
   "metadata": {},
   "outputs": [],
   "source": [
    "df_preprocessed = df"
   ]
  },
  {
   "cell_type": "code",
   "execution_count": 337,
   "metadata": {},
   "outputs": [],
   "source": [
    "df_preprocessed.discontinuance\n",
    "y = df_preprocessed.discontinuance\n",
    "y.head()\n",
    "df_preprocessed.drop(columns = 'discontinuance', inplace=True)\n",
    "X = df_preprocessed"
   ]
  },
  {
   "cell_type": "code",
   "execution_count": 338,
   "metadata": {},
   "outputs": [],
   "source": [
    "# dont forget to define your X and y\n",
    "\n",
    "X_train, X_test, y_train, y_test = train_test_split(X, y, test_size=.2, random_state=1)"
   ]
  },
  {
   "cell_type": "code",
   "execution_count": 339,
   "metadata": {},
   "outputs": [],
   "source": [
    "# build scaler based on training data and apply it to test data to then also scale the test data\n",
    "scaler = preprocessing.StandardScaler().fit(X_train)\n",
    "X_train_scaled=scaler.transform(X_train)\n",
    "X_test_scaled=scaler.transform(X_test)"
   ]
  },
  {
   "cell_type": "code",
   "execution_count": 340,
   "metadata": {},
   "outputs": [
    {
     "data": {
      "text/plain": [
       "3725    discontinued\n",
       "1895    discontinued\n",
       "1767       continued\n",
       "4035    discontinued\n",
       "3150       continued\n",
       "            ...     \n",
       "4459       continued\n",
       "2870       continued\n",
       "4805       continued\n",
       "672        continued\n",
       "2802       continued\n",
       "Name: discontinuance, Length: 1557, dtype: object"
      ]
     },
     "execution_count": 340,
     "metadata": {},
     "output_type": "execute_result"
    }
   ],
   "source": [
    "X_train\n",
    "y_train"
   ]
  },
  {
   "cell_type": "code",
   "execution_count": 341,
   "metadata": {},
   "outputs": [
    {
     "name": "stdout",
     "output_type": "stream",
     "text": [
      "Random Forest: Accuracy=0.797\n",
      "Random Forest: f1-score=0.732\n"
     ]
    }
   ],
   "source": [
    "clf = RandomForestClassifier(n_estimators=300, random_state = 1,n_jobs=-1)\n",
    "model_res = clf.fit(X_train_scaled, y_train)\n",
    "y_pred = model_res.predict(X_test_scaled)\n",
    "y_pred_prob = model_res.predict_proba(X_test_scaled)\n",
    "lr_probs = y_pred_prob[:,1]\n",
    "ac = accuracy_score(y_test, y_pred)\n",
    "\n",
    "f1 = f1_score(y_test, y_pred, average='weighted')\n",
    "cm = confusion_matrix(y_test, y_pred)\n",
    "\n",
    "print('Random Forest: Accuracy=%.3f' % (ac))\n",
    "\n",
    "print('Random Forest: f1-score=%.3f' % (f1))"
   ]
  },
  {
   "cell_type": "code",
   "execution_count": null,
   "metadata": {},
   "outputs": [],
   "source": []
  }
 ],
 "metadata": {
  "kernelspec": {
   "display_name": "Python 3",
   "language": "python",
   "name": "python3"
  },
  "language_info": {
   "codemirror_mode": {
    "name": "ipython",
    "version": 3
   },
   "file_extension": ".py",
   "mimetype": "text/x-python",
   "name": "python",
   "nbconvert_exporter": "python",
   "pygments_lexer": "ipython3",
   "version": "3.8.5"
  }
 },
 "nbformat": 4,
 "nbformat_minor": 4
}
